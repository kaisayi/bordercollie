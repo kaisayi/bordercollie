{
  "cells": [
    {
      "cell_type": "markdown",
      "metadata": {
        "collapsed": true,
        "pycharm": {
          "is_executing": false,
          "name": "#%% md\n"
        }
      },
      "source": "# 加载`MNIST`数据集"
    },
    {
      "cell_type": "code",
      "execution_count": 3,
      "outputs": [
        {
          "name": "stderr",
          "text": [
            "Using TensorFlow backend.\n"
          ],
          "output_type": "stream"
        },
        {
          "name": "stdout",
          "text": [
            "(60000, 28, 28) (60000,)\n(10000, 28, 28) (10000,)\n"
          ],
          "output_type": "stream"
        }
      ],
      "source": "from keras.datasets import mnist\n(x_train, y_train), (x_test, y_test) \u003d mnist.load_data(path\u003d\u0027D:\\\\code\\workspace-self\\\\tensorflow-pg\\\\data\\\\mnist\\\\mnist.npz\u0027)\nprint(x_train.shape, y_train.shape)\nprint(x_test.shape, y_test.shape)\n",
      "metadata": {
        "pycharm": {
          "metadata": false,
          "name": "#%%\n",
          "is_executing": false
        }
      }
    },
    {
      "cell_type": "markdown",
      "source": "# 数据处理：规范化\n- `channels_last`: 表示图片格式为 `(batch, height, width, channels)`, 否则为`(batch, channels, height, width)`\n- 可以通过`~/.keras/keras.json`文件中的 `channels_last`参数查看\n",
      "metadata": {
        "pycharm": {
          "metadata": false,
          "name": "#%% md\n"
        }
      }
    },
    {
      "cell_type": "code",
      "execution_count": 5,
      "outputs": [
        {
          "name": "stdout",
          "text": [
            "(60000, 28, 28, 1) (60000,)\n(10000, 28, 28, 1) (10000,)\n"
          ],
          "output_type": "stream"
        }
      ],
      "source": "from keras import backend as K\n\nimg_rows, img_cols \u003d 28, 28\n\nif K.image_data_format() \u003d\u003d \u0027channels_first\u0027:\n    x_train \u003d x_train.reshape(x_train.shape[0], 1, img_rows, img_cols)\n    x_test \u003d x_test.reshape(x_test.shape[0], 1, img_rows, img_cols)\n    input_shape \u003d (1, img_rows, img_cols)\nelse:\n    x_train \u003d x_train.reshape(x_train.shape[0], img_rows, img_cols, 1)\n    x_test \u003d x_test.reshape(x_test.shape[0], img_rows, img_cols, 1)\n    input_shape \u003d (img_rows, img_cols, 1)\n\nprint(x_train.shape, y_train.shape)\nprint(x_test.shape, y_test.shape)\n    ",
      "metadata": {
        "pycharm": {
          "metadata": false,
          "name": "#%%\n",
          "is_executing": false
        }
      }
    },
    {
      "cell_type": "code",
      "execution_count": 6,
      "outputs": [],
      "source": "# 将数据类型转换为`float32`\n# 将数据类型转化为float32\nX_train \u003d x_train.astype(\u0027float32\u0027)\nX_test \u003d x_test.astype(\u0027float32\u0027)\n\n# 归一化\nX_train /\u003d 255\nX_test /\u003d 255\n",
      "metadata": {
        "pycharm": {
          "metadata": false,
          "name": "#%%\n",
          "is_executing": false
        }
      }
    },
    {
      "cell_type": "markdown",
      "source": "# 预测值进行编码`one-hot`\n",
      "metadata": {
        "pycharm": {
          "metadata": false,
          "name": "#%% md\n"
        }
      }
    },
    {
      "cell_type": "code",
      "execution_count": 7,
      "outputs": [
        {
          "name": "stdout",
          "text": [
            "Shape before one-hot encoding:  (60000,)\nShape after one-hot encoding:  (60000, 10)\n"
          ],
          "output_type": "stream"
        }
      ],
      "source": "from keras.utils import np_utils\n\nn_classes \u003d 10\nprint(\"Shape before one-hot encoding: \", y_train.shape)\nY_train \u003d np_utils.to_categorical(y_train, n_classes)\nprint(\"Shape after one-hot encoding: \", Y_train.shape)\nY_test \u003d np_utils.to_categorical(y_test, n_classes)\n",
      "metadata": {
        "pycharm": {
          "metadata": false,
          "name": "#%%\n",
          "is_executing": false
        }
      }
    },
    {
      "cell_type": "markdown",
      "source": "# 使用`Keras sequential model`定义`MNIST CNN`网络\n",
      "metadata": {
        "pycharm": {
          "metadata": false,
          "name": "#%% md\n"
        }
      }
    },
    {
      "cell_type": "code",
      "execution_count": 8,
      "outputs": [],
      "source": "from keras.models import Sequential\nfrom keras.layers import Dense, Dropout, Flatten\nfrom keras.layers import Conv2D, MaxPool2D\n",
      "metadata": {
        "pycharm": {
          "metadata": false,
          "name": "#%%\n",
          "is_executing": false
        }
      }
    },
    {
      "cell_type": "code",
      "execution_count": 9,
      "outputs": [
        {
          "name": "stdout",
          "text": [
            "WARNING:tensorflow:From D:\\programs\\conda\\lib\\site-packages\\tensorflow\\python\\framework\\op_def_library.py:263: colocate_with (from tensorflow.python.framework.ops) is deprecated and will be removed in a future version.\nInstructions for updating:\nColocations handled automatically by placer.\n",
            "WARNING:tensorflow:From D:\\programs\\conda\\lib\\site-packages\\keras\\backend\\tensorflow_backend.py:3445: calling dropout (from tensorflow.python.ops.nn_ops) with keep_prob is deprecated and will be removed in a future version.\nInstructions for updating:\nPlease use `rate` instead of `keep_prob`. Rate should be set to `rate \u003d 1 - keep_prob`.\n"
          ],
          "output_type": "stream"
        }
      ],
      "source": "model \u003d Sequential()\n## Extraction\n# 第一层卷积层，32个3*3的卷积核，激活函数relu\nmodel.add(Conv2D(filters\u003d32, kernel_size\u003d(3, 3), activation\u003d\u0027relu\u0027, input_shape\u003dinput_shape))\n# 第二次卷积，64个3*3的卷积核，激活函数relu\nmodel.add(Conv2D(filters\u003d64, kernel_size\u003d(3, 3), activation\u003d\u0027relu\u0027))\n# 最大池化层，池化窗口 2*2\nmodel.add(MaxPool2D(pool_size\u003d(2, 2)))\n# Dropout\nmodel.add(Dropout(0.25))\n# 摊平\nmodel.add(Flatten())\n\n## Classification\n# 全连接层\nmodel.add(Dense(128, activation\u003d\u0027relu\u0027))\n# Dropout\nmodel.add(Dropout(0.5))\n# 使用 softmax 分类\nmodel.add(Dense(n_classes, activation\u003d\u0027softmax\u0027))\n\n",
      "metadata": {
        "pycharm": {
          "metadata": false,
          "name": "#%%\n",
          "is_executing": false
        }
      }
    },
    {
      "cell_type": "markdown",
      "source": "# 查看`MNIST CNN`模型网络结构\n",
      "metadata": {
        "pycharm": {
          "metadata": false,
          "name": "#%% md\n"
        }
      }
    },
    {
      "cell_type": "code",
      "execution_count": 10,
      "outputs": [
        {
          "name": "stdout",
          "text": [
            "_________________________________________________________________\nLayer (type)                 Output Shape              Param #   \n\u003d\u003d\u003d\u003d\u003d\u003d\u003d\u003d\u003d\u003d\u003d\u003d\u003d\u003d\u003d\u003d\u003d\u003d\u003d\u003d\u003d\u003d\u003d\u003d\u003d\u003d\u003d\u003d\u003d\u003d\u003d\u003d\u003d\u003d\u003d\u003d\u003d\u003d\u003d\u003d\u003d\u003d\u003d\u003d\u003d\u003d\u003d\u003d\u003d\u003d\u003d\u003d\u003d\u003d\u003d\u003d\u003d\u003d\u003d\u003d\u003d\u003d\u003d\u003d\u003d\nconv2d_1 (Conv2D)            (None, 26, 26, 32)        320       \n_________________________________________________________________\nconv2d_2 (Conv2D)            (None, 24, 24, 64)        18496     \n_________________________________________________________________\nmax_pooling2d_1 (MaxPooling2 (None, 12, 12, 64)        0         \n_________________________________________________________________\ndropout_1 (Dropout)          (None, 12, 12, 64)        0         \n_________________________________________________________________\nflatten_1 (Flatten)          (None, 9216)              0         \n_________________________________________________________________\ndense_1 (Dense)              (None, 128)               1179776   \n_________________________________________________________________\ndropout_2 (Dropout)          (None, 128)               0         \n_________________________________________________________________\ndense_2 (Dense)              (None, 10)                1290      \n\u003d\u003d\u003d\u003d\u003d\u003d\u003d\u003d\u003d\u003d\u003d\u003d\u003d\u003d\u003d\u003d\u003d\u003d\u003d\u003d\u003d\u003d\u003d\u003d\u003d\u003d\u003d\u003d\u003d\u003d\u003d\u003d\u003d\u003d\u003d\u003d\u003d\u003d\u003d\u003d\u003d\u003d\u003d\u003d\u003d\u003d\u003d\u003d\u003d\u003d\u003d\u003d\u003d\u003d\u003d\u003d\u003d\u003d\u003d\u003d\u003d\u003d\u003d\u003d\u003d\nTotal params: 1,199,882\nTrainable params: 1,199,882\nNon-trainable params: 0\n_________________________________________________________________\n"
          ],
          "output_type": "stream"
        }
      ],
      "source": "model.summary()\n",
      "metadata": {
        "pycharm": {
          "metadata": false,
          "name": "#%%\n",
          "is_executing": false
        }
      }
    },
    {
      "cell_type": "code",
      "execution_count": 11,
      "outputs": [
        {
          "name": "stdout",
          "text": [
            "[None, 26, 26, 32]\n[None, 24, 24, 64]\n[None, 12, 12, 64]\n[None, 12, 12, 64]\n[None, None]\n[None, 128]\n[None, 128]\n[None, 10]\n"
          ],
          "output_type": "stream"
        }
      ],
      "source": "for layer in model.layers:\n    print(layer.get_output_at(0).get_shape().as_list())\n    ",
      "metadata": {
        "pycharm": {
          "metadata": false,
          "name": "#%%\n",
          "is_executing": false
        }
      }
    },
    {
      "cell_type": "markdown",
      "source": "# 编译模型\n",
      "metadata": {
        "pycharm": {
          "metadata": false,
          "name": "#%% md\n"
        }
      }
    },
    {
      "cell_type": "code",
      "execution_count": 12,
      "outputs": [],
      "source": "model.compile(loss\u003d\u0027categorical_crossentropy\u0027, metrics\u003d[\u0027accuracy\u0027], optimizer\u003d\u0027adam\u0027)\n",
      "metadata": {
        "pycharm": {
          "metadata": false,
          "name": "#%%\n",
          "is_executing": false
        }
      }
    },
    {
      "cell_type": "markdown",
      "source": "# 训练模型，将指标保存到`history`\n",
      "metadata": {
        "pycharm": {
          "metadata": false,
          "name": "#%% md\n"
        }
      }
    },
    {
      "cell_type": "code",
      "execution_count": 13,
      "outputs": [
        {
          "name": "stdout",
          "text": [
            "WARNING:tensorflow:From D:\\programs\\conda\\lib\\site-packages\\tensorflow\\python\\ops\\math_ops.py:3066: to_int32 (from tensorflow.python.ops.math_ops) is deprecated and will be removed in a future version.\nInstructions for updating:\nUse tf.cast instead.\n",
            "Train on 60000 samples, validate on 10000 samples\nEpoch 1/5\n",
            " - 95s - loss: 0.2317 - acc: 0.9308 - val_loss: 0.0508 - val_acc: 0.9836\n",
            "Epoch 2/5\n",
            " - 91s - loss: 0.0797 - acc: 0.9758 - val_loss: 0.0401 - val_acc: 0.9858\n",
            "Epoch 3/5\n",
            " - 90s - loss: 0.0603 - acc: 0.9815 - val_loss: 0.0324 - val_acc: 0.9895\n",
            "Epoch 4/5\n",
            " - 90s - loss: 0.0489 - acc: 0.9848 - val_loss: 0.0334 - val_acc: 0.9888\n",
            "Epoch 5/5\n",
            " - 90s - loss: 0.0413 - acc: 0.9876 - val_loss: 0.0307 - val_acc: 0.9901\n"
          ],
          "output_type": "stream"
        }
      ],
      "source": "history \u003d model.fit(X_train,\n                    Y_train,\n                    batch_size\u003d128,\n                    epochs\u003d5,\n                    verbose\u003d2,\n                    validation_data\u003d(X_test, Y_test))\n",
      "metadata": {
        "pycharm": {
          "metadata": false,
          "name": "#%%\n",
          "is_executing": false
        }
      }
    },
    {
      "cell_type": "code",
      "execution_count": null,
      "outputs": [],
      "source": "\n",
      "metadata": {
        "pycharm": {
          "metadata": false,
          "name": "#%%\n"
        }
      }
    }
  ],
  "metadata": {
    "language_info": {
      "codemirror_mode": {
        "name": "ipython",
        "version": 2
      },
      "file_extension": ".py",
      "mimetype": "text/x-python",
      "name": "python",
      "nbconvert_exporter": "python",
      "pygments_lexer": "ipython2",
      "version": "2.7.6"
    },
    "kernelspec": {
      "name": "python3",
      "language": "python",
      "display_name": "Python 3"
    }
  },
  "nbformat": 4,
  "nbformat_minor": 0
}