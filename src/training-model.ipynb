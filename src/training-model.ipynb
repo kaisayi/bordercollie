{
  "cells": [
    {
      "cell_type": "code",
      "execution_count": 1,
      "metadata": {
        "collapsed": true,
        "pycharm": {
          "is_executing": false
        }
      },
      "outputs": [
        {
          "data": {
            "text/plain": "   ones   LotArea  BedroomAbvGr  SalePrice\n0   1.0 -0.207071      0.163723   0.347154\n1   1.0 -0.091855      0.163723   0.007286\n2   1.0  0.073455      0.163723   0.535970\n3   1.0 -0.096864      0.163723  -0.515105\n4   1.0  0.375020      1.389547   0.869545",
            "text/html": "\u003cdiv\u003e\n\u003cstyle scoped\u003e\n    .dataframe tbody tr th:only-of-type {\n        vertical-align: middle;\n    }\n\n    .dataframe tbody tr th {\n        vertical-align: top;\n    }\n\n    .dataframe thead th {\n        text-align: right;\n    }\n\u003c/style\u003e\n\u003ctable border\u003d\"1\" class\u003d\"dataframe\"\u003e\n  \u003cthead\u003e\n    \u003ctr style\u003d\"text-align: right;\"\u003e\n      \u003cth\u003e\u003c/th\u003e\n      \u003cth\u003eones\u003c/th\u003e\n      \u003cth\u003eLotArea\u003c/th\u003e\n      \u003cth\u003eBedroomAbvGr\u003c/th\u003e\n      \u003cth\u003eSalePrice\u003c/th\u003e\n    \u003c/tr\u003e\n  \u003c/thead\u003e\n  \u003ctbody\u003e\n    \u003ctr\u003e\n      \u003cth\u003e0\u003c/th\u003e\n      \u003ctd\u003e1.0\u003c/td\u003e\n      \u003ctd\u003e-0.207071\u003c/td\u003e\n      \u003ctd\u003e0.163723\u003c/td\u003e\n      \u003ctd\u003e0.347154\u003c/td\u003e\n    \u003c/tr\u003e\n    \u003ctr\u003e\n      \u003cth\u003e1\u003c/th\u003e\n      \u003ctd\u003e1.0\u003c/td\u003e\n      \u003ctd\u003e-0.091855\u003c/td\u003e\n      \u003ctd\u003e0.163723\u003c/td\u003e\n      \u003ctd\u003e0.007286\u003c/td\u003e\n    \u003c/tr\u003e\n    \u003ctr\u003e\n      \u003cth\u003e2\u003c/th\u003e\n      \u003ctd\u003e1.0\u003c/td\u003e\n      \u003ctd\u003e0.073455\u003c/td\u003e\n      \u003ctd\u003e0.163723\u003c/td\u003e\n      \u003ctd\u003e0.535970\u003c/td\u003e\n    \u003c/tr\u003e\n    \u003ctr\u003e\n      \u003cth\u003e3\u003c/th\u003e\n      \u003ctd\u003e1.0\u003c/td\u003e\n      \u003ctd\u003e-0.096864\u003c/td\u003e\n      \u003ctd\u003e0.163723\u003c/td\u003e\n      \u003ctd\u003e-0.515105\u003c/td\u003e\n    \u003c/tr\u003e\n    \u003ctr\u003e\n      \u003cth\u003e4\u003c/th\u003e\n      \u003ctd\u003e1.0\u003c/td\u003e\n      \u003ctd\u003e0.375020\u003c/td\u003e\n      \u003ctd\u003e1.389547\u003c/td\u003e\n      \u003ctd\u003e0.869545\u003c/td\u003e\n    \u003c/tr\u003e\n  \u003c/tbody\u003e\n\u003c/table\u003e\n\u003c/div\u003e"
          },
          "metadata": {},
          "output_type": "execute_result",
          "execution_count": 1
        }
      ],
      "source": "import pandas as pd\nimport numpy as np\n\ndef normalize_feature(d):\n    return d.apply(lambda col: (col - col.mean()) / col.std())\n\ndf0 \u003d pd.read_csv(\u0027../data/house-price/train.csv\u0027)\ndf \u003d normalize_feature(df0[[\u0027LotArea\u0027, \u0027BedroomAbvGr\u0027, \u0027SalePrice\u0027]])\n\nones \u003d pd.DataFrame({\u0027ones\u0027: np.ones(len(df))})\ndf \u003d pd.concat([ones, df], axis\u003d1)\ndf.head()"
    },
    {
      "cell_type": "markdown",
      "source": "# 数据处理 获取 x y",
      "metadata": {
        "pycharm": {
          "metadata": false
        }
      }
    },
    {
      "cell_type": "code",
      "execution_count": 2,
      "outputs": [],
      "source": "import tensorflow as tf\n",
      "metadata": {
        "pycharm": {
          "metadata": false,
          "name": "#%%\n",
          "is_executing": false
        }
      }
    },
    {
      "cell_type": "code",
      "execution_count": 3,
      "outputs": [
        {
          "name": "stdout",
          "text": [
            "(1460, 3) \u003cclass \u0027numpy.ndarray\u0027\u003e\n(1460, 1) \u003cclass \u0027numpy.ndarray\u0027\u003e\n"
          ],
          "output_type": "stream"
        }
      ],
      "source": "X_data \u003d np.array(df[df.columns[0:3]])\ny_data \u003d np.array(df[df.columns[-1]]).reshape(len(df), 1)\n\nprint(X_data.shape, type(X_data))\nprint(y_data.shape, type(y_data))",
      "metadata": {
        "pycharm": {
          "metadata": false,
          "name": "#%%\n",
          "is_executing": false
        }
      }
    },
    {
      "cell_type": "markdown",
      "source": "# 创建线性回归模型",
      "metadata": {
        "pycharm": {
          "metadata": false
        }
      }
    },
    {
      "cell_type": "code",
      "execution_count": 4,
      "outputs": [
        {
          "name": "stdout",
          "text": [
            "WARNING:tensorflow:From D:\\programs\\conda\\lib\\site-packages\\tensorflow\\python\\framework\\op_def_library.py:263: colocate_with (from tensorflow.python.framework.ops) is deprecated and will be removed in a future version.\nInstructions for updating:\nColocations handled automatically by placer.\n"
          ],
          "output_type": "stream"
        }
      ],
      "source": "alpha \u003d 0.01 # 学习率\nepoch \u003d 100 # 训练全量数据集的轮数\n\nwith tf.name_scope(\"input\"):\n    # 输入 x, 形状[1460, 3]\n    X \u003d tf.placeholder(tf.float32, X_data.shape)\n    # 输入 y, 形状[1460, 1]\n    y \u003d tf.placeholder(tf.float32, y_data.shape)\n\nwith tf.name_scope(\"hypothesis\"):\n    # 权重变量, 形状 [3, 1]\n    W \u003d tf.get_variable(\u0027weights\u0027, (X_data.shape[1], 1), initializer\u003dtf.constant_initializer())\n    \n    # 假设函数 h(x) \u003d w0*x0 + w1*x1 + w2*x2, 其中 x0\u003d1\n    # 推理值 y_pred\n    y_pred \u003d tf.matmul(X, W)\n\nwith tf.name_scope(\"loss\"):\n    # 损失函数-最小二乘法\n    # tf.matmul(a, b, transpose_a\u003dTrue) 表示: 矩阵a的转置乘以矩阵b, \n    # 损失函数 loss\n    loss_op \u003d 1 / (2 * len(X_data)) * tf.matmul((y_pred - y), (y_pred - y), transpose_a\u003dTrue)\n\nwith tf.name_scope(\"train\"):\n    # 随机优化器 opt\n    opt \u003d tf.train.GradientDescentOptimizer(learning_rate\u003dalpha)\n    # 单轮训练操作\n    train_op \u003d opt.minimize(loss_op)\n",
      "metadata": {
        "pycharm": {
          "metadata": false,
          "name": "#%% \n",
          "is_executing": false
        }
      }
    },
    {
      "cell_type": "code",
      "execution_count": 5,
      "outputs": [
        {
          "name": "stdout",
          "text": [
            "Epoch 10 \t Loss\u003d0.4908 \t Model: y \u003d 0.02513x1 + 0.01594x2 + -1.906e-10\nEpoch 20 \t Loss\u003d0.4838 \t Model: y \u003d 0.04768x1 + 0.03008x2 + -1.81e-10\nEpoch 30 \t Loss\u003d0.4781 \t Model: y \u003d 0.06792x1 + 0.04263x2 + -2.293e-10\nEpoch 40 \t Loss\u003d0.4736 \t Model: y \u003d 0.0861x1 + 0.05375x2 + -8.644e-11\nEpoch 50 \t Loss\u003d0.47 \t Model: y \u003d 0.1024x1 + 0.06362x2 + -1.953e-10\nEpoch 60 \t Loss\u003d0.4671 \t Model: y \u003d 0.1171x1 + 0.07236x2 + -6.403e-11\nEpoch 70 \t Loss\u003d0.4648 \t Model: y \u003d 0.1302x1 + 0.08011x2 + -5.792e-11\nEpoch 80 \t Loss\u003d0.4629 \t Model: y \u003d 0.142x1 + 0.08698x2 + -3.754e-11\nEpoch 90 \t Loss\u003d0.4614 \t Model: y \u003d 0.1526x1 + 0.09306x2 + 1.965e-10\nEpoch 100 \t Loss\u003d0.4602 \t Model: y \u003d 0.1622x1 + 0.09845x2 + 3.85e-10\n"
          ],
          "output_type": "stream"
        }
      ],
      "source": "with tf.Session() as sess:\n    # 初始化全局变量\n    sess.run(tf.global_variables_initializer())\n    \n    # 创建 FileWriter 实例\n    writer \u003d tf.summary.FileWriter(\"../summary/linear-reg-1/\", sess.graph)\n    # 开始训练模型\n    for e in range(1, epoch+1):\n        sess.run(train_op, feed_dict\u003d{X: X_data, y: y_data})\n        if e % 10 \u003d\u003d 0:\n            loss, w \u003d sess.run([loss_op, W], feed_dict\u003d{X: X_data, y: y_data})\n            log_str \u003d \"Epoch %d \\t Loss\u003d%.4g \\t Model: y \u003d %.4gx1 + %.4gx2 + %.4g\"\n            print(log_str % (e, loss, w[1], w[2], w[0]))\nwriter.close()\n",
      "metadata": {
        "pycharm": {
          "metadata": false,
          "name": "#%%\n",
          "is_executing": false
        }
      }
    },
    {
      "cell_type": "code",
      "execution_count": null,
      "outputs": [],
      "source": "\n",
      "metadata": {
        "pycharm": {
          "metadata": false,
          "name": "#%%\n"
        }
      }
    }
  ],
  "metadata": {
    "language_info": {
      "codemirror_mode": {
        "name": "ipython",
        "version": 2
      },
      "file_extension": ".py",
      "mimetype": "text/x-python",
      "name": "python",
      "nbconvert_exporter": "python",
      "pygments_lexer": "ipython2",
      "version": "2.7.6"
    },
    "kernelspec": {
      "name": "python3",
      "language": "python",
      "display_name": "Python 3"
    }
  },
  "nbformat": 4,
  "nbformat_minor": 0
}