{
  "cells": [
    {
      "cell_type": "markdown",
      "metadata": {
        "collapsed": true,
        "pycharm": {
          "name": "#%% md\n"
        }
      },
      "source": "# 神经网络基础\n\n## 深度神经网络\n\n- Big Data\n- Relu\n- Dropout\n- BatchNorm\n- ResNet\n- Xavier Initialization\n- Caffe/Tensorflow/PyTorch\n"
    },
    {
      "cell_type": "code",
      "execution_count": 1,
      "outputs": [],
      "source": "import tensorflow as tf\n",
      "metadata": {
        "pycharm": {
          "metadata": false,
          "name": "#%%\n",
          "is_executing": false
        }
      }
    },
    {
      "cell_type": "code",
      "execution_count": 2,
      "outputs": [
        {
          "name": "stdout",
          "text": [
            "After net transform, shape of out :  (4, 512)\nShape of w :  (784, 512)\nShape of bias :  (512,)\n"
          ],
          "output_type": "stream"
        }
      ],
      "source": "x \u003d tf.random.normal([4, 784])\nnet \u003d tf.keras.layers.Dense(512)\nout \u003d net(x)\n\nprint(\"After net transform, shape of out : \", out.shape)\nprint(\"Shape of w : \", net.kernel.shape)\nprint(\"Shape of bias : \", net.bias.shape)\n",
      "metadata": {
        "pycharm": {
          "metadata": false,
          "name": "#%%\n",
          "is_executing": false
        }
      }
    },
    {
      "cell_type": "code",
      "execution_count": 3,
      "outputs": [],
      "source": "net \u003d tf.keras.layers.Dense(10)\n",
      "metadata": {
        "pycharm": {
          "metadata": false,
          "name": "#%%\n",
          "is_executing": false
        }
      }
    },
    {
      "cell_type": "code",
      "execution_count": 4,
      "outputs": [
        {
          "traceback": [
            "\u001b[1;31m---------------------------------------------------------------------------\u001b[0m",
            "\u001b[1;31mAttributeError\u001b[0m                            Traceback (most recent call last)",
            "\u001b[1;32m\u003cipython-input-4-1816f21a6a2b\u003e\u001b[0m in \u001b[0;36m\u003cmodule\u003e\u001b[1;34m\u001b[0m\n\u001b[0;32m      1\u001b[0m \u001b[1;31m# bias 还未创建\u001b[0m\u001b[1;33m\u001b[0m\u001b[1;33m\u001b[0m\u001b[0m\n\u001b[1;32m----\u003e 2\u001b[1;33m \u001b[0mnet\u001b[0m\u001b[1;33m.\u001b[0m\u001b[0mbias\u001b[0m\u001b[1;33m\u001b[0m\u001b[0m\n\u001b[0m\u001b[0;32m      3\u001b[0m \u001b[1;33m\u001b[0m\u001b[0m\n",
            "\u001b[1;31mAttributeError\u001b[0m: \u0027Dense\u0027 object has no attribute \u0027bias\u0027"
          ],
          "ename": "AttributeError",
          "evalue": "\u0027Dense\u0027 object has no attribute \u0027bias\u0027",
          "output_type": "error"
        }
      ],
      "source": "# bias 还未创建\nnet.bias\n",
      "metadata": {
        "pycharm": {
          "metadata": false,
          "name": "#%%\n",
          "is_executing": false
        }
      }
    },
    {
      "cell_type": "code",
      "execution_count": 5,
      "outputs": [
        {
          "name": "stdout",
          "text": [
            "net\u0027s weight:  []\nnet\u0027s weight:  []\n"
          ],
          "output_type": "stream"
        }
      ],
      "source": "print(\"net\u0027s weight: \", net.get_weights())\nprint(\"net\u0027s weight: \", net.weights)\n",
      "metadata": {
        "pycharm": {
          "metadata": false,
          "name": "#%%\n",
          "is_executing": false
        }
      }
    },
    {
      "cell_type": "code",
      "execution_count": 6,
      "outputs": [
        {
          "name": "stdout",
          "text": [
            "Shape of w :  (4, 10)\nShape of bias :  (10,)\n"
          ],
          "output_type": "stream"
        }
      ],
      "source": "# build net , 可以多次创建\nnet.build(input_shape\u003d(None, 4))\nprint(\"Shape of w : \", net.kernel.shape)\nprint(\"Shape of bias : \", net.bias.shape)\n",
      "metadata": {
        "pycharm": {
          "metadata": false,
          "name": "#%%\n",
          "is_executing": false
        }
      }
    },
    {
      "cell_type": "code",
      "execution_count": 7,
      "outputs": [
        {
          "name": "stdout",
          "text": [
            "Shape of w :  (20, 10)\nShape of bias :  (10,)\n"
          ],
          "output_type": "stream"
        }
      ],
      "source": "net.build(input_shape\u003d(None, 20))\nprint(\"Shape of w : \", net.kernel.shape)\nprint(\"Shape of bias : \", net.bias.shape)\n",
      "metadata": {
        "pycharm": {
          "metadata": false,
          "name": "#%%\n",
          "is_executing": false
        }
      }
    },
    {
      "cell_type": "code",
      "execution_count": 8,
      "outputs": [
        {
          "name": "stdout",
          "text": [
            "Model: \"sequential\"\n_________________________________________________________________\nLayer (type)                 Output Shape              Param #   \n\u003d\u003d\u003d\u003d\u003d\u003d\u003d\u003d\u003d\u003d\u003d\u003d\u003d\u003d\u003d\u003d\u003d\u003d\u003d\u003d\u003d\u003d\u003d\u003d\u003d\u003d\u003d\u003d\u003d\u003d\u003d\u003d\u003d\u003d\u003d\u003d\u003d\u003d\u003d\u003d\u003d\u003d\u003d\u003d\u003d\u003d\u003d\u003d\u003d\u003d\u003d\u003d\u003d\u003d\u003d\u003d\u003d\u003d\u003d\u003d\u003d\u003d\u003d\u003d\u003d\ndense_2 (Dense)              multiple                  8         \n_________________________________________________________________\ndense_3 (Dense)              multiple                  6         \n_________________________________________________________________\ndense_4 (Dense)              multiple                  6         \n\u003d\u003d\u003d\u003d\u003d\u003d\u003d\u003d\u003d\u003d\u003d\u003d\u003d\u003d\u003d\u003d\u003d\u003d\u003d\u003d\u003d\u003d\u003d\u003d\u003d\u003d\u003d\u003d\u003d\u003d\u003d\u003d\u003d\u003d\u003d\u003d\u003d\u003d\u003d\u003d\u003d\u003d\u003d\u003d\u003d\u003d\u003d\u003d\u003d\u003d\u003d\u003d\u003d\u003d\u003d\u003d\u003d\u003d\u003d\u003d\u003d\u003d\u003d\u003d\u003d\nTotal params: 20\nTrainable params: 20\nNon-trainable params: 0\n_________________________________________________________________\nmodel Summary : \n None\n"
          ],
          "output_type": "stream"
        }
      ],
      "source": "# Sequential 容器\n\nx \u003d tf.random.normal([2, 3])\n\nmodel \u003d tf.keras.Sequential([\n    tf.keras.layers.Dense(2, activation\u003d\u0027relu\u0027),\n    tf.keras.layers.Dense(2, activation\u003d\u0027relu\u0027),\n    tf.keras.layers.Dense(2),\n])\n\nmodel.build(input_shape\u003d[None, 3])\nprint(\"model Summary : \\n\", model.summary())\n",
      "metadata": {
        "pycharm": {
          "metadata": false,
          "name": "#%%\n",
          "is_executing": false
        }
      }
    },
    {
      "cell_type": "code",
      "execution_count": 9,
      "outputs": [
        {
          "name": "stdout",
          "text": [
            "dense_2/kernel:0 (3, 2)\ndense_2/bias:0 (2,)\ndense_3/kernel:0 (2, 2)\ndense_3/bias:0 (2,)\ndense_4/kernel:0 (2, 2)\ndense_4/bias:0 (2,)\n"
          ],
          "output_type": "stream"
        }
      ],
      "source": "for p in model.trainable_variables:\n    print(p.name, p.shape)\n\n",
      "metadata": {
        "pycharm": {
          "metadata": false,
          "name": "#%%\n",
          "is_executing": false
        }
      }
    },
    {
      "cell_type": "markdown",
      "source": "## 输出方式\n\n- $y \\in R^{d}$\n    - linear regression\n    - naive classification with MSE\n- $y_i \\in [0, 1]$\n    - binary classification\n    - image generation(rgb)\n    - $\\sigma$ - function\n- $y_i \\in [-1, 1]$ \n    - tanh\n",
      "metadata": {
        "pycharm": {
          "metadata": false,
          "name": "#%% md\n"
        }
      }
    },
    {
      "cell_type": "code",
      "execution_count": 11,
      "outputs": [
        {
          "name": "stdout",
          "text": [
            "sigmoid(a) \u003d  tf.Tensor(\n[0.00247264 0.00931597 0.03444517 0.11920291 0.33924365 0.6607564\n 0.8807971  0.96555483 0.99068403 0.9975274 ], shape\u003d(10,), dtype\u003dfloat32)\n"
          ],
          "output_type": "stream"
        }
      ],
      "source": "# sigmoid function\n\na \u003d tf.linspace(-6., 6, 10)\nprint(\"sigmoid(a) \u003d \", tf.sigmoid(a))\n",
      "metadata": {
        "pycharm": {
          "metadata": false,
          "name": "#%%\n",
          "is_executing": false
        }
      }
    },
    {
      "cell_type": "code",
      "execution_count": 13,
      "outputs": [
        {
          "data": {
            "text/plain": "(\u003ctf.Tensor: id\u003d264, shape\u003d(), dtype\u003dfloat32, numpy\u003d-20.29687\u003e,\n \u003ctf.Tensor: id\u003d266, shape\u003d(), dtype\u003dfloat32, numpy\u003d15.087424\u003e)"
          },
          "metadata": {},
          "output_type": "execute_result",
          "execution_count": 13
        }
      ],
      "source": "x \u003d tf.random.normal([1, 28, 28]) * 5\n\ntf.reduce_min(x), tf.reduce_max(x)\n",
      "metadata": {
        "pycharm": {
          "metadata": false,
          "name": "#%%\n",
          "is_executing": false
        }
      }
    },
    {
      "cell_type": "code",
      "execution_count": 14,
      "outputs": [
        {
          "data": {
            "text/plain": "(\u003ctf.Tensor: id\u003d299, shape\u003d(), dtype\u003dfloat32, numpy\u003d0.0\u003e,\n \u003ctf.Tensor: id\u003d301, shape\u003d(), dtype\u003dfloat32, numpy\u003d0.99999976\u003e)"
          },
          "metadata": {},
          "output_type": "execute_result",
          "execution_count": 14
        }
      ],
      "source": "x \u003d tf.sigmoid(x)\n\ntf.reduce_min(x), tf.reduce_max(x)\n",
      "metadata": {
        "pycharm": {
          "metadata": false,
          "name": "#%%\n",
          "is_executing": false
        }
      }
    },
    {
      "cell_type": "code",
      "execution_count": 15,
      "outputs": [
        {
          "data": {
            "text/plain": "\u003ctf.Tensor: id\u003d352, shape\u003d(5,), dtype\u003dfloat32, numpy\u003d\narray([0.01165623, 0.03168492, 0.08612854, 0.23412167, 0.6364086 ],\n      dtype\u003dfloat32)\u003e"
          },
          "metadata": {},
          "output_type": "execute_result",
          "execution_count": 15
        }
      ],
      "source": "b \u003d tf.linspace(-2., 2, 5)\ntf.nn.softmax(b)\n\n",
      "metadata": {
        "pycharm": {
          "metadata": false,
          "name": "#%%\n",
          "is_executing": false
        }
      }
    },
    {
      "cell_type": "code",
      "execution_count": 16,
      "outputs": [
        {
          "name": "stdout",
          "text": [
            "Logits :  tf.Tensor(\n[[-0.9800911   1.3957143  -1.9753623  -0.734632   -0.7043357  -0.42098284\n   0.12055969 -0.05920219  1.0760355   0.27005243]], shape\u003d(1, 10), dtype\u003dfloat32)\n"
          ],
          "output_type": "stream"
        }
      ],
      "source": "logits \u003d tf.random.uniform([1, 10], minval\u003d-2, maxval\u003d2)\nprint(\"Logits : \", logits)\n",
      "metadata": {
        "pycharm": {
          "metadata": false,
          "name": "#%%\n",
          "is_executing": false
        }
      }
    },
    {
      "cell_type": "code",
      "execution_count": 17,
      "outputs": [
        {
          "name": "stdout",
          "text": [
            "Probability of logits :  tf.Tensor(\n[[0.03003159 0.3231302  0.01110037 0.03838662 0.03956739 0.05252862\n  0.09027861 0.075425   0.23471604 0.10483559]], shape\u003d(1, 10), dtype\u003dfloat32)\nSum of probs : tf.Tensor([1.], shape\u003d(1,), dtype\u003dfloat32)\n"
          ],
          "output_type": "stream"
        }
      ],
      "source": "prob \u003d tf.nn.softmax(logits, axis\u003d1)\nprint(\"Probability of logits : \", prob)\n\nprint(\"Sum of probs :\", tf.reduce_sum(prob, axis\u003d1))\n",
      "metadata": {
        "pycharm": {
          "metadata": false,
          "name": "#%%\n",
          "is_executing": false
        }
      }
    },
    {
      "cell_type": "markdown",
      "source": "## 误差计算\n\n- MSE \n- Cross Entropy\n",
      "metadata": {
        "pycharm": {
          "metadata": false,
          "name": "#%% md\n"
        }
      }
    },
    {
      "cell_type": "code",
      "execution_count": 18,
      "outputs": [
        {
          "name": "stdout",
          "text": [
            "Entropy of a,  tf.Tensor(2.0, shape\u003d(), dtype\u003dfloat32)\n"
          ],
          "output_type": "stream"
        }
      ],
      "source": "a \u003d tf.fill([4], 0.25)\nprint(\"Entropy of a, \", -tf.reduce_sum(a * tf.math.log(a) / tf.math.log(2.)))\n",
      "metadata": {
        "pycharm": {
          "metadata": false,
          "name": "#%%\n",
          "is_executing": false
        }
      }
    },
    {
      "cell_type": "code",
      "execution_count": 19,
      "outputs": [
        {
          "name": "stdout",
          "text": [
            "Entropy of a,  tf.Tensor(1.3567796, shape\u003d(), dtype\u003dfloat32)\n"
          ],
          "output_type": "stream"
        }
      ],
      "source": "a \u003d tf.constant([0.1, 0.1, 0.1, 0.7])\nprint(\"Entropy of a, \", -tf.reduce_sum(a * tf.math.log(a) / tf.math.log(2.)))\n\n",
      "metadata": {
        "pycharm": {
          "metadata": false,
          "name": "#%%\n",
          "is_executing": false
        }
      }
    },
    {
      "cell_type": "code",
      "execution_count": 20,
      "outputs": [
        {
          "name": "stdout",
          "text": [
            "Entropy of a,  tf.Tensor(0.24194068, shape\u003d(), dtype\u003dfloat32)\n"
          ],
          "output_type": "stream"
        }
      ],
      "source": "a \u003d tf.constant([0.01, 0.01, 0.01, 0.97])\nprint(\"Entropy of a, \", -tf.reduce_sum(a * tf.math.log(a) / tf.math.log(2.)))\n",
      "metadata": {
        "pycharm": {
          "metadata": false,
          "name": "#%%\n",
          "is_executing": false
        }
      }
    },
    {
      "cell_type": "code",
      "execution_count": 21,
      "outputs": [
        {
          "data": {
            "text/plain": "\u003ctf.Tensor: id\u003d758, shape\u003d(), dtype\u003dfloat32, numpy\u003d1.3862944\u003e"
          },
          "metadata": {},
          "output_type": "execute_result",
          "execution_count": 21
        }
      ],
      "source": "# 交叉熵\ntf.losses.categorical_crossentropy([0, 1, 0, 0], [0.25, 0.25, 0.25, 0.25])\n",
      "metadata": {
        "pycharm": {
          "metadata": false,
          "name": "#%%\n",
          "is_executing": false
        }
      }
    },
    {
      "cell_type": "code",
      "execution_count": 22,
      "outputs": [
        {
          "data": {
            "text/plain": "\u003ctf.Tensor: id\u003d839, shape\u003d(), dtype\u003dfloat32, numpy\u003d0.35667497\u003e"
          },
          "metadata": {},
          "output_type": "execute_result",
          "execution_count": 22
        }
      ],
      "source": "tf.losses.categorical_crossentropy([0, 1, 0, 0], [0.1, 0.7, 0.1, 0.1])\n\n",
      "metadata": {
        "pycharm": {
          "metadata": false,
          "name": "#%%\n",
          "is_executing": false
        }
      }
    },
    {
      "cell_type": "code",
      "execution_count": null,
      "outputs": [],
      "source": "\n",
      "metadata": {
        "pycharm": {
          "metadata": false,
          "name": "#%%\n"
        }
      }
    }
  ],
  "metadata": {
    "language_info": {
      "codemirror_mode": {
        "name": "ipython",
        "version": 2
      },
      "file_extension": ".py",
      "mimetype": "text/x-python",
      "name": "python",
      "nbconvert_exporter": "python",
      "pygments_lexer": "ipython2",
      "version": "2.7.6"
    },
    "kernelspec": {
      "name": "python3",
      "language": "python",
      "display_name": "Python 3"
    }
  },
  "nbformat": 4,
  "nbformat_minor": 0
}