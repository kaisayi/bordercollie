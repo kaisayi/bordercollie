{
  "cells": [
    {
      "cell_type": "markdown",
      "metadata": {
        "collapsed": true,
        "pycharm": {
          "name": "#%% md\n"
        }
      },
      "source": "# 数学运算\n\n- +-*/\n- **, pow, square \n\n\n## Operation type\n\n- element-wise: +-*?\n- matrix-wise: @, matmul\n- dim-wise: reduce_mean/max/min/sum\n"
    },
    {
      "cell_type": "code",
      "execution_count": 1,
      "outputs": [],
      "source": "import tensorflow as tf\nfrom tensorflow import keras\n",
      "metadata": {
        "pycharm": {
          "metadata": false,
          "name": "#%%\n",
          "is_executing": false
        }
      }
    },
    {
      "cell_type": "code",
      "execution_count": 2,
      "outputs": [
        {
          "data": {
            "text/plain": "(\u003ctf.Tensor: id\u003d6, shape\u003d(2, 2), dtype\u003dfloat32, numpy\u003d\n array([[3., 3.],\n        [3., 3.]], dtype\u003dfloat32)\u003e,\n \u003ctf.Tensor: id\u003d7, shape\u003d(2, 2), dtype\u003dfloat32, numpy\u003d\n array([[-1., -1.],\n        [-1., -1.]], dtype\u003dfloat32)\u003e,\n \u003ctf.Tensor: id\u003d8, shape\u003d(2, 2), dtype\u003dfloat32, numpy\u003d\n array([[2., 2.],\n        [2., 2.]], dtype\u003dfloat32)\u003e,\n \u003ctf.Tensor: id\u003d9, shape\u003d(2, 2), dtype\u003dfloat32, numpy\u003d\n array([[0.5, 0.5],\n        [0.5, 0.5]], dtype\u003dfloat32)\u003e)"
          },
          "metadata": {},
          "output_type": "execute_result",
          "execution_count": 2
        }
      ],
      "source": "a \u003d tf.ones([2, 2])\nb \u003d tf.fill([2, 2], 2.)\n\na+b, a-b, a*b, a/b\n",
      "metadata": {
        "pycharm": {
          "metadata": false,
          "name": "#%%\n",
          "is_executing": false
        }
      }
    },
    {
      "cell_type": "code",
      "execution_count": 3,
      "outputs": [
        {
          "data": {
            "text/plain": "(\u003ctf.Tensor: id\u003d50, shape\u003d(2, 2), dtype\u003dfloat32, numpy\u003d\n array([[2., 2.],\n        [2., 2.]], dtype\u003dfloat32)\u003e,\n \u003ctf.Tensor: id\u003d51, shape\u003d(2, 2), dtype\u003dfloat32, numpy\u003d\n array([[0., 0.],\n        [0., 0.]], dtype\u003dfloat32)\u003e)"
          },
          "metadata": {},
          "output_type": "execute_result",
          "execution_count": 3
        }
      ],
      "source": "b//a, b%a \n",
      "metadata": {
        "pycharm": {
          "metadata": false,
          "name": "#%%\n",
          "is_executing": false
        }
      }
    },
    {
      "cell_type": "code",
      "execution_count": 4,
      "outputs": [
        {
          "data": {
            "text/plain": "(\u003ctf.Tensor: id\u003d2, shape\u003d(2, 2), dtype\u003dfloat32, numpy\u003d\n array([[1., 1.],\n        [1., 1.]], dtype\u003dfloat32)\u003e,\n \u003ctf.Tensor: id\u003d5, shape\u003d(2, 2), dtype\u003dfloat32, numpy\u003d\n array([[2., 2.],\n        [2., 2.]], dtype\u003dfloat32)\u003e)"
          },
          "metadata": {},
          "output_type": "execute_result",
          "execution_count": 4
        }
      ],
      "source": "a, b \n",
      "metadata": {
        "pycharm": {
          "metadata": false,
          "name": "#%%\n",
          "is_executing": false
        }
      }
    },
    {
      "cell_type": "code",
      "execution_count": 7,
      "outputs": [
        {
          "traceback": [
            "\u001b[1;31m---------------------------------------------------------------------------\u001b[0m",
            "\u001b[1;31mInternalError\u001b[0m                             Traceback (most recent call last)",
            "\u001b[1;32m\u003cipython-input-7-a446d6d090ba\u003e\u001b[0m in \u001b[0;36m\u003cmodule\u003e\u001b[1;34m\u001b[0m\n\u001b[1;32m----\u003e 1\u001b[1;33m \u001b[0mtf\u001b[0m\u001b[1;33m.\u001b[0m\u001b[0mmatmul\u001b[0m\u001b[1;33m(\u001b[0m\u001b[0ma\u001b[0m\u001b[1;33m,\u001b[0m \u001b[0mb\u001b[0m\u001b[1;33m)\u001b[0m\u001b[1;33m\u001b[0m\u001b[0m\n\u001b[0m\u001b[0;32m      2\u001b[0m \u001b[1;33m\u001b[0m\u001b[0m\n",
            "\u001b[1;32md:\\programs\\conda\\envs\\gpu-env\\lib\\site-packages\\tensorflow\\python\\util\\dispatch.py\u001b[0m in \u001b[0;36mwrapper\u001b[1;34m(*args, **kwargs)\u001b[0m\n\u001b[0;32m    178\u001b[0m     \u001b[1;34m\"\"\"Call target, and fall back on dispatchers if there is a TypeError.\"\"\"\u001b[0m\u001b[1;33m\u001b[0m\u001b[0m\n\u001b[0;32m    179\u001b[0m     \u001b[1;32mtry\u001b[0m\u001b[1;33m:\u001b[0m\u001b[1;33m\u001b[0m\u001b[0m\n\u001b[1;32m--\u003e 180\u001b[1;33m       \u001b[1;32mreturn\u001b[0m \u001b[0mtarget\u001b[0m\u001b[1;33m(\u001b[0m\u001b[1;33m*\u001b[0m\u001b[0margs\u001b[0m\u001b[1;33m,\u001b[0m \u001b[1;33m**\u001b[0m\u001b[0mkwargs\u001b[0m\u001b[1;33m)\u001b[0m\u001b[1;33m\u001b[0m\u001b[0m\n\u001b[0m\u001b[0;32m    181\u001b[0m     \u001b[1;32mexcept\u001b[0m \u001b[1;33m(\u001b[0m\u001b[0mTypeError\u001b[0m\u001b[1;33m,\u001b[0m \u001b[0mValueError\u001b[0m\u001b[1;33m)\u001b[0m\u001b[1;33m:\u001b[0m\u001b[1;33m\u001b[0m\u001b[0m\n\u001b[0;32m    182\u001b[0m       \u001b[1;31m# Note: convert_to_eager_tensor currently raises a ValueError, not a\u001b[0m\u001b[1;33m\u001b[0m\u001b[1;33m\u001b[0m\u001b[0m\n",
            "\u001b[1;32md:\\programs\\conda\\envs\\gpu-env\\lib\\site-packages\\tensorflow\\python\\ops\\math_ops.py\u001b[0m in \u001b[0;36mmatmul\u001b[1;34m(a, b, transpose_a, transpose_b, adjoint_a, adjoint_b, a_is_sparse, b_is_sparse, name)\u001b[0m\n\u001b[0;32m   2645\u001b[0m     \u001b[1;32melse\u001b[0m\u001b[1;33m:\u001b[0m\u001b[1;33m\u001b[0m\u001b[0m\n\u001b[0;32m   2646\u001b[0m       return gen_math_ops.mat_mul(\n\u001b[1;32m-\u003e 2647\u001b[1;33m           a, b, transpose_a\u003dtranspose_a, transpose_b\u003dtranspose_b, name\u003dname)\n\u001b[0m\u001b[0;32m   2648\u001b[0m \u001b[1;33m\u001b[0m\u001b[0m\n\u001b[0;32m   2649\u001b[0m \u001b[1;33m\u001b[0m\u001b[0m\n",
            "\u001b[1;32md:\\programs\\conda\\envs\\gpu-env\\lib\\site-packages\\tensorflow\\python\\ops\\gen_math_ops.py\u001b[0m in \u001b[0;36mmat_mul\u001b[1;34m(a, b, transpose_a, transpose_b, name)\u001b[0m\n\u001b[0;32m   6283\u001b[0m       \u001b[1;32melse\u001b[0m\u001b[1;33m:\u001b[0m\u001b[1;33m\u001b[0m\u001b[0m\n\u001b[0;32m   6284\u001b[0m         \u001b[0mmessage\u001b[0m \u001b[1;33m\u003d\u001b[0m \u001b[0me\u001b[0m\u001b[1;33m.\u001b[0m\u001b[0mmessage\u001b[0m\u001b[1;33m\u001b[0m\u001b[0m\n\u001b[1;32m-\u003e 6285\u001b[1;33m       \u001b[0m_six\u001b[0m\u001b[1;33m.\u001b[0m\u001b[0mraise_from\u001b[0m\u001b[1;33m(\u001b[0m\u001b[0m_core\u001b[0m\u001b[1;33m.\u001b[0m\u001b[0m_status_to_exception\u001b[0m\u001b[1;33m(\u001b[0m\u001b[0me\u001b[0m\u001b[1;33m.\u001b[0m\u001b[0mcode\u001b[0m\u001b[1;33m,\u001b[0m \u001b[0mmessage\u001b[0m\u001b[1;33m)\u001b[0m\u001b[1;33m,\u001b[0m \u001b[1;32mNone\u001b[0m\u001b[1;33m)\u001b[0m\u001b[1;33m\u001b[0m\u001b[0m\n\u001b[0m\u001b[0;32m   6286\u001b[0m   \u001b[1;31m# Add nodes to the TensorFlow graph.\u001b[0m\u001b[1;33m\u001b[0m\u001b[1;33m\u001b[0m\u001b[0m\n\u001b[0;32m   6287\u001b[0m   \u001b[1;32mif\u001b[0m \u001b[0mtranspose_a\u001b[0m \u001b[1;32mis\u001b[0m \u001b[1;32mNone\u001b[0m\u001b[1;33m:\u001b[0m\u001b[1;33m\u001b[0m\u001b[0m\n",
            "\u001b[1;32md:\\programs\\conda\\envs\\gpu-env\\lib\\site-packages\\six.py\u001b[0m in \u001b[0;36mraise_from\u001b[1;34m(value, from_value)\u001b[0m\n",
            "\u001b[1;31mInternalError\u001b[0m: Blas GEMM launch failed : a.shape\u003d(2, 2), b.shape\u003d(2, 2), m\u003d2, n\u003d2, k\u003d2 [Op:MatMul] name: MatMul/"
          ],
          "ename": "InternalError",
          "evalue": "Blas GEMM launch failed : a.shape\u003d(2, 2), b.shape\u003d(2, 2), m\u003d2, n\u003d2, k\u003d2 [Op:MatMul] name: MatMul/",
          "output_type": "error"
        }
      ],
      "source": "tf.matmul(a, b)\n",
      "metadata": {
        "pycharm": {
          "metadata": false,
          "name": "#%%\n",
          "is_executing": false
        }
      }
    },
    {
      "cell_type": "code",
      "execution_count": 2,
      "outputs": [
        {
          "name": "stdout",
          "text": [
            "tf.Tensor(\n[[[6. 6. 6. 6. 6.]\n  [6. 6. 6. 6. 6.]]\n\n [[6. 6. 6. 6. 6.]\n  [6. 6. 6. 6. 6.]]\n\n [[6. 6. 6. 6. 6.]\n  [6. 6. 6. 6. 6.]]\n\n [[6. 6. 6. 6. 6.]\n  [6. 6. 6. 6. 6.]]], shape\u003d(4, 2, 5), dtype\u003dfloat32)\n"
          ],
          "output_type": "stream"
        }
      ],
      "source": "a \u003d tf.ones([4, 2, 3])\nb \u003d tf.fill([4, 3, 5], 2.)\n\nprint(a@b)\n",
      "metadata": {
        "pycharm": {
          "metadata": false,
          "name": "#%%\n",
          "is_executing": false
        }
      }
    },
    {
      "cell_type": "code",
      "execution_count": 3,
      "outputs": [
        {
          "name": "stdout",
          "text": [
            "(4, 2, 3)\n(3, 5)\n"
          ],
          "output_type": "stream"
        }
      ],
      "source": "# with broadcasting\nb \u003d tf.fill([3, 5], 3.)\nprint(a.shape)\nprint(b.shape)\n",
      "metadata": {
        "pycharm": {
          "metadata": false,
          "name": "#%%\n",
          "is_executing": false
        }
      }
    },
    {
      "cell_type": "code",
      "execution_count": 4,
      "outputs": [
        {
          "data": {
            "text/plain": "\u003ctf.Tensor: id\u003d21, shape\u003d(4, 2, 5), dtype\u003dfloat32, numpy\u003d\narray([[[9., 9., 9., 9., 9.],\n        [9., 9., 9., 9., 9.]],\n\n       [[9., 9., 9., 9., 9.],\n        [9., 9., 9., 9., 9.]],\n\n       [[9., 9., 9., 9., 9.],\n        [9., 9., 9., 9., 9.]],\n\n       [[9., 9., 9., 9., 9.],\n        [9., 9., 9., 9., 9.]]], dtype\u003dfloat32)\u003e"
          },
          "metadata": {},
          "output_type": "execute_result",
          "execution_count": 4
        }
      ],
      "source": "bb \u003d tf.broadcast_to(b, [4, 3, 5])\n\na@bb\n",
      "metadata": {
        "pycharm": {
          "metadata": false,
          "name": "#%%\n",
          "is_executing": false
        }
      }
    },
    {
      "cell_type": "markdown",
      "source": "## 前向传播运算\n",
      "metadata": {
        "pycharm": {
          "metadata": false,
          "name": "#%% md\n"
        }
      }
    },
    {
      "cell_type": "markdown",
      "source": "## 合并与分割\n\n- tf.concat\n- tf.split\n- tf.stack : create new dim\n- tf.unstack\n",
      "metadata": {
        "pycharm": {
          "metadata": false
        }
      }
    },
    {
      "cell_type": "code",
      "execution_count": 2,
      "outputs": [
        {
          "data": {
            "text/plain": "TensorShape([6, 35, 8])"
          },
          "metadata": {},
          "output_type": "execute_result",
          "execution_count": 2
        }
      ],
      "source": "a \u003d tf.ones([4, 35, 8])\nb \u003d tf.ones([2, 35, 8])\n\nc \u003d tf.concat([a, b], axis\u003d0)\nc.shape\n",
      "metadata": {
        "pycharm": {
          "metadata": false,
          "name": "#%%\n",
          "is_executing": false
        }
      }
    },
    {
      "cell_type": "code",
      "execution_count": 3,
      "outputs": [
        {
          "data": {
            "text/plain": "TensorShape([4, 35, 8])"
          },
          "metadata": {},
          "output_type": "execute_result",
          "execution_count": 3
        }
      ],
      "source": "a \u003d tf.ones([4, 32, 8])\nb \u003d tf.ones([4, 3, 8])\n\nc \u003d tf.concat([a, b], axis\u003d1)\nc.shape\n",
      "metadata": {
        "pycharm": {
          "metadata": false,
          "name": "#%%\n",
          "is_executing": false
        }
      }
    },
    {
      "cell_type": "code",
      "execution_count": 4,
      "outputs": [
        {
          "data": {
            "text/plain": "TensorShape([2, 4, 32, 8])"
          },
          "metadata": {},
          "output_type": "execute_result",
          "execution_count": 4
        }
      ],
      "source": "a \u003d tf.ones([4, 32, 8])\nb \u003d tf.ones([4, 32, 8])\n\nc \u003d tf.stack([a, b], axis\u003d0)\nc.shape\n",
      "metadata": {
        "pycharm": {
          "metadata": false,
          "name": "#%%\n",
          "is_executing": false
        }
      }
    },
    {
      "cell_type": "code",
      "execution_count": 5,
      "outputs": [
        {
          "name": "stdout",
          "text": [
            "unstack c return 8 elements\nsplit c return 2 elements\n"
          ],
          "output_type": "stream"
        }
      ],
      "source": "# split\nc \u003d tf.ones([2, 4, 35, 8])\nres \u003d tf.unstack(c, axis\u003d3)\nprint(\"unstack c return %s elements\"%len(res))\n\nres2 \u003d tf.split(c, num_or_size_splits\u003d2)\nprint(\"split c return %s elements\"%len(res2))\n",
      "metadata": {
        "pycharm": {
          "metadata": false,
          "name": "#%%\n",
          "is_executing": false
        }
      }
    },
    {
      "cell_type": "code",
      "execution_count": 7,
      "outputs": [
        {
          "name": "stdout",
          "text": [
            "res3 shape is :  (2, 4, 35, 2) (2, 4, 35, 2) (2, 4, 35, 4)\n"
          ],
          "output_type": "stream"
        }
      ],
      "source": "res3 \u003d tf.split(c, axis\u003d3, num_or_size_splits\u003d[2, 2, 4])\nprint(\"res3 shape is : \", res3[0].shape, res3[1].shape, res3[2].shape)\n\n",
      "metadata": {
        "pycharm": {
          "metadata": false,
          "name": "#%%\n",
          "is_executing": false
        }
      }
    },
    {
      "cell_type": "markdown",
      "source": "## 数据统计\n\n- vector norm: L2, L1\n\n",
      "metadata": {
        "pycharm": {
          "metadata": false,
          "name": "#%% md\n"
        }
      }
    },
    {
      "cell_type": "code",
      "execution_count": 2,
      "outputs": [
        {
          "name": "stdout",
          "text": [
            "norm(L2) of a:  tf.Tensor(2.0, shape\u003d(), dtype\u003dfloat32)\nnorm(L2) of a:  tf.Tensor(2.0, shape\u003d(), dtype\u003dfloat32)\n"
          ],
          "output_type": "stream"
        }
      ],
      "source": "a \u003d tf.ones([2, 2])\nprint(\"norm(L2) of a: \", tf.norm(a))\nprint(\"norm(L2) of a: \", tf.sqrt(tf.reduce_sum(tf.square(a))))\n\n",
      "metadata": {
        "pycharm": {
          "metadata": false,
          "name": "#%%\n",
          "is_executing": false
        }
      }
    },
    {
      "cell_type": "code",
      "execution_count": 3,
      "outputs": [
        {
          "name": "stdout",
          "text": [
            "norm(L2) of a on axis 1 tf.Tensor([1.4142135 1.4142135], shape\u003d(2,), dtype\u003dfloat32)\nnorm(L1) of a  tf.Tensor(4.0, shape\u003d(), dtype\u003dfloat32)\n"
          ],
          "output_type": "stream"
        }
      ],
      "source": "print(\"norm(L2) of a on axis 1\", tf.norm(a, ord\u003d2, axis\u003d1))\nprint(\"norm(L1) of a \", tf.norm(a, ord\u003d1))\n",
      "metadata": {
        "pycharm": {
          "metadata": false,
          "name": "#%%\n",
          "is_executing": false
        }
      }
    },
    {
      "cell_type": "code",
      "execution_count": 4,
      "outputs": [
        {
          "name": "stdout",
          "text": [
            "min of b:  tf.Tensor(-1.7640504, shape\u003d(), dtype\u003dfloat32)\nmax of b:  tf.Tensor(1.5654981, shape\u003d(), dtype\u003dfloat32)\nsum of b:  tf.Tensor(-0.91320515, shape\u003d(), dtype\u003dfloat32)\n"
          ],
          "output_type": "stream"
        }
      ],
      "source": "b \u003d tf.random.normal([4, 10])\nprint(\"min of b: \", tf.reduce_min(b))\nprint(\"max of b: \", tf.reduce_max(b))\nprint(\"sum of b: \", tf.reduce_sum(b))\n\n",
      "metadata": {
        "pycharm": {
          "metadata": false,
          "name": "#%%\n",
          "is_executing": false
        }
      }
    },
    {
      "cell_type": "code",
      "execution_count": 5,
      "outputs": [
        {
          "name": "stdout",
          "text": [
            "min of b on axis\u003d1:  tf.Tensor([-1.3314389  -0.87622225 -1.7640504  -0.8846502 ], shape\u003d(4,), dtype\u003dfloat32)\nmax of b on axis\u003d1:  tf.Tensor([1.5654981 0.9704872 1.4989897 1.3365887], shape\u003d(4,), dtype\u003dfloat32)\nsum of b on axis\u003d1:  tf.Tensor([-0.70662004 -0.4892643  -0.92424476  1.206924  ], shape\u003d(4,), dtype\u003dfloat32)\n"
          ],
          "output_type": "stream"
        }
      ],
      "source": "print(\"min of b on axis\u003d1: \", tf.reduce_min(b, axis\u003d1))\nprint(\"max of b on axis\u003d1: \", tf.reduce_max(b, axis\u003d1))\nprint(\"sum of b on axis\u003d1: \", tf.reduce_sum(b, axis\u003d1))\n",
      "metadata": {
        "pycharm": {
          "metadata": false,
          "name": "#%%\n",
          "is_executing": false
        }
      }
    },
    {
      "cell_type": "code",
      "execution_count": 6,
      "outputs": [
        {
          "name": "stdout",
          "text": [
            "max args of b:  tf.Tensor([3 0 2 0 3 1 2 3 1 3], shape\u003d(10,), dtype\u003dint64)\nshape of b\u0027 argmax:  (10,)\n"
          ],
          "output_type": "stream"
        }
      ],
      "source": "print(\"max args of b: \", tf.argmax(b))\nprint(\"shape of b\u0027 argmax: \", tf.argmax(b).shape)\n\n\n",
      "metadata": {
        "pycharm": {
          "metadata": false,
          "name": "#%%\n",
          "is_executing": false
        }
      }
    },
    {
      "cell_type": "code",
      "execution_count": 7,
      "outputs": [
        {
          "name": "stdout",
          "text": [
            "c equal d is  tf.Tensor([False False False  True False], shape\u003d(5,), dtype\u003dbool)\n"
          ],
          "output_type": "stream"
        }
      ],
      "source": "c \u003d tf.constant([1, 2, 3, 3, 2])\nd \u003d tf.range(5)\nprint(\"c equal d is \", tf.equal(c, d))\n",
      "metadata": {
        "pycharm": {
          "metadata": false,
          "name": "#%%\n",
          "is_executing": false
        }
      }
    },
    {
      "cell_type": "code",
      "execution_count": 8,
      "outputs": [
        {
          "data": {
            "text/plain": "\u003ctf.Tensor: id\u003d88, shape\u003d(), dtype\u003dint32, numpy\u003d1\u003e"
          },
          "metadata": {},
          "output_type": "execute_result",
          "execution_count": 8
        }
      ],
      "source": "res \u003d tf.equal(c, d)\ntf.reduce_sum(tf.cast(res, dtype\u003dtf.int32))\n",
      "metadata": {
        "pycharm": {
          "metadata": false,
          "name": "#%%\n",
          "is_executing": false
        }
      }
    },
    {
      "cell_type": "code",
      "execution_count": 9,
      "outputs": [
        {
          "name": "stdout",
          "text": [
            "unique of c:  Unique(y\u003d\u003ctf.Tensor: id\u003d108, shape\u003d(3,), dtype\u003dint32, numpy\u003darray([1, 2, 3])\u003e, idx\u003d\u003ctf.Tensor: id\u003d109, shape\u003d(5,), dtype\u003dint32, numpy\u003darray([0, 1, 2, 2, 1])\u003e)\n"
          ],
          "output_type": "stream"
        }
      ],
      "source": "print(\"unique of c: \", tf.unique(c))\n",
      "metadata": {
        "pycharm": {
          "metadata": false,
          "name": "#%%\n",
          "is_executing": false
        }
      }
    },
    {
      "cell_type": "markdown",
      "source": "## 张量排序\n\n- Sort/argsort\n- TopK\n- Top-5 Acc.\n",
      "metadata": {
        "pycharm": {
          "metadata": false,
          "name": "#%% md\n"
        }
      }
    },
    {
      "cell_type": "code",
      "execution_count": 10,
      "outputs": [
        {
          "name": "stdout",
          "text": [
            "Sort of a :  tf.Tensor([4 3 2 1 0], shape\u003d(5,), dtype\u003dint32)\nArgSort of a :  tf.Tensor([4 2 3 1 0], shape\u003d(5,), dtype\u003dint32)\n"
          ],
          "output_type": "stream"
        }
      ],
      "source": "a \u003d tf.random.shuffle(tf.range(5))\n# 默认的轴为最后一个维度\nprint(\"Sort of a : \", tf.sort(a, direction\u003d\"DESCENDING\"))\nprint(\"ArgSort of a : \", tf.argsort(a, direction\u003d\"DESCENDING\"))\n",
      "metadata": {
        "pycharm": {
          "metadata": false,
          "name": "#%%\n",
          "is_executing": false
        }
      }
    },
    {
      "cell_type": "code",
      "execution_count": 11,
      "outputs": [
        {
          "name": "stdout",
          "text": [
            "A:  tf.Tensor(\n[[9 8 4]\n [5 3 7]\n [0 4 3]], shape\u003d(3, 3), dtype\u003dint32)\n"
          ],
          "output_type": "stream"
        }
      ],
      "source": "a \u003d tf.random.uniform([3, 3], maxval\u003d10, dtype\u003dtf.int32)\nprint(\"A: \", a)\n",
      "metadata": {
        "pycharm": {
          "metadata": false,
          "name": "#%%\n",
          "is_executing": false
        }
      }
    },
    {
      "cell_type": "code",
      "execution_count": 12,
      "outputs": [
        {
          "name": "stdout",
          "text": [
            "top 2 of a : TopKV2(values\u003d\u003ctf.Tensor: id\u003d199, shape\u003d(3, 2), dtype\u003dint32, numpy\u003d\narray([[9, 8],\n       [7, 5],\n       [4, 3]])\u003e, indices\u003d\u003ctf.Tensor: id\u003d200, shape\u003d(3, 2), dtype\u003dint32, numpy\u003d\narray([[0, 1],\n       [2, 0],\n       [1, 2]])\u003e)\n"
          ],
          "output_type": "stream"
        }
      ],
      "source": "res \u003d tf.math.top_k(a, 2)\nprint(\"top 2 of a :\", res)\n",
      "metadata": {
        "pycharm": {
          "metadata": false,
          "name": "#%%\n",
          "is_executing": false
        }
      }
    },
    {
      "cell_type": "markdown",
      "source": "**Top K accuracy**\n\n- prob: [0.1, 0.2, 0.3, 0.4]\n- label: [2]\n\nthen:\n\n- only consider top-1 prediction: [3] : 0%\n- only consider top-2 prediction: [3] : 100%\n- only consider top-3 prediction: [3] : 100%\n",
      "metadata": {
        "pycharm": {
          "metadata": false,
          "name": "#%% md\n"
        }
      }
    },
    {
      "cell_type": "code",
      "execution_count": 14,
      "outputs": [],
      "source": "def accuracyTopK(output, target, topk\u003d(1,)):\n    maxk \u003d max(topk)\n    batch_size \u003d target.shape[0]\n    \n    pred \u003d tf.math.top_k(output, maxk).indices\n    pred \u003d tf.transpose(pred, perm\u003d[1, 0])\n    target_ \u003d tf.broadcast_to(target, pred.shape)\n    correct \u003d tf.equal(pred, target_)\n    \n    res \u003d []\n    for k in topk:\n        correct_k \u003d tf.cast(tf.reshape(correct[:k], [-1]), dtype\u003dtf.float32)\n        correct_k \u003d tf.reduce_sum(correct_k)\n        acc \u003d float(correct_k / batch_size)\n        res.append(acc)\n    return res\n",
      "metadata": {
        "pycharm": {
          "metadata": false,
          "name": "#%%\n",
          "is_executing": false
        }
      }
    },
    {
      "cell_type": "markdown",
      "source": "## 数据填充与复制\n\n- tf.pad\n- tf.tile: repeat data on special dim\n- \n",
      "metadata": {
        "pycharm": {
          "metadata": false,
          "name": "#%% md\n"
        }
      }
    },
    {
      "cell_type": "code",
      "execution_count": 15,
      "outputs": [
        {
          "name": "stdout",
          "text": [
            "tf.Tensor(\n[[0 1 2]\n [3 4 5]\n [6 7 8]], shape\u003d(3, 3), dtype\u003dint32)\n(3, 3)\n"
          ],
          "output_type": "stream"
        }
      ],
      "source": "# tf.pad\n\na \u003d tf.reshape(tf.range(9), [3, 3])\nprint(a)\nprint(a.shape)\n\n",
      "metadata": {
        "pycharm": {
          "metadata": false,
          "name": "#%%\n",
          "is_executing": false
        }
      }
    },
    {
      "cell_type": "code",
      "execution_count": 17,
      "outputs": [
        {
          "name": "stdout",
          "text": [
            "tf.Tensor(\n[[0 0 0 0]\n [0 0 1 2]\n [0 3 4 5]\n [0 6 7 8]], shape\u003d(4, 4), dtype\u003dint32)\n"
          ],
          "output_type": "stream"
        }
      ],
      "source": "print(tf.pad(a, [[1, 0], [1, 0]]))\n\n",
      "metadata": {
        "pycharm": {
          "metadata": false,
          "name": "#%%\n",
          "is_executing": false
        }
      }
    },
    {
      "cell_type": "code",
      "execution_count": 18,
      "outputs": [
        {
          "name": "stdout",
          "text": [
            "shape of pad_image:  (4, 32, 32, 3)\n"
          ],
          "output_type": "stream"
        }
      ],
      "source": "# image padding\nimage \u003d tf.ones([4, 28, 28, 3])\npad_image \u003d tf.pad(image, [[0, 0], [2, 2], [2, 2], [0, 0]])\nprint(\"shape of pad_image: \", pad_image.shape)\n",
      "metadata": {
        "pycharm": {
          "metadata": false,
          "name": "#%%\n",
          "is_executing": false
        }
      }
    },
    {
      "cell_type": "code",
      "execution_count": 19,
      "outputs": [
        {
          "data": {
            "text/plain": "\u003ctf.Tensor: id\u003d366, shape\u003d(3, 6), dtype\u003dint32, numpy\u003d\narray([[0, 1, 2, 0, 1, 2],\n       [3, 4, 5, 3, 4, 5],\n       [6, 7, 8, 6, 7, 8]])\u003e"
          },
          "metadata": {},
          "output_type": "execute_result",
          "execution_count": 19
        }
      ],
      "source": "tf.tile(a, [1, 2])\n",
      "metadata": {
        "pycharm": {
          "metadata": false,
          "name": "#%%\n",
          "is_executing": false
        }
      }
    },
    {
      "cell_type": "markdown",
      "source": "## 张量限幅\n\n- clip_by_value\n- relu\n- clip_by_norm\n- gradient clipping\n",
      "metadata": {
        "pycharm": {
          "metadata": false,
          "name": "#%% md\n"
        }
      }
    },
    {
      "cell_type": "code",
      "execution_count": 20,
      "outputs": [
        {
          "name": "stdout",
          "text": [
            "a is:  tf.Tensor([0 1 2 3 4 5 6 7 8 9], shape\u003d(10,), dtype\u003dint32)\n"
          ],
          "output_type": "stream"
        }
      ],
      "source": "a \u003d tf.range(10)\nprint(\"a is: \", a)\n",
      "metadata": {
        "pycharm": {
          "metadata": false,
          "name": "#%%\n",
          "is_executing": false
        }
      }
    },
    {
      "cell_type": "code",
      "execution_count": 21,
      "outputs": [
        {
          "name": "stdout",
          "text": [
            "max(2, a) is:  tf.Tensor([2 2 2 3 4 5 6 7 8 9], shape\u003d(10,), dtype\u003dint32)\nmin(8, a) is:  tf.Tensor([0 1 2 3 4 5 6 7 8 8], shape\u003d(10,), dtype\u003dint32)\n2 \u003c\u003d a \u003c\u003d 8 is:  tf.Tensor([2 2 2 3 4 5 6 7 8 8], shape\u003d(10,), dtype\u003dint32)\n"
          ],
          "output_type": "stream"
        }
      ],
      "source": "# clip, max(2, x)\nprint(\"max(2, a) is: \",  tf.maximum(a, 2))\nprint(\"min(8, a) is: \",  tf.minimum(a, 8))\nprint(\"2 \u003c\u003d a \u003c\u003d 8 is: \",  tf.clip_by_value(a, 2, 8))\n",
      "metadata": {
        "pycharm": {
          "metadata": false,
          "name": "#%%\n",
          "is_executing": false
        }
      }
    },
    {
      "cell_type": "code",
      "execution_count": 22,
      "outputs": [
        {
          "name": "stderr",
          "text": [
            "WARNING: Logging before flag parsing goes to stderr.\nW0723 00:03:09.462687  4060 deprecation.py:323] From d:\\programs\\conda\\envs\\gpu-env\\lib\\site-packages\\tensorflow\\python\\ops\\clip_ops.py:157: add_dispatch_support.\u003clocals\u003e.wrapper (from tensorflow.python.ops.array_ops) is deprecated and will be removed in a future version.\nInstructions for updating:\nUse tf.where in 2.0, which has the same broadcast rule as np.where\n"
          ],
          "output_type": "stream"
        },
        {
          "name": "stdout",
          "text": [
            "Norm(L2) of a:  tf.Tensor(21.092033, shape\u003d(), dtype\u003dfloat32)\ntf.Tensor(\n[[7.8172174 7.5813594]\n [8.406377  8.169879 ]], shape\u003d(2, 2), dtype\u003dfloat32)\nNorm(L2) of aa:  tf.Tensor(15.999999, shape\u003d(), dtype\u003dfloat32)\n"
          ],
          "output_type": "stream"
        }
      ],
      "source": "# clip_by_norm\na \u003d tf.random.normal([2, 2], mean\u003d10)\nprint(\"Norm(L2) of a: \", tf.norm(a))\naa \u003d tf.clip_by_norm(a, 16)\nprint(aa)\nprint(\"Norm(L2) of aa: \", tf.norm(aa))\n",
      "metadata": {
        "pycharm": {
          "metadata": false,
          "name": "#%%\n",
          "is_executing": false
        }
      }
    },
    {
      "cell_type": "markdown",
      "source": "### Gradient Clipping\n\n1. Gradient Exploding\n2. Gradient Vanishing\n",
      "metadata": {
        "pycharm": {
          "metadata": false,
          "name": "#%% md\n"
        }
      }
    },
    {
      "cell_type": "markdown",
      "source": "## 高阶操作\n\n- tf.where\n- tf.scatter_nd\n- tf.meshgrid\n",
      "metadata": {
        "pycharm": {
          "metadata": false,
          "name": "#%% md\n"
        }
      }
    },
    {
      "cell_type": "code",
      "execution_count": 23,
      "outputs": [
        {
          "name": "stdout",
          "text": [
            "tf.Tensor(\n[[ 0.2891546   1.2981161  -0.725229  ]\n [-0.9859346   0.9249258   1.6991228 ]\n [-0.24700968 -0.75834703 -0.7539023 ]], shape\u003d(3, 3), dtype\u003dfloat32)\n"
          ],
          "output_type": "stream"
        }
      ],
      "source": "# np.where\na \u003d tf.random.normal([3, 3])\nprint(a)\n",
      "metadata": {
        "pycharm": {
          "metadata": false,
          "name": "#%%\n",
          "is_executing": false
        }
      }
    },
    {
      "cell_type": "code",
      "execution_count": 24,
      "outputs": [
        {
          "name": "stdout",
          "text": [
            "tf.Tensor(\n[[ True  True False]\n [False  True  True]\n [False False False]], shape\u003d(3, 3), dtype\u003dbool)\n"
          ],
          "output_type": "stream"
        }
      ],
      "source": "mask \u003d a \u003e 0\nprint(mask)\n",
      "metadata": {
        "pycharm": {
          "metadata": false,
          "name": "#%%\n",
          "is_executing": false
        }
      }
    },
    {
      "cell_type": "code",
      "execution_count": 25,
      "outputs": [
        {
          "data": {
            "text/plain": "\u003ctf.Tensor: id\u003d656, shape\u003d(4,), dtype\u003dfloat32, numpy\u003darray([0.2891546, 1.2981161, 0.9249258, 1.6991228], dtype\u003dfloat32)\u003e"
          },
          "metadata": {},
          "output_type": "execute_result",
          "execution_count": 25
        }
      ],
      "source": "tf.boolean_mask(a, mask)\n",
      "metadata": {
        "pycharm": {
          "metadata": false,
          "name": "#%%\n",
          "is_executing": false
        }
      }
    },
    {
      "cell_type": "code",
      "execution_count": 26,
      "outputs": [
        {
          "name": "stdout",
          "text": [
            "tf.Tensor(\n[[0 0]\n [0 1]\n [1 1]\n [1 2]], shape\u003d(4, 2), dtype\u003dint64)\n"
          ],
          "output_type": "stream"
        }
      ],
      "source": "indices \u003d tf.where(mask)\nprint(indices)\n",
      "metadata": {
        "pycharm": {
          "metadata": false,
          "name": "#%%\n",
          "is_executing": false
        }
      }
    },
    {
      "cell_type": "code",
      "execution_count": 27,
      "outputs": [
        {
          "data": {
            "text/plain": "\u003ctf.Tensor: id\u003d750, shape\u003d(4,), dtype\u003dfloat32, numpy\u003darray([0.2891546, 1.2981161, 0.9249258, 1.6991228], dtype\u003dfloat32)\u003e"
          },
          "metadata": {},
          "output_type": "execute_result",
          "execution_count": 27
        }
      ],
      "source": "tf.gather_nd(a, indices)\n",
      "metadata": {
        "pycharm": {
          "metadata": false,
          "name": "#%%\n",
          "is_executing": false
        }
      }
    },
    {
      "cell_type": "code",
      "execution_count": null,
      "outputs": [],
      "source": "# tf.where(cond, A, B) 类似于三元运算： cond ? A : B\n",
      "metadata": {
        "pycharm": {
          "metadata": false,
          "name": "#%%\n"
        }
      }
    },
    {
      "cell_type": "code",
      "execution_count": 2,
      "outputs": [
        {
          "data": {
            "text/plain": "\u003ctf.Tensor: id\u003d3, shape\u003d(8,), dtype\u003dint32, numpy\u003darray([ 0, 11,  0, 10,  9,  0,  0,  0])\u003e"
          },
          "metadata": {},
          "output_type": "execute_result",
          "execution_count": 2
        }
      ],
      "source": "indices \u003d tf.constant([[4], [3], [1]])\nupdates \u003d tf.constant([9, 10, 11])\nshape \u003d tf.constant([8])\n\ntf.scatter_nd(indices, updates, shape)\n",
      "metadata": {
        "pycharm": {
          "metadata": false,
          "name": "#%%\n",
          "is_executing": false
        }
      }
    },
    {
      "cell_type": "code",
      "execution_count": 3,
      "outputs": [
        {
          "name": "stdout",
          "text": [
            "tf.Tensor(\n[[-2. -1.  0.  1.  2.]\n [-2. -1.  0.  1.  2.]\n [-2. -1.  0.  1.  2.]\n [-2. -1.  0.  1.  2.]\n [-2. -1.  0.  1.  2.]], shape\u003d(5, 5), dtype\u003dfloat32)\n"
          ],
          "output_type": "stream"
        }
      ],
      "source": "x \u003d tf.linspace(-2., 2., 5)\ny \u003d tf.linspace(-2., 2., 5)\n\npoint_x, point_y \u003d tf.meshgrid(x, y)\n\nprint(point_x)",
      "metadata": {
        "pycharm": {
          "metadata": false,
          "name": "#%%\n",
          "is_executing": false
        }
      }
    },
    {
      "cell_type": "code",
      "execution_count": 13,
      "outputs": [
        {
          "name": "stdout",
          "text": [
            "tf.Tensor(\n[[[-2. -2.]\n  [-1. -2.]\n  [ 0. -2.]\n  [ 1. -2.]\n  [ 2. -2.]]\n\n [[-2. -1.]\n  [-1. -1.]\n  [ 0. -1.]\n  [ 1. -1.]\n  [ 2. -1.]]\n\n [[-2.  0.]\n  [-1.  0.]\n  [ 0.  0.]\n  [ 1.  0.]\n  [ 2.  0.]]\n\n [[-2.  1.]\n  [-1.  1.]\n  [ 0.  1.]\n  [ 1.  1.]\n  [ 2.  1.]]\n\n [[-2.  2.]\n  [-1.  2.]\n  [ 0.  2.]\n  [ 1.  2.]\n  [ 2.  2.]]], shape\u003d(5, 5, 2), dtype\u003dfloat32)\n"
          ],
          "output_type": "stream"
        }
      ],
      "source": "points \u003d tf.stack([point_x, point_y], axis\u003d2)\nprint(points)\n",
      "metadata": {
        "pycharm": {
          "metadata": false,
          "name": "#%%\n",
          "is_executing": false
        }
      }
    },
    {
      "cell_type": "code",
      "execution_count": 8,
      "outputs": [
        {
          "data": {
            "text/plain": "\u003ctf.Tensor: id\u003d240, shape\u003d(5, 5), dtype\u003dfloat32, numpy\u003d\narray([[-1.8185948 , -1.7507684 , -0.9092974 , -0.06782639,  0.        ],\n       [-1.7507684 , -1.682942  , -0.841471  ,  0.        ,  0.06782639],\n       [-0.9092974 , -0.841471  ,  0.        ,  0.841471  ,  0.9092974 ],\n       [-0.06782639,  0.        ,  0.841471  ,  1.682942  ,  1.7507684 ],\n       [ 0.        ,  0.06782639,  0.9092974 ,  1.7507684 ,  1.8185948 ]],\n      dtype\u003dfloat32)\u003e"
          },
          "metadata": {},
          "output_type": "execute_result",
          "execution_count": 8
        }
      ],
      "source": "tf.math.sin(points[...,0]) + tf.math.sin(points[...,1])\n",
      "metadata": {
        "pycharm": {
          "metadata": false,
          "name": "#%%\n",
          "is_executing": false
        }
      }
    },
    {
      "cell_type": "code",
      "execution_count": 15,
      "outputs": [],
      "source": "",
      "metadata": {
        "pycharm": {
          "metadata": false,
          "name": "#%%\n",
          "is_executing": false
        }
      }
    },
    {
      "cell_type": "code",
      "execution_count": 15,
      "outputs": [],
      "source": "",
      "metadata": {
        "pycharm": {
          "metadata": false,
          "name": "#%%\n",
          "is_executing": false
        }
      }
    },
    {
      "cell_type": "code",
      "execution_count": null,
      "outputs": [],
      "source": "\n",
      "metadata": {
        "pycharm": {
          "metadata": false,
          "name": "#%%\n"
        }
      }
    }
  ],
  "metadata": {
    "language_info": {
      "codemirror_mode": {
        "name": "ipython",
        "version": 2
      },
      "file_extension": ".py",
      "mimetype": "text/x-python",
      "name": "python",
      "nbconvert_exporter": "python",
      "pygments_lexer": "ipython2",
      "version": "2.7.6"
    },
    "kernelspec": {
      "name": "python3",
      "language": "python",
      "display_name": "Python 3"
    }
  },
  "nbformat": 4,
  "nbformat_minor": 0
}