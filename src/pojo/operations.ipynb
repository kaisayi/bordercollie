{
  "cells": [
    {
      "cell_type": "markdown",
      "metadata": {
        "collapsed": true,
        "pycharm": {
          "name": "#%% md\n"
        }
      },
      "source": "# 数学运算\n\n- +-*/\n- **, pow, square \n\n\n## Operation type\n\n- element-wise: +-*?\n- matrix-wise: @, matmul\n- dim-wise: reduce_mean/max/min/sum\n"
    },
    {
      "cell_type": "code",
      "execution_count": 1,
      "outputs": [],
      "source": "import tensorflow as tf\nfrom tensorflow import keras\n",
      "metadata": {
        "pycharm": {
          "metadata": false,
          "name": "#%%\n",
          "is_executing": false
        }
      }
    },
    {
      "cell_type": "code",
      "execution_count": 2,
      "outputs": [
        {
          "data": {
            "text/plain": "(\u003ctf.Tensor: id\u003d6, shape\u003d(2, 2), dtype\u003dfloat32, numpy\u003d\n array([[3., 3.],\n        [3., 3.]], dtype\u003dfloat32)\u003e,\n \u003ctf.Tensor: id\u003d7, shape\u003d(2, 2), dtype\u003dfloat32, numpy\u003d\n array([[-1., -1.],\n        [-1., -1.]], dtype\u003dfloat32)\u003e,\n \u003ctf.Tensor: id\u003d8, shape\u003d(2, 2), dtype\u003dfloat32, numpy\u003d\n array([[2., 2.],\n        [2., 2.]], dtype\u003dfloat32)\u003e,\n \u003ctf.Tensor: id\u003d9, shape\u003d(2, 2), dtype\u003dfloat32, numpy\u003d\n array([[0.5, 0.5],\n        [0.5, 0.5]], dtype\u003dfloat32)\u003e)"
          },
          "metadata": {},
          "output_type": "execute_result",
          "execution_count": 2
        }
      ],
      "source": "a \u003d tf.ones([2, 2])\nb \u003d tf.fill([2, 2], 2.)\n\na+b, a-b, a*b, a/b\n",
      "metadata": {
        "pycharm": {
          "metadata": false,
          "name": "#%%\n",
          "is_executing": false
        }
      }
    },
    {
      "cell_type": "code",
      "execution_count": 3,
      "outputs": [
        {
          "data": {
            "text/plain": "(\u003ctf.Tensor: id\u003d50, shape\u003d(2, 2), dtype\u003dfloat32, numpy\u003d\n array([[2., 2.],\n        [2., 2.]], dtype\u003dfloat32)\u003e,\n \u003ctf.Tensor: id\u003d51, shape\u003d(2, 2), dtype\u003dfloat32, numpy\u003d\n array([[0., 0.],\n        [0., 0.]], dtype\u003dfloat32)\u003e)"
          },
          "metadata": {},
          "output_type": "execute_result",
          "execution_count": 3
        }
      ],
      "source": "b//a, b%a \n",
      "metadata": {
        "pycharm": {
          "metadata": false,
          "name": "#%%\n",
          "is_executing": false
        }
      }
    },
    {
      "cell_type": "code",
      "execution_count": 4,
      "outputs": [
        {
          "data": {
            "text/plain": "(\u003ctf.Tensor: id\u003d2, shape\u003d(2, 2), dtype\u003dfloat32, numpy\u003d\n array([[1., 1.],\n        [1., 1.]], dtype\u003dfloat32)\u003e,\n \u003ctf.Tensor: id\u003d5, shape\u003d(2, 2), dtype\u003dfloat32, numpy\u003d\n array([[2., 2.],\n        [2., 2.]], dtype\u003dfloat32)\u003e)"
          },
          "metadata": {},
          "output_type": "execute_result",
          "execution_count": 4
        }
      ],
      "source": "a, b \n",
      "metadata": {
        "pycharm": {
          "metadata": false,
          "name": "#%%\n",
          "is_executing": false
        }
      }
    },
    {
      "cell_type": "code",
      "execution_count": 7,
      "outputs": [
        {
          "traceback": [
            "\u001b[1;31m---------------------------------------------------------------------------\u001b[0m",
            "\u001b[1;31mInternalError\u001b[0m                             Traceback (most recent call last)",
            "\u001b[1;32m\u003cipython-input-7-a446d6d090ba\u003e\u001b[0m in \u001b[0;36m\u003cmodule\u003e\u001b[1;34m\u001b[0m\n\u001b[1;32m----\u003e 1\u001b[1;33m \u001b[0mtf\u001b[0m\u001b[1;33m.\u001b[0m\u001b[0mmatmul\u001b[0m\u001b[1;33m(\u001b[0m\u001b[0ma\u001b[0m\u001b[1;33m,\u001b[0m \u001b[0mb\u001b[0m\u001b[1;33m)\u001b[0m\u001b[1;33m\u001b[0m\u001b[0m\n\u001b[0m\u001b[0;32m      2\u001b[0m \u001b[1;33m\u001b[0m\u001b[0m\n",
            "\u001b[1;32md:\\programs\\conda\\envs\\gpu-env\\lib\\site-packages\\tensorflow\\python\\util\\dispatch.py\u001b[0m in \u001b[0;36mwrapper\u001b[1;34m(*args, **kwargs)\u001b[0m\n\u001b[0;32m    178\u001b[0m     \u001b[1;34m\"\"\"Call target, and fall back on dispatchers if there is a TypeError.\"\"\"\u001b[0m\u001b[1;33m\u001b[0m\u001b[0m\n\u001b[0;32m    179\u001b[0m     \u001b[1;32mtry\u001b[0m\u001b[1;33m:\u001b[0m\u001b[1;33m\u001b[0m\u001b[0m\n\u001b[1;32m--\u003e 180\u001b[1;33m       \u001b[1;32mreturn\u001b[0m \u001b[0mtarget\u001b[0m\u001b[1;33m(\u001b[0m\u001b[1;33m*\u001b[0m\u001b[0margs\u001b[0m\u001b[1;33m,\u001b[0m \u001b[1;33m**\u001b[0m\u001b[0mkwargs\u001b[0m\u001b[1;33m)\u001b[0m\u001b[1;33m\u001b[0m\u001b[0m\n\u001b[0m\u001b[0;32m    181\u001b[0m     \u001b[1;32mexcept\u001b[0m \u001b[1;33m(\u001b[0m\u001b[0mTypeError\u001b[0m\u001b[1;33m,\u001b[0m \u001b[0mValueError\u001b[0m\u001b[1;33m)\u001b[0m\u001b[1;33m:\u001b[0m\u001b[1;33m\u001b[0m\u001b[0m\n\u001b[0;32m    182\u001b[0m       \u001b[1;31m# Note: convert_to_eager_tensor currently raises a ValueError, not a\u001b[0m\u001b[1;33m\u001b[0m\u001b[1;33m\u001b[0m\u001b[0m\n",
            "\u001b[1;32md:\\programs\\conda\\envs\\gpu-env\\lib\\site-packages\\tensorflow\\python\\ops\\math_ops.py\u001b[0m in \u001b[0;36mmatmul\u001b[1;34m(a, b, transpose_a, transpose_b, adjoint_a, adjoint_b, a_is_sparse, b_is_sparse, name)\u001b[0m\n\u001b[0;32m   2645\u001b[0m     \u001b[1;32melse\u001b[0m\u001b[1;33m:\u001b[0m\u001b[1;33m\u001b[0m\u001b[0m\n\u001b[0;32m   2646\u001b[0m       return gen_math_ops.mat_mul(\n\u001b[1;32m-\u003e 2647\u001b[1;33m           a, b, transpose_a\u003dtranspose_a, transpose_b\u003dtranspose_b, name\u003dname)\n\u001b[0m\u001b[0;32m   2648\u001b[0m \u001b[1;33m\u001b[0m\u001b[0m\n\u001b[0;32m   2649\u001b[0m \u001b[1;33m\u001b[0m\u001b[0m\n",
            "\u001b[1;32md:\\programs\\conda\\envs\\gpu-env\\lib\\site-packages\\tensorflow\\python\\ops\\gen_math_ops.py\u001b[0m in \u001b[0;36mmat_mul\u001b[1;34m(a, b, transpose_a, transpose_b, name)\u001b[0m\n\u001b[0;32m   6283\u001b[0m       \u001b[1;32melse\u001b[0m\u001b[1;33m:\u001b[0m\u001b[1;33m\u001b[0m\u001b[0m\n\u001b[0;32m   6284\u001b[0m         \u001b[0mmessage\u001b[0m \u001b[1;33m\u003d\u001b[0m \u001b[0me\u001b[0m\u001b[1;33m.\u001b[0m\u001b[0mmessage\u001b[0m\u001b[1;33m\u001b[0m\u001b[0m\n\u001b[1;32m-\u003e 6285\u001b[1;33m       \u001b[0m_six\u001b[0m\u001b[1;33m.\u001b[0m\u001b[0mraise_from\u001b[0m\u001b[1;33m(\u001b[0m\u001b[0m_core\u001b[0m\u001b[1;33m.\u001b[0m\u001b[0m_status_to_exception\u001b[0m\u001b[1;33m(\u001b[0m\u001b[0me\u001b[0m\u001b[1;33m.\u001b[0m\u001b[0mcode\u001b[0m\u001b[1;33m,\u001b[0m \u001b[0mmessage\u001b[0m\u001b[1;33m)\u001b[0m\u001b[1;33m,\u001b[0m \u001b[1;32mNone\u001b[0m\u001b[1;33m)\u001b[0m\u001b[1;33m\u001b[0m\u001b[0m\n\u001b[0m\u001b[0;32m   6286\u001b[0m   \u001b[1;31m# Add nodes to the TensorFlow graph.\u001b[0m\u001b[1;33m\u001b[0m\u001b[1;33m\u001b[0m\u001b[0m\n\u001b[0;32m   6287\u001b[0m   \u001b[1;32mif\u001b[0m \u001b[0mtranspose_a\u001b[0m \u001b[1;32mis\u001b[0m \u001b[1;32mNone\u001b[0m\u001b[1;33m:\u001b[0m\u001b[1;33m\u001b[0m\u001b[0m\n",
            "\u001b[1;32md:\\programs\\conda\\envs\\gpu-env\\lib\\site-packages\\six.py\u001b[0m in \u001b[0;36mraise_from\u001b[1;34m(value, from_value)\u001b[0m\n",
            "\u001b[1;31mInternalError\u001b[0m: Blas GEMM launch failed : a.shape\u003d(2, 2), b.shape\u003d(2, 2), m\u003d2, n\u003d2, k\u003d2 [Op:MatMul] name: MatMul/"
          ],
          "ename": "InternalError",
          "evalue": "Blas GEMM launch failed : a.shape\u003d(2, 2), b.shape\u003d(2, 2), m\u003d2, n\u003d2, k\u003d2 [Op:MatMul] name: MatMul/",
          "output_type": "error"
        }
      ],
      "source": "tf.matmul(a, b)\n",
      "metadata": {
        "pycharm": {
          "metadata": false,
          "name": "#%%\n",
          "is_executing": false
        }
      }
    },
    {
      "cell_type": "code",
      "execution_count": 2,
      "outputs": [
        {
          "name": "stdout",
          "text": [
            "tf.Tensor(\n[[[6. 6. 6. 6. 6.]\n  [6. 6. 6. 6. 6.]]\n\n [[6. 6. 6. 6. 6.]\n  [6. 6. 6. 6. 6.]]\n\n [[6. 6. 6. 6. 6.]\n  [6. 6. 6. 6. 6.]]\n\n [[6. 6. 6. 6. 6.]\n  [6. 6. 6. 6. 6.]]], shape\u003d(4, 2, 5), dtype\u003dfloat32)\n"
          ],
          "output_type": "stream"
        }
      ],
      "source": "a \u003d tf.ones([4, 2, 3])\nb \u003d tf.fill([4, 3, 5], 2.)\n\nprint(a@b)\n",
      "metadata": {
        "pycharm": {
          "metadata": false,
          "name": "#%%\n",
          "is_executing": false
        }
      }
    },
    {
      "cell_type": "code",
      "execution_count": 3,
      "outputs": [
        {
          "name": "stdout",
          "text": [
            "(4, 2, 3)\n(3, 5)\n"
          ],
          "output_type": "stream"
        }
      ],
      "source": "# with broadcasting\nb \u003d tf.fill([3, 5], 3.)\nprint(a.shape)\nprint(b.shape)\n",
      "metadata": {
        "pycharm": {
          "metadata": false,
          "name": "#%%\n",
          "is_executing": false
        }
      }
    },
    {
      "cell_type": "code",
      "execution_count": 4,
      "outputs": [
        {
          "data": {
            "text/plain": "\u003ctf.Tensor: id\u003d21, shape\u003d(4, 2, 5), dtype\u003dfloat32, numpy\u003d\narray([[[9., 9., 9., 9., 9.],\n        [9., 9., 9., 9., 9.]],\n\n       [[9., 9., 9., 9., 9.],\n        [9., 9., 9., 9., 9.]],\n\n       [[9., 9., 9., 9., 9.],\n        [9., 9., 9., 9., 9.]],\n\n       [[9., 9., 9., 9., 9.],\n        [9., 9., 9., 9., 9.]]], dtype\u003dfloat32)\u003e"
          },
          "metadata": {},
          "output_type": "execute_result",
          "execution_count": 4
        }
      ],
      "source": "bb \u003d tf.broadcast_to(b, [4, 3, 5])\n\na@bb\n",
      "metadata": {
        "pycharm": {
          "metadata": false,
          "name": "#%%\n",
          "is_executing": false
        }
      }
    },
    {
      "cell_type": "markdown",
      "source": "## 前向传播运算\n\n",
      "metadata": {
        "pycharm": {
          "metadata": false,
          "name": "#%% md\n"
        }
      }
    }
  ],
  "metadata": {
    "language_info": {
      "codemirror_mode": {
        "name": "ipython",
        "version": 2
      },
      "file_extension": ".py",
      "mimetype": "text/x-python",
      "name": "python",
      "nbconvert_exporter": "python",
      "pygments_lexer": "ipython2",
      "version": "2.7.6"
    },
    "kernelspec": {
      "name": "python3",
      "language": "python",
      "display_name": "Python 3"
    }
  },
  "nbformat": 4,
  "nbformat_minor": 0
}