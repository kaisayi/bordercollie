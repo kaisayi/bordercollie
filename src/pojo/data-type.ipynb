{
  "cells": [
    {
      "cell_type": "markdown",
      "metadata": {
        "collapsed": true,
        "pycharm": {
          "name": "#%% md\n"
        }
      },
      "source": "# `Tensorflow2.0`基本数据类型\n"
    },
    {
      "cell_type": "code",
      "execution_count": 1,
      "outputs": [],
      "source": "import tensorflow as tf\n",
      "metadata": {
        "pycharm": {
          "metadata": false,
          "name": "#%%\n",
          "is_executing": false
        }
      }
    },
    {
      "cell_type": "code",
      "execution_count": 2,
      "outputs": [
        {
          "data": {
            "text/plain": "\u003ctf.Tensor: id\u003d0, shape\u003d(), dtype\u003dint32, numpy\u003d1\u003e"
          },
          "metadata": {},
          "output_type": "execute_result",
          "execution_count": 2
        }
      ],
      "source": "tf.constant(1)",
      "metadata": {
        "pycharm": {
          "metadata": false,
          "name": "#%%\n",
          "is_executing": false
        }
      }
    },
    {
      "cell_type": "code",
      "execution_count": 3,
      "outputs": [
        {
          "data": {
            "text/plain": "\u003ctf.Tensor: id\u003d10, shape\u003d(), dtype\u003dfloat32, numpy\u003d2.0\u003e"
          },
          "metadata": {},
          "output_type": "execute_result",
          "execution_count": 3
        }
      ],
      "source": "tf.constant(2.)",
      "metadata": {
        "pycharm": {
          "metadata": false,
          "name": "#%%\n",
          "is_executing": false
        }
      }
    },
    {
      "cell_type": "code",
      "execution_count": 4,
      "outputs": [
        {
          "data": {
            "text/plain": "\u003ctf.Tensor: id\u003d28, shape\u003d(), dtype\u003dfloat64, numpy\u003d2.0\u003e"
          },
          "metadata": {},
          "output_type": "execute_result",
          "execution_count": 4
        }
      ],
      "source": "tf.constant(2., dtype\u003dtf.double)",
      "metadata": {
        "pycharm": {
          "metadata": false,
          "name": "#%%\n",
          "is_executing": false
        }
      }
    },
    {
      "cell_type": "code",
      "execution_count": 5,
      "outputs": [
        {
          "data": {
            "text/plain": "\u003ctf.Tensor: id\u003d54, shape\u003d(2,), dtype\u003dbool, numpy\u003darray([ True, False])\u003e"
          },
          "metadata": {},
          "output_type": "execute_result",
          "execution_count": 5
        }
      ],
      "source": "tf.constant([True, False])",
      "metadata": {
        "pycharm": {
          "metadata": false,
          "name": "#%%\n",
          "is_executing": false
        }
      }
    },
    {
      "cell_type": "code",
      "execution_count": 6,
      "outputs": [
        {
          "data": {
            "text/plain": "\u003ctf.Tensor: id\u003d86, shape\u003d(), dtype\u003dstring, numpy\u003db\u0027Hello\u0027\u003e"
          },
          "metadata": {},
          "output_type": "execute_result",
          "execution_count": 6
        }
      ],
      "source": "tf.constant(\u0027Hello\u0027)",
      "metadata": {
        "pycharm": {
          "metadata": false,
          "name": "#%%\n",
          "is_executing": false
        }
      }
    },
    {
      "cell_type": "markdown",
      "source": "## 数据属性\n",
      "metadata": {
        "pycharm": {
          "metadata": false,
          "name": "#%% md\n"
        }
      }
    },
    {
      "cell_type": "code",
      "source": "with tf.device(\u0027cpu\u0027):\n    a \u003d tf.constant([1])\n\nwith tf.device(\u0027gpu\u0027):\n    b \u003d tf.range(4)\n    ",
      "metadata": {
        "pycharm": {
          "metadata": false,
          "name": "#%%\n",
          "is_executing": false
        }
      },
      "execution_count": 7,
      "outputs": []
    },
    {
      "cell_type": "code",
      "execution_count": 8,
      "outputs": [
        {
          "name": "stdout",
          "text": [
            "device of a:  /job:localhost/replica:0/task:0/device:CPU:0\ndevice of b:  /job:localhost/replica:0/task:0/device:GPU:0\n"
          ],
          "output_type": "stream"
        }
      ],
      "source": "print(\"device of a: \", a.device)\nprint(\"device of b: \", b.device)\n",
      "metadata": {
        "pycharm": {
          "metadata": false,
          "name": "#%%\n",
          "is_executing": false
        }
      }
    },
    {
      "cell_type": "code",
      "execution_count": 9,
      "outputs": [
        {
          "name": "stdout",
          "text": [
            "device of aa:  /job:localhost/replica:0/task:0/device:GPU:0\ndevice of bb:  /job:localhost/replica:0/task:0/device:CPU:0\n"
          ],
          "output_type": "stream"
        }
      ],
      "source": "# cpu \u003c\u003d\u003e gpu, \naa \u003d a.gpu()\nbb \u003d b.cpu()\n\nprint(\"device of aa: \", aa.device)\nprint(\"device of bb: \", bb.device)\n\n",
      "metadata": {
        "pycharm": {
          "metadata": false,
          "name": "#%%\n",
          "is_executing": false
        }
      }
    },
    {
      "cell_type": "code",
      "execution_count": 10,
      "outputs": [
        {
          "data": {
            "text/plain": "array([0, 1, 2, 3])"
          },
          "metadata": {},
          "output_type": "execute_result",
          "execution_count": 10
        }
      ],
      "source": "# tensor \u003d\u003e numpy\nb.numpy()\n",
      "metadata": {
        "pycharm": {
          "metadata": false,
          "name": "#%%\n",
          "is_executing": false
        }
      }
    },
    {
      "cell_type": "code",
      "execution_count": 11,
      "outputs": [
        {
          "name": "stdout",
          "text": [
            "scalar type of b ndims:  1\ntensor type of b ranks:  tf.Tensor(1, shape\u003d(), dtype\u003dint32)\n"
          ],
          "output_type": "stream"
        },
        {
          "traceback": [
            "\u001b[1;31m---------------------------------------------------------------------------\u001b[0m",
            "\u001b[1;31mAttributeError\u001b[0m                            Traceback (most recent call last)",
            "\u001b[1;32m\u003cipython-input-11-ed9cfbe0fbad\u003e\u001b[0m in \u001b[0;36m\u003cmodule\u003e\u001b[1;34m\u001b[0m\n\u001b[0;32m      1\u001b[0m \u001b[0mprint\u001b[0m\u001b[1;33m(\u001b[0m\u001b[1;34m\"scalar type of b ndims: \"\u001b[0m\u001b[1;33m,\u001b[0m \u001b[0mb\u001b[0m\u001b[1;33m.\u001b[0m\u001b[0mndim\u001b[0m\u001b[1;33m)\u001b[0m\u001b[1;33m\u001b[0m\u001b[0m\n\u001b[0;32m      2\u001b[0m \u001b[0mprint\u001b[0m\u001b[1;33m(\u001b[0m\u001b[1;34m\"tensor type of b ranks: \"\u001b[0m\u001b[1;33m,\u001b[0m \u001b[0mtf\u001b[0m\u001b[1;33m.\u001b[0m\u001b[0mrank\u001b[0m\u001b[1;33m(\u001b[0m\u001b[0mb\u001b[0m\u001b[1;33m)\u001b[0m\u001b[1;33m)\u001b[0m\u001b[1;33m\u001b[0m\u001b[0m\n\u001b[1;32m----\u003e 3\u001b[1;33m \u001b[0mprint\u001b[0m\u001b[1;33m(\u001b[0m\u001b[1;34m\"name of b: \"\u001b[0m\u001b[1;33m,\u001b[0m \u001b[0mb\u001b[0m\u001b[1;33m.\u001b[0m\u001b[0mname\u001b[0m\u001b[1;33m)\u001b[0m\u001b[1;33m\u001b[0m\u001b[0m\n\u001b[0m\u001b[0;32m      4\u001b[0m \u001b[1;33m\u001b[0m\u001b[0m\n",
            "\u001b[1;32md:\\programs\\conda\\envs\\gpu-env\\lib\\site-packages\\tensorflow\\python\\framework\\ops.py\u001b[0m in \u001b[0;36mname\u001b[1;34m(self)\u001b[0m\n\u001b[0;32m    995\u001b[0m   \u001b[1;32mdef\u001b[0m \u001b[0mname\u001b[0m\u001b[1;33m(\u001b[0m\u001b[0mself\u001b[0m\u001b[1;33m)\u001b[0m\u001b[1;33m:\u001b[0m\u001b[1;33m\u001b[0m\u001b[0m\n\u001b[0;32m    996\u001b[0m     raise AttributeError(\n\u001b[1;32m--\u003e 997\u001b[1;33m         \"Tensor.name is meaningless when eager execution is enabled.\")\n\u001b[0m\u001b[0;32m    998\u001b[0m \u001b[1;33m\u001b[0m\u001b[0m\n\u001b[0;32m    999\u001b[0m   \u001b[1;33m@\u001b[0m\u001b[0mproperty\u001b[0m\u001b[1;33m\u001b[0m\u001b[0m\n",
            "\u001b[1;31mAttributeError\u001b[0m: Tensor.name is meaningless when eager execution is enabled."
          ],
          "ename": "AttributeError",
          "evalue": "Tensor.name is meaningless when eager execution is enabled.",
          "output_type": "error"
        }
      ],
      "source": "print(\"scalar type of b ndims: \", b.ndim)\nprint(\"tensor type of b ranks: \", tf.rank(b))\nprint(\"name of b: \", b.name)\n",
      "metadata": {
        "pycharm": {
          "metadata": false,
          "name": "#%%\n",
          "is_executing": false
        }
      }
    },
    {
      "cell_type": "code",
      "execution_count": 12,
      "outputs": [
        {
          "name": "stdout",
          "text": [
            "a is a tensor:  True\na is a tensor:  True\n"
          ],
          "output_type": "stream"
        }
      ],
      "source": "# check is_tensor\nprint(\"a is a tensor: \", isinstance(a, tf.Tensor))\nprint(\"a is a tensor: \", tf.is_tensor(a))\n",
      "metadata": {
        "pycharm": {
          "metadata": false,
          "name": "#%%\n",
          "is_executing": false
        }
      }
    },
    {
      "cell_type": "code",
      "execution_count": 2,
      "outputs": [
        {
          "name": "stdout",
          "text": [
            "e: [0 1 2 3 4]\ndtype of e: int32\n",
            "ee: [0 1 2 3 4]\n"
          ],
          "output_type": "stream"
        }
      ],
      "source": "# Data convert \nimport numpy as np\n\ne \u003d np.arange(5)\nprint(\"e:\", e)\nprint(\"dtype of e:\", e.dtype)\n\nee \u003d tf.convert_to_tensor(e)\nprint(\"ee:\", e)\n",
      "metadata": {
        "pycharm": {
          "metadata": false,
          "name": "#%%\n",
          "is_executing": false
        }
      }
    },
    {
      "cell_type": "code",
      "execution_count": 14,
      "outputs": [
        {
          "data": {
            "text/plain": "\u003ctf.Tensor: id\u003d429, shape\u003d(5,), dtype\u003dfloat32, numpy\u003darray([0., 1., 2., 3., 4.], dtype\u003dfloat32)\u003e"
          },
          "metadata": {},
          "output_type": "execute_result",
          "execution_count": 14
        }
      ],
      "source": "tf.cast(ee, dtype\u003dtf.float32)\n",
      "metadata": {
        "pycharm": {
          "metadata": false,
          "name": "#%%\n",
          "is_executing": false
        }
      }
    },
    {
      "cell_type": "code",
      "execution_count": 15,
      "outputs": [
        {
          "data": {
            "text/plain": "\u003ctf.Tensor: id\u003d481, shape\u003d(5,), dtype\u003dfloat64, numpy\u003darray([0., 1., 2., 3., 4.])\u003e"
          },
          "metadata": {},
          "output_type": "execute_result",
          "execution_count": 15
        }
      ],
      "source": "tf.cast(ee, dtype\u003dtf.double)\n",
      "metadata": {
        "pycharm": {
          "metadata": false,
          "name": "#%%\n",
          "is_executing": false
        }
      }
    },
    {
      "cell_type": "markdown",
      "source": "### bool \u003c\u003d\u003e int\n",
      "metadata": {
        "pycharm": {
          "metadata": false,
          "name": "#%% md\n"
        }
      }
    },
    {
      "cell_type": "code",
      "execution_count": 16,
      "outputs": [
        {
          "data": {
            "text/plain": "\u003ctf.Tensor: id\u003d540, shape\u003d(2,), dtype\u003dbool, numpy\u003darray([False,  True])\u003e"
          },
          "metadata": {},
          "output_type": "execute_result",
          "execution_count": 16
        }
      ],
      "source": "t \u003d tf.constant([0 ,1])\ntf.cast(t, dtype\u003dtf.bool)\n",
      "metadata": {
        "pycharm": {
          "metadata": false,
          "name": "#%%\n",
          "is_executing": false
        }
      }
    },
    {
      "cell_type": "code",
      "execution_count": 17,
      "outputs": [
        {
          "data": {
            "text/plain": "\u003ctf.Tensor: id\u003d609, shape\u003d(2,), dtype\u003dint32, numpy\u003darray([0, 1])\u003e"
          },
          "metadata": {},
          "output_type": "execute_result",
          "execution_count": 17
        }
      ],
      "source": "tt \u003d tf.cast(t, dtype\u003dtf.bool)\ntf.cast(tt, dtype\u003dtf.int32)\n",
      "metadata": {
        "pycharm": {
          "metadata": false,
          "name": "#%%\n",
          "is_executing": false
        }
      }
    },
    {
      "cell_type": "markdown",
      "source": "### `tf.Variable`：在`tensor`基础上可求导\n",
      "metadata": {
        "pycharm": {
          "metadata": false,
          "name": "#%% md\n"
        }
      }
    },
    {
      "cell_type": "code",
      "execution_count": 19,
      "outputs": [
        {
          "name": "stdout",
          "text": [
            "dtype of dv:  \u003cdtype: \u0027int32\u0027\u003e\nname of dv:  Variable:0\nis_trainable of dv:  True\n"
          ],
          "output_type": "stream"
        }
      ],
      "source": "d \u003d tf.range(5)\ndv \u003d tf.Variable(d)\n\nprint(\"dtype of dv: \", dv.dtype)\nprint(\"name of dv: \", dv.name)\nprint(\"is_trainable of dv: \", dv.trainable)\n",
      "metadata": {
        "pycharm": {
          "metadata": false,
          "name": "#%%\n",
          "is_executing": false
        }
      }
    },
    {
      "cell_type": "code",
      "execution_count": 20,
      "outputs": [
        {
          "name": "stdout",
          "text": [
            "dv is Tensor:  False\ndv is Variable:  True\n"
          ],
          "output_type": "stream"
        },
        {
          "data": {
            "text/plain": "True"
          },
          "metadata": {},
          "output_type": "execute_result",
          "execution_count": 20
        }
      ],
      "source": "print(\"dv is Tensor: \", isinstance(dv, tf.Tensor))\nprint(\"dv is Variable: \", isinstance(dv, tf.Variable))\ntf.is_tensor(dv)\n",
      "metadata": {
        "pycharm": {
          "metadata": false,
          "name": "#%%\n",
          "is_executing": false
        }
      }
    },
    {
      "cell_type": "markdown",
      "source": "## 创建`Tensor`\n\n- from numpy, list\n- tf.zeros, tf.zeros_like, tf.ones, \n- tf.fill\n- tf.random\n- tf.constant\n",
      "metadata": {
        "pycharm": {
          "metadata": false,
          "name": "#%% md\n"
        }
      }
    },
    {
      "cell_type": "code",
      "execution_count": 21,
      "outputs": [],
      "source": "a \u003d tf.convert_to_tensor(np.ones([2, 3]))\nb \u003d tf.convert_to_tensor([2., 3.])\n",
      "metadata": {
        "pycharm": {
          "metadata": false,
          "name": "#%%\n",
          "is_executing": false
        }
      }
    },
    {
      "cell_type": "code",
      "execution_count": 22,
      "outputs": [
        {
          "data": {
            "text/plain": "\u003ctf.Tensor: id\u003d1027, shape\u003d(2, 2), dtype\u003dfloat32, numpy\u003d\narray([[0., 0.],\n       [0., 0.]], dtype\u003dfloat32)\u003e"
          },
          "metadata": {},
          "output_type": "execute_result",
          "execution_count": 22
        }
      ],
      "source": "tf.zeros([])\ntf.zeros([2, 2])\n",
      "metadata": {
        "pycharm": {
          "metadata": false,
          "name": "#%%\n",
          "is_executing": false
        }
      }
    },
    {
      "cell_type": "code",
      "execution_count": 23,
      "outputs": [
        {
          "data": {
            "text/plain": "\u003ctf.Tensor: id\u003d1115, shape\u003d(2, 2), dtype\u003dfloat32, numpy\u003d\narray([[4., 4.],\n       [4., 4.]], dtype\u003dfloat32)\u003e"
          },
          "metadata": {},
          "output_type": "execute_result",
          "execution_count": 23
        }
      ],
      "source": "tf.fill([2, 2], 4.)\n",
      "metadata": {
        "pycharm": {
          "metadata": false,
          "name": "#%%\n",
          "is_executing": false
        }
      }
    },
    {
      "cell_type": "code",
      "execution_count": 24,
      "outputs": [
        {
          "data": {
            "text/plain": "\u003ctf.Tensor: id\u003d1212, shape\u003d(2, 2), dtype\u003dfloat32, numpy\u003d\narray([[ 1.1985031, -0.826035 ],\n       [ 3.1260815,  1.2006266]], dtype\u003dfloat32)\u003e"
          },
          "metadata": {},
          "output_type": "execute_result",
          "execution_count": 24
        }
      ],
      "source": "tf.random.normal([2, 2], mean\u003d1, stddev\u003d1)\n",
      "metadata": {
        "pycharm": {
          "metadata": false,
          "name": "#%%\n",
          "is_executing": false
        }
      }
    },
    {
      "cell_type": "code",
      "execution_count": 25,
      "outputs": [
        {
          "data": {
            "text/plain": "\u003ctf.Tensor: id\u003d1317, shape\u003d(2, 2), dtype\u003dfloat32, numpy\u003d\narray([[ 1.2507284 , -0.09851211],\n       [ 0.6073443 , -1.8210297 ]], dtype\u003dfloat32)\u003e"
          },
          "metadata": {},
          "output_type": "execute_result",
          "execution_count": 25
        }
      ],
      "source": "# 截断分布，防止梯度消失\ntf.random.truncated_normal([2, 2], mean\u003d0, stddev\u003d1)\n",
      "metadata": {
        "pycharm": {
          "metadata": false,
          "name": "#%%\n",
          "is_executing": false
        }
      }
    },
    {
      "cell_type": "code",
      "execution_count": 26,
      "outputs": [
        {
          "data": {
            "text/plain": "\u003ctf.Tensor: id\u003d1429, shape\u003d(2, 2), dtype\u003dfloat32, numpy\u003d\narray([[2.897038 , 4.3528013],\n       [0.9034705, 4.5873365]], dtype\u003dfloat32)\u003e"
          },
          "metadata": {},
          "output_type": "execute_result",
          "execution_count": 26
        }
      ],
      "source": "# 均匀分布\ntf.random.uniform([2, 2], minval\u003d0, maxval\u003d5)\n",
      "metadata": {
        "pycharm": {
          "metadata": false,
          "name": "#%%\n",
          "is_executing": false
        }
      }
    },
    {
      "cell_type": "code",
      "execution_count": 27,
      "outputs": [],
      "source": "# random permutation: 随机打散\nidx \u003d tf.range(10)\nidx \u003d tf.random.shuffle(idx)\n\na \u003d tf.random.normal([10, 784])\nb \u003d tf.random.uniform([10], maxval\u003d10, dtype\u003dtf.int32)\n\na \u003d tf.gather(a, idx)\nb \u003d tf.gather(b, idx)\n\n",
      "metadata": {
        "pycharm": {
          "metadata": false,
          "name": "#%%\n",
          "is_executing": false
        }
      }
    },
    {
      "cell_type": "markdown",
      "source": "### 1. 常量的使用\n",
      "metadata": {
        "pycharm": {
          "metadata": false,
          "name": "#%% md\n"
        }
      }
    },
    {
      "cell_type": "code",
      "execution_count": 28,
      "outputs": [
        {
          "name": "stdout",
          "text": [
            "out:  tf.Tensor(\n[[4.9648392e-01 5.3804338e-01 1.1848235e-01 9.8715699e-01 7.6896358e-01\n  8.1761205e-01 1.9997239e-02 3.5519218e-01 9.7572947e-01 2.3420095e-01]\n [3.8370979e-01 1.1830878e-01 5.5359900e-01 3.5739303e-02 1.3182354e-01\n  1.1041224e-01 5.7361424e-01 4.2505956e-01 1.9017565e-01 7.8445935e-01]\n [3.2520294e-04 2.2230685e-01 3.8391459e-01 7.1896875e-01 9.3840337e-01\n  2.9250014e-01 9.2271006e-01 4.1293383e-01 5.6773770e-01 7.8036439e-01]\n [5.2806425e-01 1.9349170e-01 6.9213891e-01 5.2110004e-01 6.7373466e-01\n  1.9295335e-02 7.7046812e-01 2.4521136e-01 2.5076437e-01 6.9201708e-01]], shape\u003d(4, 10), dtype\u003dfloat32)\n"
          ],
          "output_type": "stream"
        }
      ],
      "source": "out \u003d tf.random.uniform([4, 10])\nprint(\"out: \", out)",
      "metadata": {
        "pycharm": {
          "metadata": false,
          "name": "#%%\n",
          "is_executing": false
        }
      }
    },
    {
      "cell_type": "code",
      "execution_count": 29,
      "outputs": [
        {
          "name": "stdout",
          "text": [
            "pred y:  tf.Tensor(\n[[1. 0. 0. 0. 0. 0. 0. 0. 0. 0.]\n [0. 1. 0. 0. 0. 0. 0. 0. 0. 0.]\n [0. 0. 1. 0. 0. 0. 0. 0. 0. 0.]\n [0. 0. 0. 1. 0. 0. 0. 0. 0. 0.]], shape\u003d(4, 10), dtype\u003dfloat32)\n"
          ],
          "output_type": "stream"
        }
      ],
      "source": "y \u003d tf.range(4)\ny \u003d tf.one_hot(y, depth\u003d10)\nprint(\"pred y: \", y)\n",
      "metadata": {
        "pycharm": {
          "metadata": false,
          "name": "#%%\n",
          "is_executing": false
        }
      }
    },
    {
      "cell_type": "code",
      "execution_count": 30,
      "outputs": [
        {
          "name": "stdout",
          "text": [
            "loss:  tf.Tensor([0.392479   0.24231823 0.3865258  0.26745033], shape\u003d(4,), dtype\u003dfloat32)\n"
          ],
          "output_type": "stream"
        }
      ],
      "source": "loss \u003d tf.keras.losses.mse(y, out)\nprint(\"loss: \", loss)\n",
      "metadata": {
        "pycharm": {
          "metadata": false,
          "name": "#%%\n",
          "is_executing": false
        }
      }
    },
    {
      "cell_type": "code",
      "execution_count": 31,
      "outputs": [
        {
          "data": {
            "text/plain": "\u003ctf.Tensor: id\u003d2042, shape\u003d(), dtype\u003dfloat32, numpy\u003d0.32219332\u003e"
          },
          "metadata": {},
          "output_type": "execute_result",
          "execution_count": 31
        }
      ],
      "source": "tf.reduce_mean(loss)\n",
      "metadata": {
        "pycharm": {
          "metadata": false,
          "name": "#%%\n",
          "is_executing": false
        }
      }
    },
    {
      "cell_type": "markdown",
      "source": "### 2. 3d tensor \n\n- nlp, sentence: [batch, seq_len, word_dim]",
      "metadata": {
        "pycharm": {
          "metadata": false,
          "name": "#%% md\n"
        }
      }
    },
    {
      "cell_type": "code",
      "execution_count": 3,
      "outputs": [
        {
          "name": "stdout",
          "text": [
            "Downloading data from https://storage.googleapis.com/tensorflow/tf-keras-datasets/imdb.npz\n",
            "\r    8192/17464789 [..............................] - ETA: 17s",
            "\b\b\b\b\b\b\b\b\b\b\b\b\b\b\b\b\b\b\b\b\b\b\b\b\b\b\b\b\b\b\b\b\b\b\b\b\b\b\b\b\b\b\b\b\b\b\b\b\b\b\b\b\b\b\b\b\b\b\b\b\b\r   32768/17464789 [..............................] - ETA: 32s",
            "\b\b\b\b\b\b\b\b\b\b\b\b\b\b\b\b\b\b\b\b\b\b\b\b\b\b\b\b\b\b\b\b\b\b\b\b\b\b\b\b\b\b\b\b\b\b\b\b\b\b\b\b\b\b\b\b\b\b\b\b\b\r   81920/17464789 [..............................] - ETA: 23s",
            "\b\b\b\b\b\b\b\b\b\b\b\b\b\b\b\b\b\b\b\b\b\b\b\b\b\b\b\b\b\b\b\b\b\b\b\b\b\b\b\b\b\b\b\b\b\b\b\b\b\b\b\b\b\b\b\b\b\b\b\b\b\r  172032/17464789 [..............................] - ETA: 16s",
            "\b\b\b\b\b\b\b\b\b\b\b\b\b\b\b\b\b\b\b\b\b\b\b\b\b\b\b\b\b\b\b\b\b\b\b\b\b\b\b\b\b\b\b\b\b\b\b\b\b\b\b\b\b\b\b\b\b\b\b\b\b\r  311296/17464789 [..............................] - ETA: 11s",
            "\b\b\b\b\b\b\b\b\b\b\b\b\b\b\b\b\b\b\b\b\b\b\b\b\b\b\b\b\b\b\b\b\b\b\b\b\b\b\b\b\b\b\b\b\b\b\b\b\b\b\b\b\b\b\b\b\b\b\b\b\b\r  450560/17464789 [..............................] - ETA: 10s",
            "\b\b\b\b\b\b\b\b\b\b\b\b\b\b\b\b\b\b\b\b\b\b\b\b\b\b\b\b\b\b\b\b\b\b\b\b\b\b\b\b\b\b\b\b\b\b\b\b\b\b\b\b\b\b\b\b\b\b\b\b\b\r  475136/17464789 [..............................] - ETA: 11s",
            "\b\b\b\b\b\b\b\b\b\b\b\b\b\b\b\b\b\b\b\b\b\b\b\b\b\b\b\b\b\b\b\b\b\b\b\b\b\b\b\b\b\b\b\b\b\b\b\b\b\b\b\b\b\b\b\b\b\b\b\b\b\r  892928/17464789 [\u003e.............................] - ETA: 6s ",
            "\b\b\b\b\b\b\b\b\b\b\b\b\b\b\b\b\b\b\b\b\b\b\b\b\b\b\b\b\b\b\b\b\b\b\b\b\b\b\b\b\b\b\b\b\b\b\b\b\b\b\b\b\b\b\b\b\b\b\b\b\r 1064960/17464789 [\u003e.............................] - ETA: 7s",
            "\b\b\b\b\b\b\b\b\b\b\b\b\b\b\b\b\b\b\b\b\b\b\b\b\b\b\b\b\b\b\b\b\b\b\b\b\b\b\b\b\b\b\b\b\b\b\b\b\b\b\b\b\b\b\b\b\b\b\b\b",
            "\r 1687552/17464789 [\u003d\u003e............................] - ETA: 4s",
            "\b\b\b\b\b\b\b\b\b\b\b\b\b\b\b\b\b\b\b\b\b\b\b\b\b\b\b\b\b\b\b\b\b\b\b\b\b\b\b\b\b\b\b\b\b\b\b\b\b\b\b\b\b\b\b\b\b\b\b\b",
            "\r 2793472/17464789 [\u003d\u003d\u003d\u003e..........................] - ETA: 3s",
            "\b\b\b\b\b\b\b\b\b\b\b\b\b\b\b\b\b\b\b\b\b\b\b\b\b\b\b\b\b\b\b\b\b\b\b\b\b\b\b\b\b\b\b\b\b\b\b\b\b\b\b\b\b\b\b\b\b\b\b\b\r 3325952/17464789 [\u003d\u003d\u003d\u003d\u003e.........................] - ETA: 2s",
            "\b\b\b\b\b\b\b\b\b\b\b\b\b\b\b\b\b\b\b\b\b\b\b\b\b\b\b\b\b\b\b\b\b\b\b\b\b\b\b\b\b\b\b\b\b\b\b\b\b\b\b\b\b\b\b\b\b\b\b\b\r 3850240/17464789 [\u003d\u003d\u003d\u003d\u003d\u003e........................] - ETA: 2s",
            "\b\b\b\b\b\b\b\b\b\b\b\b\b\b\b\b\b\b\b\b\b\b\b\b\b\b\b\b\b\b\b\b\b\b\b\b\b\b\b\b\b\b\b\b\b\b\b\b\b\b\b\b\b\b\b\b\b\b\b\b\r 4407296/17464789 [\u003d\u003d\u003d\u003d\u003d\u003d\u003e.......................] - ETA: 2s",
            "\b\b\b\b\b\b\b\b\b\b\b\b\b\b\b\b\b\b\b\b\b\b\b\b\b\b\b\b\b\b\b\b\b\b\b\b\b\b\b\b\b\b\b\b\b\b\b\b\b\b\b\b\b\b\b\b\b\b\b\b\r 4734976/17464789 [\u003d\u003d\u003d\u003d\u003d\u003d\u003d\u003e......................] - ETA: 2s",
            "\b\b\b\b\b\b\b\b\b\b\b\b\b\b\b\b\b\b\b\b\b\b\b\b\b\b\b\b\b\b\b\b\b\b\b\b\b\b\b\b\b\b\b\b\b\b\b\b\b\b\b\b\b\b\b\b\b\b\b\b\r 4980736/17464789 [\u003d\u003d\u003d\u003d\u003d\u003d\u003d\u003e......................] - ETA: 2s",
            "\b\b\b\b\b\b\b\b\b\b\b\b\b\b\b\b\b\b\b\b\b\b\b\b\b\b\b\b\b\b\b\b\b\b\b\b\b\b\b\b\b\b\b\b\b\b\b\b\b\b\b\b\b\b\b\b\b\b\b\b\r 6635520/17464789 [\u003d\u003d\u003d\u003d\u003d\u003d\u003d\u003d\u003d\u003d\u003e...................] - ETA: 1s",
            "\b\b\b\b\b\b\b\b\b\b\b\b\b\b\b\b\b\b\b\b\b\b\b\b\b\b\b\b\b\b\b\b\b\b\b\b\b\b\b\b\b\b\b\b\b\b\b\b\b\b\b\b\b\b\b\b\b\b\b\b\r 7815168/17464789 [\u003d\u003d\u003d\u003d\u003d\u003d\u003d\u003d\u003d\u003d\u003d\u003d\u003e.................] - ETA: 1s",
            "\b\b\b\b\b\b\b\b\b\b\b\b\b\b\b\b\b\b\b\b\b\b\b\b\b\b\b\b\b\b\b\b\b\b\b\b\b\b\b\b\b\b\b\b\b\b\b\b\b\b\b\b\b\b\b\b\b\b\b\b\r 8159232/17464789 [\u003d\u003d\u003d\u003d\u003d\u003d\u003d\u003d\u003d\u003d\u003d\u003d\u003d\u003e................] - ETA: 1s",
            "\b\b\b\b\b\b\b\b\b\b\b\b\b\b\b\b\b\b\b\b\b\b\b\b\b\b\b\b\b\b\b\b\b\b\b\b\b\b\b\b\b\b\b\b\b\b\b\b\b\b\b\b\b\b\b\b\b\b\b\b\r 9306112/17464789 [\u003d\u003d\u003d\u003d\u003d\u003d\u003d\u003d\u003d\u003d\u003d\u003d\u003d\u003d\u003e...............] - ETA: 1s",
            "\b\b\b\b\b\b\b\b\b\b\b\b\b\b\b\b\b\b\b\b\b\b\b\b\b\b\b\b\b\b\b\b\b\b\b\b\b\b\b\b\b\b\b\b\b\b\b\b\b\b\b\b\b\b\b\b\b\b\b\b\r 9846784/17464789 [\u003d\u003d\u003d\u003d\u003d\u003d\u003d\u003d\u003d\u003d\u003d\u003d\u003d\u003d\u003d\u003e..............] - ETA: 0s",
            "\b\b\b\b\b\b\b\b\b\b\b\b\b\b\b\b\b\b\b\b\b\b\b\b\b\b\b\b\b\b\b\b\b\b\b\b\b\b\b\b\b\b\b\b\b\b\b\b\b\b\b\b\b\b\b\b\b\b\b\b",
            "\r10092544/17464789 [\u003d\u003d\u003d\u003d\u003d\u003d\u003d\u003d\u003d\u003d\u003d\u003d\u003d\u003d\u003d\u003d\u003e.............] - ETA: 0s",
            "\b\b\b\b\b\b\b\b\b\b\b\b\b\b\b\b\b\b\b\b\b\b\b\b\b\b\b\b\b\b\b\b\b\b\b\b\b\b\b\b\b\b\b\b\b\b\b\b\b\b\b\b\b\b\b\b\b\b\b\b\r10747904/17464789 [\u003d\u003d\u003d\u003d\u003d\u003d\u003d\u003d\u003d\u003d\u003d\u003d\u003d\u003d\u003d\u003d\u003d\u003e............] - ETA: 0s",
            "\b\b\b\b\b\b\b\b\b\b\b\b\b\b\b\b\b\b\b\b\b\b\b\b\b\b\b\b\b\b\b\b\b\b\b\b\b\b\b\b\b\b\b\b\b\b\b\b\b\b\b\b\b\b\b\b\b\b\b\b\r11943936/17464789 [\u003d\u003d\u003d\u003d\u003d\u003d\u003d\u003d\u003d\u003d\u003d\u003d\u003d\u003d\u003d\u003d\u003d\u003d\u003d\u003e..........] - ETA: 0s",
            "\b\b\b\b\b\b\b\b\b\b\b\b\b\b\b\b\b\b\b\b\b\b\b\b\b\b\b\b\b\b\b\b\b\b\b\b\b\b\b\b\b\b\b\b\b\b\b\b\b\b\b\b\b\b\b\b\b\b\b\b",
            "\r12140544/17464789 [\u003d\u003d\u003d\u003d\u003d\u003d\u003d\u003d\u003d\u003d\u003d\u003d\u003d\u003d\u003d\u003d\u003d\u003d\u003d\u003e..........] - ETA: 0s",
            "\b\b\b\b\b\b\b\b\b\b\b\b\b\b\b\b\b\b\b\b\b\b\b\b\b\b\b\b\b\b\b\b\b\b\b\b\b\b\b\b\b\b\b\b\b\b\b\b\b\b\b\b\b\b\b\b\b\b\b\b\r13369344/17464789 [\u003d\u003d\u003d\u003d\u003d\u003d\u003d\u003d\u003d\u003d\u003d\u003d\u003d\u003d\u003d\u003d\u003d\u003d\u003d\u003d\u003d\u003e........] - ETA: 0s",
            "\b\b\b\b\b\b\b\b\b\b\b\b\b\b\b\b\b\b\b\b\b\b\b\b\b\b\b\b\b\b\b\b\b\b\b\b\b\b\b\b\b\b\b\b\b\b\b\b\b\b\b\b\b\b\b\b\b\b\b\b\r13647872/17464789 [\u003d\u003d\u003d\u003d\u003d\u003d\u003d\u003d\u003d\u003d\u003d\u003d\u003d\u003d\u003d\u003d\u003d\u003d\u003d\u003d\u003d\u003d\u003e.......] - ETA: 0s",
            "\b\b\b\b\b\b\b\b\b\b\b\b\b\b\b\b\b\b\b\b\b\b\b\b\b\b\b\b\b\b\b\b\b\b\b\b\b\b\b\b\b\b\b\b\b\b\b\b\b\b\b\b\b\b\b\b\b\b\b\b\r14925824/17464789 [\u003d\u003d\u003d\u003d\u003d\u003d\u003d\u003d\u003d\u003d\u003d\u003d\u003d\u003d\u003d\u003d\u003d\u003d\u003d\u003d\u003d\u003d\u003d\u003d\u003e.....] - ETA: 0s",
            "\b\b\b\b\b\b\b\b\b\b\b\b\b\b\b\b\b\b\b\b\b\b\b\b\b\b\b\b\b\b\b\b\b\b\b\b\b\b\b\b\b\b\b\b\b\b\b\b\b\b\b\b\b\b\b\b\b\b\b\b\r14958592/17464789 [\u003d\u003d\u003d\u003d\u003d\u003d\u003d\u003d\u003d\u003d\u003d\u003d\u003d\u003d\u003d\u003d\u003d\u003d\u003d\u003d\u003d\u003d\u003d\u003d\u003e.....] - ETA: 0s",
            "\b\b\b\b\b\b\b\b\b\b\b\b\b\b\b\b\b\b\b\b\b\b\b\b\b\b\b\b\b\b\b\b\b\b\b\b\b\b\b\b\b\b\b\b\b\b\b\b\b\b\b\b\b\b\b\b\b\b\b\b\r15663104/17464789 [\u003d\u003d\u003d\u003d\u003d\u003d\u003d\u003d\u003d\u003d\u003d\u003d\u003d\u003d\u003d\u003d\u003d\u003d\u003d\u003d\u003d\u003d\u003d\u003d\u003d\u003e....] - ETA: 0s",
            "\b\b\b\b\b\b\b\b\b\b\b\b\b\b\b\b\b\b\b\b\b\b\b\b\b\b\b\b\b\b\b\b\b\b\b\b\b\b\b\b\b\b\b\b\b\b\b\b\b\b\b\b\b\b\b\b\b\b\b\b\r16875520/17464789 [\u003d\u003d\u003d\u003d\u003d\u003d\u003d\u003d\u003d\u003d\u003d\u003d\u003d\u003d\u003d\u003d\u003d\u003d\u003d\u003d\u003d\u003d\u003d\u003d\u003d\u003d\u003d\u003e..] - ETA: 0s",
            "\b\b\b\b\b\b\b\b\b\b\b\b\b\b\b\b\b\b\b\b\b\b\b\b\b\b\b\b\b\b\b\b\b\b\b\b\b\b\b\b\b\b\b\b\b\b\b\b\b\b\b\b\b\b\b\b\b\b\b\b\r17432576/17464789 [\u003d\u003d\u003d\u003d\u003d\u003d\u003d\u003d\u003d\u003d\u003d\u003d\u003d\u003d\u003d\u003d\u003d\u003d\u003d\u003d\u003d\u003d\u003d\u003d\u003d\u003d\u003d\u003d\u003e.] - ETA: 0s",
            "\b\b\b\b\b\b\b\b\b\b\b\b\b\b\b\b\b\b\b\b\b\b\b\b\b\b\b\b\b\b\b\b\b\b\b\b\b\b\b\b\b\b\b\b\b\b\b\b\b\b\b\b\b\b\b\b\b\b\b\b\r17465344/17464789 [\u003d\u003d\u003d\u003d\u003d\u003d\u003d\u003d\u003d\u003d\u003d\u003d\u003d\u003d\u003d\u003d\u003d\u003d\u003d\u003d\u003d\u003d\u003d\u003d\u003d\u003d\u003d\u003d\u003d\u003d] - 2s 0us/step\n"
          ],
          "output_type": "stream"
        }
      ],
      "source": "(x_train, y_train), (x_test, y_test) \u003d tf.keras.datasets.imdb.load_data(num_words\u003d10000)\n",
      "metadata": {
        "pycharm": {
          "metadata": false,
          "name": "#%%\n",
          "is_executing": false
        }
      }
    },
    {
      "cell_type": "code",
      "execution_count": 4,
      "outputs": [
        {
          "name": "stdout",
          "text": [
            "x_train shape:  (25000, 80)\n"
          ],
          "output_type": "stream"
        }
      ],
      "source": "x_train \u003d tf.keras.preprocessing.sequence.pad_sequences(x_train, maxlen\u003d80)\nprint(\"x_train shape: \", x_train.shape)\n",
      "metadata": {
        "pycharm": {
          "metadata": false,
          "name": "#%%\n",
          "is_executing": false
        }
      }
    },
    {
      "cell_type": "markdown",
      "source": "### 3. 4d tensor\n\n-cv, image: [batch, h, w, channels]\n",
      "metadata": {
        "pycharm": {
          "metadata": false,
          "name": "#%% md\n"
        }
      }
    },
    {
      "cell_type": "code",
      "execution_count": 5,
      "outputs": [
        {
          "data": {
            "text/plain": "\u003ctf.Tensor: id\u003d41, shape\u003d(4, 30, 30, 16), dtype\u003dfloat32, numpy\u003d\narray([[[[ 6.35303378e-01,  3.36781770e-01, -3.29926401e-01, ...,\n          -2.16325521e-02,  6.10602498e-01, -4.72451329e-01],\n         [ 3.41860980e-01,  1.41850561e-01,  5.76126724e-02, ...,\n          -6.33215487e-01, -3.86410952e-01,  1.30264694e-02],\n         [-6.56270266e-01, -4.55143541e-01,  1.01047230e+00, ...,\n           2.19156995e-01,  1.14553237e+00, -4.46844757e-01],\n         ...,\n         [ 4.96770293e-02, -2.31059149e-01,  2.21819580e-01, ...,\n          -3.44803035e-01, -1.02263594e+00, -2.59762645e-01],\n         [ 3.49010974e-01, -3.13734382e-01,  1.09137536e-03, ...,\n          -1.13431859e+00,  3.37371230e-01, -7.35397160e-01],\n         [-7.55613267e-01, -1.42647707e+00,  3.34408879e-01, ...,\n           4.69449103e-01, -1.42016101e+00, -9.46678638e-01]],\n\n        [[-3.33803892e-02, -3.66623610e-01,  7.92861700e-01, ...,\n           2.84674019e-01,  3.91784668e-01,  4.90013093e-01],\n         [-5.17160706e-02,  5.91565907e-01, -8.01062047e-01, ...,\n          -1.96099326e-01, -4.70396370e-01,  2.13687956e-01],\n         [-3.98245066e-01, -1.31279004e+00,  1.15577328e+00, ...,\n          -1.96551099e-01, -8.10187280e-01,  1.50985736e-02],\n         ...,\n         [ 2.56796498e-02,  8.84518743e-01,  2.99450103e-02, ...,\n           6.57878399e-01,  9.07730877e-01, -3.23705256e-01],\n         [-9.36203599e-01,  1.14957976e+00,  1.31283796e+00, ...,\n           9.97444212e-01,  7.59172440e-01,  6.96519852e-01],\n         [-1.99032158e-01,  2.25600052e+00, -5.69959283e-02, ...,\n          -5.10722756e-01,  1.22396541e+00,  7.47348648e-03]],\n\n        [[-7.35349119e-01, -6.36236191e-01,  8.63119304e-01, ...,\n           5.28367937e-01, -3.58114988e-01,  6.00038804e-02],\n         [ 8.12398911e-01,  7.63462305e-01, -3.34305972e-01, ...,\n          -5.14261007e-01,  1.07944250e+00,  4.41517860e-01],\n         [-2.24664733e-01,  1.25580609e-01,  8.11761022e-01, ...,\n           6.01075962e-02,  2.85714447e-01, -2.66896546e-01],\n         ...,\n         [-4.97149646e-01, -4.80983704e-01, -9.98930335e-02, ...,\n          -4.03424591e-01,  2.38412872e-01,  8.48369181e-01],\n         [-4.85344619e-01, -1.03103697e+00, -6.95084691e-01, ...,\n          -6.30741656e-01, -9.93694186e-01, -2.20558330e-01],\n         [ 8.15010428e-01, -3.04336131e-01, -5.07936537e-01, ...,\n          -8.58934462e-01, -5.58103561e-01, -2.96533167e-01]],\n\n        ...,\n\n        [[-3.27274650e-01,  1.22845972e+00,  1.12061612e-01, ...,\n           6.75095201e-01,  5.67005217e-01,  4.73391682e-01],\n         [-6.75044060e-02,  6.67784214e-01,  4.65575665e-01, ...,\n          -7.90866986e-02,  5.10985553e-01,  4.39618468e-01],\n         [ 2.38172635e-01, -2.36620530e-01, -5.03034115e-01, ...,\n           2.69627333e-01,  4.17434841e-01, -9.19619918e-01],\n         ...,\n         [-4.03717719e-02, -7.85053670e-01, -4.63487208e-01, ...,\n           3.87184292e-01, -2.71575361e-01, -3.36236596e-01],\n         [ 2.61736333e-01, -4.30826515e-01, -1.14993954e+00, ...,\n          -7.77487516e-01, -1.07891107e+00,  5.83425105e-01],\n         [-1.92649111e-01, -7.10170805e-01, -2.95083910e-01, ...,\n           1.89827010e-01, -6.29007280e-01, -7.28427768e-01]],\n\n        [[ 5.49310029e-01,  4.45276558e-01, -1.20683908e+00, ...,\n           1.25577295e+00, -6.14800811e-01,  7.45963072e-03],\n         [ 6.14984512e-01, -6.19230807e-01, -6.67517900e-01, ...,\n           4.54465687e-01, -7.11489856e-01, -3.30635905e-01],\n         [ 5.83339095e-01, -5.11491358e-01, -8.21964979e-01, ...,\n           3.67570221e-02, -1.11850858e+00, -4.52154011e-01],\n         ...,\n         [ 7.07543612e-01,  1.36576593e-01, -2.13128701e-01, ...,\n           6.47655070e-01, -7.69692063e-01, -5.86155474e-01],\n         [ 2.67020911e-01, -8.87267530e-01, -3.81205767e-01, ...,\n           1.28117740e-01,  1.11953318e-02,  3.88037086e-01],\n         [-8.20205808e-01, -2.92147577e-01, -6.62041962e-01, ...,\n          -1.01078808e+00, -2.59116851e-02,  2.32049301e-01]],\n\n        [[ 7.52876639e-01,  9.16350245e-01, -1.32894859e-01, ...,\n           5.46336114e-01, -2.11142793e-01, -1.47333920e+00],\n         [ 3.15160513e-01,  1.35656789e-01,  2.36431658e-01, ...,\n           7.39214838e-01, -1.40565410e-01, -5.88750958e-01],\n         [-2.07649589e-01,  6.20990813e-01,  5.00161588e-01, ...,\n          -1.06160986e+00,  6.73325896e-01, -1.85596883e-01],\n         ...,\n         [-5.12767099e-02, -2.86298543e-01, -1.10133909e-01, ...,\n          -8.00321639e-01,  7.66222954e-01,  1.69902220e-01],\n         [-2.06373576e-02, -1.97969806e+00, -2.14944854e-01, ...,\n          -1.18816853e+00, -1.37890136e+00, -2.20480636e-01],\n         [-1.97679535e-01, -6.61824226e-01, -2.48220056e-01, ...,\n          -5.01861811e-01,  1.50842756e-01, -5.95114291e-01]]],\n\n\n       [[[ 6.83310509e-01,  1.56640150e-02, -4.06818658e-01, ...,\n          -1.03070664e+00, -1.08189023e+00, -4.82145756e-01],\n         [-5.06569684e-01, -1.24450493e+00,  3.94267112e-01, ...,\n           8.61236215e-01, -1.13267684e+00, -5.06329119e-01],\n         [-2.00332984e-01, -3.62213999e-01, -2.83488810e-01, ...,\n           1.14914611e-01, -5.75846732e-01,  1.61739305e-01],\n         ...,\n         [-2.28124484e-01, -5.21714389e-01, -3.90080333e-01, ...,\n          -3.38960402e-02,  5.09632640e-02,  3.52309883e-01],\n         [ 6.46004021e-01,  3.39148581e-01,  3.59688252e-02, ...,\n           1.82489499e-01, -6.67207599e-01, -4.03097183e-01],\n         [ 1.80871949e-01,  1.53306127e-01,  6.93636477e-01, ...,\n          -1.73334196e-01,  3.89962792e-01,  3.74379694e-01]],\n\n        [[ 7.02215314e-01,  1.26300788e+00, -3.17664623e-01, ...,\n           2.43906170e-01,  9.32731405e-02, -3.75202715e-01],\n         [-5.36814690e-01, -1.52138501e-01,  7.39765286e-01, ...,\n          -8.06863308e-01,  2.82179922e-01, -4.48118635e-02],\n         [ 2.31143937e-01,  7.67248511e-01, -1.21653534e-01, ...,\n          -4.68674153e-01,  4.12390649e-01, -8.44270647e-01],\n         ...,\n         [-8.04797709e-02, -7.99512148e-01,  1.33543551e-01, ...,\n          -5.08935273e-01, -3.55907798e-01, -2.49884158e-01],\n         [ 1.16920359e-01,  1.38244659e-01, -1.01563287e+00, ...,\n          -4.39908832e-01, -1.78275600e-01,  4.33246493e-01],\n         [-5.53653359e-01, -6.42808974e-01,  6.08469546e-01, ...,\n           7.01337695e-01, -4.72766310e-01,  2.03958377e-01]],\n\n        [[ 3.65393400e-01,  3.00591856e-01, -3.88204277e-01, ...,\n           1.50996700e-01, -4.88913469e-02,  1.21980512e+00],\n         [ 3.58303398e-01,  3.46005470e-01, -3.53902757e-01, ...,\n           8.65065008e-02, -1.10990322e+00, -6.18333101e-01],\n         [ 4.70952302e-01, -1.90593883e-01, -8.97763848e-01, ...,\n           2.92661279e-01, -5.25914729e-01, -1.41009733e-01],\n         ...,\n         [-4.52857345e-01,  4.37947698e-02,  2.35850766e-01, ...,\n           2.91058064e-01,  3.41103435e-01,  1.11007452e-01],\n         [ 8.80399644e-01,  5.72170138e-01, -9.69267070e-01, ...,\n          -6.15029097e-01, -5.36303878e-01,  1.16411475e-02],\n         [-1.83657870e-01, -1.19079185e+00,  7.82458305e-01, ...,\n           1.34888198e-02, -1.58268749e-03, -5.55238128e-01]],\n\n        ...,\n\n        [[-5.18717580e-02, -1.31335989e-01,  5.13356268e-01, ...,\n           4.23194885e-01, -5.10182977e-01, -3.14029396e-01],\n         [ 5.17562687e-01,  3.55892956e-01, -1.03188753e+00, ...,\n          -1.02424061e+00,  1.73840120e-01, -3.96965593e-01],\n         [-2.36431047e-01,  1.86954603e-01,  6.61329627e-01, ...,\n           1.17342973e+00, -4.94354129e-01, -9.28916693e-01],\n         ...,\n         [ 2.01670988e-03,  7.82119513e-01, -9.39148962e-01, ...,\n          -4.86635596e-01,  3.57072204e-01, -2.68986933e-02],\n         [-5.18157125e-01,  9.75878716e-01,  1.29336858e+00, ...,\n           1.19835973e+00,  7.12294504e-02, -1.14244930e-01],\n         [ 5.14973521e-01,  9.13818955e-01, -6.18862748e-01, ...,\n           9.60622802e-02, -3.71620022e-02,  1.90028161e-01]],\n\n        [[ 5.85544646e-01,  6.39550030e-01, -2.52760112e-01, ...,\n           4.66278672e-01, -8.20584178e-01, -4.66481417e-01],\n         [ 2.31108695e-01, -3.83276463e-01, -2.90525824e-01, ...,\n           1.81886703e-01, -3.44927281e-01, -6.28548741e-01],\n         [-7.20620811e-01,  2.55449414e-01, -3.65147084e-01, ...,\n          -4.51461613e-01,  4.04341042e-01,  1.89126432e-01],\n         ...,\n         [-4.15497907e-02,  2.53586709e-01, -3.56544048e-01, ...,\n           3.24040294e-01,  7.61875451e-01, -1.37779132e-01],\n         [-9.04712021e-01,  2.45795503e-01, -8.32445100e-02, ...,\n          -2.09427193e-01,  2.91015953e-01,  1.03876495e+00],\n         [ 2.14812070e-01, -4.11249429e-01, -2.07470402e-01, ...,\n          -2.78922200e-01,  2.03837201e-01, -1.23441875e-01]],\n\n        [[ 6.35791197e-03, -5.40739205e-03, -9.92000937e-01, ...,\n          -9.11282778e-01,  1.69972777e-02,  1.67209774e-01],\n         [ 3.51875365e-01, -5.60690999e-01, -4.18091893e-01, ...,\n          -5.03646135e-01, -8.40625286e-01, -8.20781469e-01],\n         [ 2.72568226e-01, -5.23669004e-01, -9.00723159e-01, ...,\n          -1.65420398e-01, -4.66664523e-01, -5.06010592e-01],\n         ...,\n         [ 9.00981426e-01,  5.82623601e-01,  9.59585965e-01, ...,\n           6.35100663e-01,  8.87751281e-02, -7.82357216e-01],\n         [-3.45003992e-01, -3.81331325e-01,  1.06093585e-02, ...,\n          -7.05274660e-03,  8.37609291e-01,  2.25553393e-01],\n         [-5.25805235e-01, -4.86365408e-01,  5.04163027e-01, ...,\n           6.00963868e-02,  2.98635930e-01,  3.38914603e-01]]],\n\n\n       [[[ 8.83447528e-01,  1.47385311e+00, -5.85506439e-01, ...,\n           2.86271185e-01, -2.19660848e-01, -3.36209685e-01],\n         [ 1.36469054e+00,  2.63878018e-01, -6.16198361e-01, ...,\n           9.45475578e-01, -5.80366850e-01,  1.02357216e-01],\n         [ 9.51088727e-01,  1.59839854e-01,  1.44975102e-02, ...,\n          -3.21542323e-01,  4.11772847e-01, -8.66997302e-01],\n         ...,\n         [ 5.65924287e-01,  1.34865749e+00,  2.63373971e-01, ...,\n           6.48483396e-01,  4.87943560e-01,  6.11662194e-02],\n         [-3.59775543e-01, -3.38829994e-01, -6.87623993e-02, ...,\n           6.76883042e-01, -2.84519289e-02,  1.01697195e+00],\n         [-4.63747919e-01, -5.12012064e-01, -7.98402011e-01, ...,\n          -9.63478267e-01, -7.52087057e-01, -1.75161034e-01]],\n\n        [[ 6.33110762e-01,  3.61685157e-01, -9.59854186e-01, ...,\n          -1.00639367e+00,  1.90935493e-01, -2.25051194e-01],\n         [ 2.16698259e-01, -4.31130558e-01, -5.96108213e-02, ...,\n           2.44768798e-01,  1.94108263e-01, -5.74041009e-01],\n         [ 2.89797068e-01,  2.25613546e-03, -2.18166541e-02, ...,\n          -6.29119992e-01, -1.78634405e-01,  2.55683810e-01],\n         ...,\n         [ 3.34591895e-01, -4.39115733e-01, -5.11934042e-01, ...,\n          -2.45892461e-02, -7.12935030e-01, -1.08998626e-01],\n         [ 3.82927686e-01, -1.13738680e+00, -4.81829107e-01, ...,\n           3.34440947e-01, -1.11675465e+00, -3.20701659e-01],\n         [-3.56737942e-01, -8.67014229e-01, -9.55786705e-01, ...,\n          -3.86453450e-01,  2.52615452e-01,  6.65301740e-01]],\n\n        [[-2.54110187e-01,  2.35051215e-01,  1.25359702e+00, ...,\n          -1.17010510e+00,  1.45651245e+00,  1.87504113e-01],\n         [-9.17447686e-01,  9.98836339e-01,  5.31959951e-01, ...,\n           2.03710884e-01,  1.12278521e+00,  2.79460788e-01],\n         [ 3.33173066e-01,  1.49307534e-01, -9.33074355e-02, ...,\n           4.09439027e-01,  3.89852226e-01,  5.79411387e-01],\n         ...,\n         [ 3.50427806e-01,  2.81412542e-01,  5.48751414e-01, ...,\n           1.82682294e-02,  6.44039452e-01, -4.35146272e-01],\n         [-3.79954316e-02, -4.92412865e-01,  9.86959413e-02, ...,\n          -3.13186079e-01,  4.42615420e-01,  1.09610714e-01],\n         [-1.12553738e-01, -1.17868698e+00, -2.58244485e-01, ...,\n          -3.30273420e-01, -5.91772348e-02, -1.03635609e-01]],\n\n        ...,\n\n        [[-3.13528836e-01,  2.15785742e-01, -1.24240220e-01, ...,\n          -1.54535979e-01,  7.29907036e-01, -4.38091248e-01],\n         [-5.20270824e-01, -5.76837175e-02, -1.13456525e-01, ...,\n           3.00756246e-01,  5.93158007e-01,  8.93439174e-01],\n         [-3.89571965e-01,  6.47407115e-01, -6.42898679e-02, ...,\n          -3.23654920e-01,  1.20335042e+00, -3.06929618e-01],\n         ...,\n         [ 7.19720721e-02, -3.44378859e-01,  6.73158586e-01, ...,\n          -8.00688446e-01, -3.59758228e-01,  5.24128199e-01],\n         [-1.15965985e-01,  2.86973834e-01,  3.66774321e-01, ...,\n          -3.20695698e-01,  2.91455418e-01, -1.37274444e-01],\n         [-3.65817457e-01,  2.49811094e-02, -6.46987632e-02, ...,\n           1.36889428e-01, -6.09714329e-01, -2.77741879e-01]],\n\n        [[-7.09953755e-02, -7.33114302e-01, -9.11053643e-02, ...,\n          -7.65263319e-01, -6.01235569e-01,  2.09916085e-01],\n         [-6.48752034e-01, -1.62793994e+00,  2.26832479e-01, ...,\n           2.05065608e-01, -1.71181902e-01, -3.82651538e-01],\n         [-9.16205227e-01, -1.02319860e+00, -4.54341650e-01, ...,\n          -6.65669739e-01,  4.60943162e-01,  1.40273690e+00],\n         ...,\n         [ 8.12059268e-02, -1.21686824e-01,  1.77404016e-01, ...,\n           5.23175299e-01,  1.02316879e-01,  3.53078514e-01],\n         [-8.64216909e-02,  1.32652909e-01,  3.39403093e-01, ...,\n           5.38052320e-02, -6.20846927e-01,  4.45210934e-01],\n         [ 6.82078063e-01,  3.44369501e-01, -1.80134788e-01, ...,\n          -4.66350883e-01,  2.68513352e-01, -7.39446044e-01]],\n\n        [[-4.41708118e-01,  2.23821178e-01,  5.46198487e-01, ...,\n           9.37732279e-01,  8.90594721e-01,  3.48758638e-01],\n         [-5.87173879e-01, -4.74728495e-01,  6.99936926e-01, ...,\n          -7.64440238e-01,  4.28128630e-01,  1.96402431e-01],\n         [-2.54996717e-01, -5.98963052e-02, -4.92791384e-02, ...,\n           2.43724704e-01,  6.75849244e-02,  7.13001192e-03],\n         ...,\n         [ 1.20395295e-01, -6.04876727e-02,  5.90149909e-02, ...,\n           7.73895800e-01,  4.30511087e-01,  4.50428665e-01],\n         [ 1.59338474e-01, -4.36337441e-01, -6.72671735e-01, ...,\n          -2.65530348e-01, -3.38681996e-01,  1.68365687e-01],\n         [ 5.89401245e-01, -3.44111741e-01, -1.29655331e-01, ...,\n          -3.86669725e-01, -1.31418422e-01, -1.30043373e-01]]],\n\n\n       [[[-1.08245730e+00, -2.07844806e+00, -1.98686197e-01, ...,\n          -6.61995888e-01, -1.84184805e-01,  4.78805572e-01],\n         [ 3.67693037e-01, -4.90801662e-01,  6.53528795e-02, ...,\n          -3.47703248e-01,  3.84229608e-02,  6.03911042e-01],\n         [-1.75083980e-01,  1.31095067e-01,  1.80776678e-02, ...,\n          -1.29842192e-01,  1.54129326e-01,  1.52028203e-01],\n         ...,\n         [-1.94474638e-01, -1.13343284e-01, -1.25233764e-02, ...,\n           2.70797461e-01,  9.67620432e-01, -1.85297355e-01],\n         [-1.90259802e+00, -1.20060158e+00,  2.09436968e-01, ...,\n          -1.38599885e+00,  1.67558715e-01,  1.14539623e+00],\n         [ 4.68726009e-01, -5.00380814e-01, -8.11419904e-01, ...,\n          -6.49969459e-01, -6.02305174e-01, -2.29016677e-01]],\n\n        [[ 3.87548916e-02,  4.66203570e-01,  7.75674343e-01, ...,\n           3.89048100e-01,  5.78461945e-01,  4.50996637e-01],\n         [-3.73268336e-01, -5.22332564e-02, -1.70128658e-01, ...,\n           8.99300873e-01, -5.04793823e-02,  5.18712759e-01],\n         [-4.34429795e-01, -4.61587489e-01, -3.16624224e-01, ...,\n           6.03741348e-01, -7.59839788e-02,  1.70452669e-01],\n         ...,\n         [-9.17117238e-01, -8.19040298e-01,  6.58500195e-01, ...,\n           1.98579878e-01,  1.97981939e-01,  1.27242863e+00],\n         [ 1.32640257e-01, -2.50048727e-01, -5.06520212e-01, ...,\n          -5.05323529e-01, -1.22517794e-01, -2.36083373e-01],\n         [ 9.91607904e-01,  8.85001644e-02,  3.63929957e-01, ...,\n           3.51496711e-02,  7.10359693e-01,  1.11475818e-01]],\n\n        [[-5.63742995e-01,  3.20112854e-01,  5.66408753e-01, ...,\n           6.94262087e-02, -8.79949629e-01,  2.31597871e-01],\n         [ 6.09883256e-02, -1.61130518e-01,  2.05375105e-01, ...,\n          -2.12019309e-01,  1.10571183e-01, -2.18230337e-01],\n         [-1.91456098e-02,  3.13321888e-01, -6.89602733e-01, ...,\n           9.72318426e-02, -4.40129340e-01, -3.03926151e-02],\n         ...,\n         [ 5.85118949e-01,  6.51020184e-02,  2.79948086e-01, ...,\n           7.36563802e-02, -1.55068028e+00, -9.50000733e-02],\n         [ 8.13925326e-01, -1.24538434e+00, -5.40690303e-01, ...,\n           1.78021297e-01, -5.73867083e-01, -5.33219337e-01],\n         [-7.57704675e-01, -1.04084790e+00,  3.81298393e-01, ...,\n           4.53644842e-01, -8.26621771e-01,  4.53371942e-01]],\n\n        ...,\n\n        [[ 5.27444661e-01, -5.09688556e-01, -4.75270718e-01, ...,\n           3.76600683e-01, -7.06234649e-02, -2.95721143e-01],\n         [ 4.58617508e-01,  3.55821431e-01,  3.62969249e-01, ...,\n          -5.81587017e-01,  9.83732402e-01, -6.56021595e-01],\n         [ 9.54053774e-02, -1.24341093e-01, -1.68754086e-01, ...,\n          -3.97618949e-01, -2.65437722e-01,  4.89785582e-01],\n         ...,\n         [-9.80366836e-04, -6.97561204e-01, -2.92881969e-02, ...,\n          -2.28450596e-01, -6.46583736e-01,  4.86384332e-02],\n         [-4.27384853e-01, -4.83477563e-01, -6.57571703e-02, ...,\n          -1.05529644e-01, -4.90734607e-01,  3.72245684e-02],\n         [ 3.57679635e-01,  1.04161072e+00, -1.42276719e-01, ...,\n           1.86491415e-01,  5.73362410e-01, -3.67854983e-01]],\n\n        [[-1.44147921e+00, -6.08910441e-01, -5.43311059e-01, ...,\n          -7.26881385e-01, -2.14322895e-01, -4.16070521e-01],\n         [-2.53883451e-01, -9.83045995e-02, -5.44141173e-01, ...,\n           2.10459262e-01, -2.57709444e-01,  1.34447324e+00],\n         [-2.84563661e-01, -4.09037232e-01, -7.90888786e-01, ...,\n           6.30599320e-01, -2.25708410e-01,  3.01665753e-01],\n         ...,\n         [-1.58630669e-01, -2.66644005e-02,  7.34864950e-01, ...,\n          -5.29071987e-01,  6.66821778e-01,  6.30007505e-01],\n         [-5.21130383e-01,  2.05462411e-01, -5.41862011e-01, ...,\n          -4.77616429e-01,  1.03605993e-01, -2.69403040e-01],\n         [ 7.01987417e-03,  5.74098051e-01,  2.32313737e-01, ...,\n           9.18611109e-01,  6.39627501e-02,  7.33795688e-02]],\n\n        [[-1.77850440e-01, -7.51153659e-03, -2.75186002e-01, ...,\n          -9.38183546e-01,  8.35705221e-01,  4.71858352e-01],\n         [ 2.69328326e-01,  4.84485716e-01,  2.10522637e-01, ...,\n           1.61517233e-01, -2.34803762e-02, -6.65084660e-01],\n         [-1.15394883e-01, -1.57542571e-01,  2.76482046e-01, ...,\n           1.62849903e-01,  8.11312556e-01,  1.76317975e-01],\n         ...,\n         [-2.66275018e-01, -1.28381753e+00,  3.34229559e-01, ...,\n           3.62532109e-01, -1.50668418e+00, -7.20730945e-02],\n         [ 5.76312188e-03, -9.73610461e-01, -1.24803090e+00, ...,\n           7.07444027e-02, -2.83991486e-01, -2.63582557e-01],\n         [-4.54729021e-01, -5.18991530e-01, -2.12919682e-01, ...,\n          -3.19242090e-01,  2.43959233e-01,  3.19802254e-01]]]],\n      dtype\u003dfloat32)\u003e"
          },
          "metadata": {},
          "output_type": "execute_result",
          "execution_count": 5
        }
      ],
      "source": "x \u003d tf.random.normal((4, 32, 32, 3))\nnet \u003d tf.keras.layers.Conv2D(16, kernel_size\u003d3)\nnet(x)\n",
      "metadata": {
        "pycharm": {
          "metadata": false,
          "name": "#%%\n",
          "is_executing": false
        }
      }
    },
    {
      "cell_type": "markdown",
      "source": "### 4. 5d tensor\n\n- single task: [b, h, w, 3]\n- meta-learning: [task-b, b, h, w, 3]\n",
      "metadata": {
        "pycharm": {
          "metadata": false,
          "name": "#%% md\n"
        }
      }
    },
    {
      "cell_type": "markdown",
      "source": "## `Tensor`操作：索引和切片\n",
      "metadata": {
        "pycharm": {
          "metadata": false
        }
      }
    },
    {
      "cell_type": "code",
      "execution_count": 6,
      "outputs": [],
      "source": "# 1. basic indexing\na \u003d tf.ones([1, 4, 4, 3])\n",
      "metadata": {
        "pycharm": {
          "metadata": false,
          "name": "#%%\n",
          "is_executing": false
        }
      }
    },
    {
      "cell_type": "code",
      "execution_count": 7,
      "outputs": [
        {
          "data": {
            "text/plain": "\u003ctf.Tensor: id\u003d79, shape\u003d(4, 3), dtype\u003dfloat32, numpy\u003d\narray([[1., 1., 1.],\n       [1., 1., 1.],\n       [1., 1., 1.],\n       [1., 1., 1.]], dtype\u003dfloat32)\u003e"
          },
          "metadata": {},
          "output_type": "execute_result",
          "execution_count": 7
        }
      ],
      "source": "a[0][0]\n",
      "metadata": {
        "pycharm": {
          "metadata": false,
          "name": "#%%\n",
          "is_executing": false
        }
      }
    },
    {
      "cell_type": "code",
      "execution_count": 8,
      "outputs": [
        {
          "data": {
            "text/plain": "\u003ctf.Tensor: id\u003d114, shape\u003d(3,), dtype\u003dfloat32, numpy\u003darray([1., 1., 1.], dtype\u003dfloat32)\u003e"
          },
          "metadata": {},
          "output_type": "execute_result",
          "execution_count": 8
        }
      ],
      "source": "a[0][0][0]\n",
      "metadata": {
        "pycharm": {
          "metadata": false,
          "name": "#%%\n",
          "is_executing": false
        }
      }
    },
    {
      "cell_type": "code",
      "execution_count": 9,
      "outputs": [
        {
          "data": {
            "text/plain": "\u003ctf.Tensor: id\u003d161, shape\u003d(), dtype\u003dfloat32, numpy\u003d1.0\u003e"
          },
          "metadata": {},
          "output_type": "execute_result",
          "execution_count": 9
        }
      ],
      "source": "a[0][0][0][1]\n",
      "metadata": {
        "pycharm": {
          "metadata": false,
          "name": "#%%\n",
          "is_executing": false
        }
      }
    },
    {
      "cell_type": "code",
      "execution_count": 10,
      "outputs": [
        {
          "data": {
            "text/plain": "TensorShape([28, 28, 3])"
          },
          "metadata": {},
          "output_type": "execute_result",
          "execution_count": 10
        }
      ],
      "source": "# 2. numpy style indexing\nb \u003d tf.random.normal([4, 28, 28, 3])\nb[1].shape\n",
      "metadata": {
        "pycharm": {
          "metadata": false,
          "name": "#%%\n",
          "is_executing": false
        }
      }
    },
    {
      "cell_type": "code",
      "execution_count": 11,
      "outputs": [
        {
          "data": {
            "text/plain": "TensorShape([28, 3])"
          },
          "metadata": {},
          "output_type": "execute_result",
          "execution_count": 11
        }
      ],
      "source": "b[1, 2].shape",
      "metadata": {
        "pycharm": {
          "metadata": false,
          "name": "#%%\n",
          "is_executing": false
        }
      }
    },
    {
      "cell_type": "code",
      "execution_count": 12,
      "outputs": [
        {
          "data": {
            "text/plain": "TensorShape([])"
          },
          "metadata": {},
          "output_type": "execute_result",
          "execution_count": 12
        }
      ],
      "source": "b[1, 2, 2, 1].shape",
      "metadata": {
        "pycharm": {
          "metadata": false,
          "name": "#%%\n",
          "is_executing": false
        }
      }
    },
    {
      "cell_type": "code",
      "execution_count": 13,
      "outputs": [
        {
          "data": {
            "text/plain": "\u003ctf.Tensor: id\u003d326, shape\u003d(3,), dtype\u003dint32, numpy\u003darray([7, 8, 9])\u003e"
          },
          "metadata": {},
          "output_type": "execute_result",
          "execution_count": 13
        }
      ],
      "source": "# 3. start:end:step, ::step, ::-1(倒序), ...()\nc \u003d tf.range(10)\nc[-3:]\n",
      "metadata": {
        "pycharm": {
          "metadata": false,
          "name": "#%%\n",
          "is_executing": false
        }
      }
    },
    {
      "cell_type": "markdown",
      "source": "### Selective indexing\n\n- tf.gather\n- tf.gather_nd\n- tf.boolean_mask\n",
      "metadata": {
        "pycharm": {
          "metadata": false,
          "name": "#%% md\n"
        }
      }
    },
    {
      "cell_type": "code",
      "execution_count": 14,
      "outputs": [],
      "source": "# a \u003d [classes, students, scores]\na \u003d tf.random.uniform([4, 35, 9], maxval\u003d100, dtype\u003dtf.int32)\n\n",
      "metadata": {
        "pycharm": {
          "metadata": false,
          "name": "#%%\n",
          "is_executing": false
        }
      }
    },
    {
      "cell_type": "code",
      "execution_count": 15,
      "outputs": [
        {
          "data": {
            "text/plain": "TensorShape([2, 35, 9])"
          },
          "metadata": {},
          "output_type": "execute_result",
          "execution_count": 15
        }
      ],
      "source": "tf.gather(a, axis\u003d0, indices\u003d[1, 3]).shape\n",
      "metadata": {
        "pycharm": {
          "metadata": false,
          "name": "#%%\n",
          "is_executing": false
        }
      }
    },
    {
      "cell_type": "code",
      "execution_count": 16,
      "outputs": [
        {
          "data": {
            "text/plain": "TensorShape([4, 35, 3])"
          },
          "metadata": {},
          "output_type": "execute_result",
          "execution_count": 16
        }
      ],
      "source": "tf.gather(a, axis\u003d2, indices\u003d[2, 3, 5]).shape",
      "metadata": {
        "pycharm": {
          "metadata": false,
          "name": "#%%\n",
          "is_executing": false
        }
      }
    },
    {
      "cell_type": "code",
      "execution_count": 17,
      "outputs": [
        {
          "data": {
            "text/plain": "TensorShape([4, 9])"
          },
          "metadata": {},
          "output_type": "execute_result",
          "execution_count": 17
        }
      ],
      "source": "# [cls1_stu1, cls2_stu2, cls3_stu3, cls4_stu4]\ntf.gather_nd(a, [[0, 0], [1, 1], [2, 2], [3, 3]]).shape\n",
      "metadata": {
        "pycharm": {
          "metadata": false,
          "name": "#%%\n",
          "is_executing": false
        }
      }
    },
    {
      "cell_type": "code",
      "execution_count": 18,
      "outputs": [
        {
          "name": "stdout",
          "text": [
            "(4, 28, 28, 3)\n"
          ],
          "output_type": "stream"
        }
      ],
      "source": "c \u003d tf.random.normal([4, 28, 28, 3], mean\u003d1, stddev\u003d1)\nprint(c.shape)\n\n",
      "metadata": {
        "pycharm": {
          "metadata": false,
          "name": "#%%\n",
          "is_executing": false
        }
      }
    },
    {
      "cell_type": "code",
      "execution_count": 19,
      "outputs": [
        {
          "name": "stderr",
          "text": [
            "WARNING: Logging before flag parsing goes to stderr.\nW0720 20:40:58.197344  8164 deprecation.py:323] From d:\\programs\\conda\\envs\\gpu-env\\lib\\site-packages\\tensorflow\\python\\ops\\array_ops.py:1340: add_dispatch_support.\u003clocals\u003e.wrapper (from tensorflow.python.ops.array_ops) is deprecated and will be removed in a future version.\nInstructions for updating:\nUse tf.where in 2.0, which has the same broadcast rule as np.where\n"
          ],
          "output_type": "stream"
        },
        {
          "data": {
            "text/plain": "TensorShape([2, 28, 28, 3])"
          },
          "metadata": {},
          "output_type": "execute_result",
          "execution_count": 19
        }
      ],
      "source": "# tf.boolean_mask\ntf.boolean_mask(c, mask\u003d[True, False, False, True], axis\u003d0).shape\n\n",
      "metadata": {
        "pycharm": {
          "metadata": false,
          "name": "#%%\n",
          "is_executing": false
        }
      }
    },
    {
      "cell_type": "code",
      "execution_count": 21,
      "outputs": [
        {
          "data": {
            "text/plain": "\u003ctf.Tensor: id\u003d738, shape\u003d(2, 4), dtype\u003dfloat32, numpy\u003d\narray([[1., 1., 1., 1.],\n       [1., 1., 1., 1.]], dtype\u003dfloat32)\u003e"
          },
          "metadata": {},
          "output_type": "execute_result",
          "execution_count": 21
        }
      ],
      "source": "cc \u003d tf.ones([2, 3, 4])\ntf.boolean_mask(cc, mask\u003d[[True, False, False], [False, True, False]])\n",
      "metadata": {
        "pycharm": {
          "metadata": false,
          "name": "#%%\n",
          "is_executing": false
        }
      }
    },
    {
      "cell_type": "markdown",
      "source": "## 维度变换\n\n- shape, ndim\n- reshape\n- expand\n",
      "metadata": {
        "pycharm": {
          "metadata": false,
          "name": "#%% md\n"
        }
      }
    },
    {
      "cell_type": "code",
      "execution_count": 22,
      "outputs": [
        {
          "data": {
            "text/plain": "TensorShape([4, 3, 28, 28])"
          },
          "metadata": {},
          "output_type": "execute_result",
          "execution_count": 22
        }
      ],
      "source": "# 1. tf.transpose\n\naa \u003d tf.random.normal([4, 28, 28, 3])\ntf.transpose(aa, [0, 3, 1, 2]).shape\n\n",
      "metadata": {
        "pycharm": {
          "metadata": false,
          "name": "#%%\n",
          "is_executing": false
        }
      }
    },
    {
      "cell_type": "code",
      "execution_count": 23,
      "outputs": [
        {
          "name": "stdout",
          "text": [
            "(1, 4, 28, 4)\n(4, 28, 4, 1)\n(4, 28, 4, 1)\n"
          ],
          "output_type": "stream"
        }
      ],
      "source": "# expand \n# a: [classes, student, subjects]\naa \u003d tf.random.uniform([4, 28, 4])\nprint(tf.expand_dims(aa, axis\u003d0).shape)\nprint(tf.expand_dims(aa, axis\u003d3).shape)\nprint(tf.expand_dims(aa, axis\u003d-1).shape)\n",
      "metadata": {
        "pycharm": {
          "metadata": false,
          "name": "#%%\n",
          "is_executing": false
        }
      }
    },
    {
      "cell_type": "code",
      "execution_count": 24,
      "outputs": [
        {
          "name": "stdout",
          "text": [
            "(2, 3)\n"
          ],
          "output_type": "stream"
        }
      ],
      "source": "# squeeze\n# 减少 features 为 1 的维度\nprint(tf.squeeze(tf.zeros([1, 2, 1, 1, 3])).shape)\n",
      "metadata": {
        "pycharm": {
          "metadata": false,
          "name": "#%%\n",
          "is_executing": false
        }
      }
    },
    {
      "cell_type": "code",
      "execution_count": 25,
      "outputs": [
        {
          "name": "stdout",
          "text": [
            "(2, 1, 1, 3)\n"
          ],
          "output_type": "stream"
        }
      ],
      "source": "print(tf.squeeze(tf.zeros([1, 2, 1, 1, 3]), axis\u003d0).shape)\n",
      "metadata": {
        "pycharm": {
          "metadata": false,
          "name": "#%%\n",
          "is_executing": false
        }
      }
    },
    {
      "cell_type": "markdown",
      "source": "## Broadcasting\n\n- expand\n- without coping data (vs tf.tile)\n- tf.broadcast_to\n\n**`Key Idea`**\n\n1. insert 1 dim ahead if needed\n2. Expand dims with size 1 to same size\n3. Feature map: [4, 32, 32, 3]\n4. Bias: [3] -\u003e [1, 1, 1, 3] -\u003e [4, 32, 32, 3]\n\n\n**broadcast 好处**\n\n- for real demanding(简洁)\n- memory consumption(节省空间)\n",
      "metadata": {
        "pycharm": {
          "metadata": false,
          "name": "#%% md\n"
        }
      }
    },
    {
      "cell_type": "code",
      "execution_count": null,
      "outputs": [],
      "source": "\n\n\n",
      "metadata": {
        "pycharm": {
          "metadata": false,
          "name": "#%%\n"
        }
      }
    }
  ],
  "metadata": {
    "language_info": {
      "codemirror_mode": {
        "name": "ipython",
        "version": 2
      },
      "file_extension": ".py",
      "mimetype": "text/x-python",
      "name": "python",
      "nbconvert_exporter": "python",
      "pygments_lexer": "ipython2",
      "version": "2.7.6"
    },
    "kernelspec": {
      "name": "python3",
      "language": "python",
      "display_name": "Python 3"
    }
  },
  "nbformat": 4,
  "nbformat_minor": 0
}