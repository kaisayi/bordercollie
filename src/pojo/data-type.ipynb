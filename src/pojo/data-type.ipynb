{
  "cells": [
    {
      "cell_type": "markdown",
      "metadata": {
        "collapsed": true,
        "pycharm": {
          "name": "#%% md\n"
        }
      },
      "source": "# `Tensorflow2.0`基本数据类型\n"
    },
    {
      "cell_type": "code",
      "execution_count": 1,
      "outputs": [],
      "source": "import tensorflow as tf\n",
      "metadata": {
        "pycharm": {
          "metadata": false,
          "name": "#%%\n",
          "is_executing": false
        }
      }
    },
    {
      "cell_type": "code",
      "execution_count": 2,
      "outputs": [
        {
          "data": {
            "text/plain": "\u003ctf.Tensor: id\u003d0, shape\u003d(), dtype\u003dint32, numpy\u003d1\u003e"
          },
          "metadata": {},
          "output_type": "execute_result",
          "execution_count": 2
        }
      ],
      "source": "tf.constant(1)",
      "metadata": {
        "pycharm": {
          "metadata": false,
          "name": "#%%\n",
          "is_executing": false
        }
      }
    },
    {
      "cell_type": "code",
      "execution_count": 3,
      "outputs": [
        {
          "data": {
            "text/plain": "\u003ctf.Tensor: id\u003d10, shape\u003d(), dtype\u003dfloat32, numpy\u003d2.0\u003e"
          },
          "metadata": {},
          "output_type": "execute_result",
          "execution_count": 3
        }
      ],
      "source": "tf.constant(2.)",
      "metadata": {
        "pycharm": {
          "metadata": false,
          "name": "#%%\n",
          "is_executing": false
        }
      }
    },
    {
      "cell_type": "code",
      "execution_count": 4,
      "outputs": [
        {
          "data": {
            "text/plain": "\u003ctf.Tensor: id\u003d28, shape\u003d(), dtype\u003dfloat64, numpy\u003d2.0\u003e"
          },
          "metadata": {},
          "output_type": "execute_result",
          "execution_count": 4
        }
      ],
      "source": "tf.constant(2., dtype\u003dtf.double)",
      "metadata": {
        "pycharm": {
          "metadata": false,
          "name": "#%%\n",
          "is_executing": false
        }
      }
    },
    {
      "cell_type": "code",
      "execution_count": 5,
      "outputs": [
        {
          "data": {
            "text/plain": "\u003ctf.Tensor: id\u003d54, shape\u003d(2,), dtype\u003dbool, numpy\u003darray([ True, False])\u003e"
          },
          "metadata": {},
          "output_type": "execute_result",
          "execution_count": 5
        }
      ],
      "source": "tf.constant([True, False])",
      "metadata": {
        "pycharm": {
          "metadata": false,
          "name": "#%%\n",
          "is_executing": false
        }
      }
    },
    {
      "cell_type": "code",
      "execution_count": 6,
      "outputs": [
        {
          "data": {
            "text/plain": "\u003ctf.Tensor: id\u003d86, shape\u003d(), dtype\u003dstring, numpy\u003db\u0027Hello\u0027\u003e"
          },
          "metadata": {},
          "output_type": "execute_result",
          "execution_count": 6
        }
      ],
      "source": "tf.constant(\u0027Hello\u0027)",
      "metadata": {
        "pycharm": {
          "metadata": false,
          "name": "#%%\n",
          "is_executing": false
        }
      }
    },
    {
      "cell_type": "markdown",
      "source": "## 数据属性\n",
      "metadata": {
        "pycharm": {
          "metadata": false,
          "name": "#%% md\n"
        }
      }
    },
    {
      "cell_type": "code",
      "source": "with tf.device(\u0027cpu\u0027):\n    a \u003d tf.constant([1])\n\nwith tf.device(\u0027gpu\u0027):\n    b \u003d tf.range(4)\n    ",
      "metadata": {
        "pycharm": {
          "metadata": false,
          "name": "#%%\n",
          "is_executing": false
        }
      },
      "execution_count": 7,
      "outputs": []
    },
    {
      "cell_type": "code",
      "execution_count": 8,
      "outputs": [
        {
          "name": "stdout",
          "text": [
            "device of a:  /job:localhost/replica:0/task:0/device:CPU:0\ndevice of b:  /job:localhost/replica:0/task:0/device:GPU:0\n"
          ],
          "output_type": "stream"
        }
      ],
      "source": "print(\"device of a: \", a.device)\nprint(\"device of b: \", b.device)\n",
      "metadata": {
        "pycharm": {
          "metadata": false,
          "name": "#%%\n",
          "is_executing": false
        }
      }
    },
    {
      "cell_type": "code",
      "execution_count": 9,
      "outputs": [
        {
          "name": "stdout",
          "text": [
            "device of aa:  /job:localhost/replica:0/task:0/device:GPU:0\ndevice of bb:  /job:localhost/replica:0/task:0/device:CPU:0\n"
          ],
          "output_type": "stream"
        }
      ],
      "source": "# cpu \u003c\u003d\u003e gpu, \naa \u003d a.gpu()\nbb \u003d b.cpu()\n\nprint(\"device of aa: \", aa.device)\nprint(\"device of bb: \", bb.device)\n\n",
      "metadata": {
        "pycharm": {
          "metadata": false,
          "name": "#%%\n",
          "is_executing": false
        }
      }
    },
    {
      "cell_type": "code",
      "execution_count": 10,
      "outputs": [
        {
          "data": {
            "text/plain": "array([0, 1, 2, 3])"
          },
          "metadata": {},
          "output_type": "execute_result",
          "execution_count": 10
        }
      ],
      "source": "# tensor \u003d\u003e numpy\nb.numpy()\n",
      "metadata": {
        "pycharm": {
          "metadata": false,
          "name": "#%%\n",
          "is_executing": false
        }
      }
    },
    {
      "cell_type": "code",
      "execution_count": 11,
      "outputs": [
        {
          "name": "stdout",
          "text": [
            "scalar type of b ndims:  1\ntensor type of b ranks:  tf.Tensor(1, shape\u003d(), dtype\u003dint32)\n"
          ],
          "output_type": "stream"
        },
        {
          "traceback": [
            "\u001b[1;31m---------------------------------------------------------------------------\u001b[0m",
            "\u001b[1;31mAttributeError\u001b[0m                            Traceback (most recent call last)",
            "\u001b[1;32m\u003cipython-input-11-ed9cfbe0fbad\u003e\u001b[0m in \u001b[0;36m\u003cmodule\u003e\u001b[1;34m\u001b[0m\n\u001b[0;32m      1\u001b[0m \u001b[0mprint\u001b[0m\u001b[1;33m(\u001b[0m\u001b[1;34m\"scalar type of b ndims: \"\u001b[0m\u001b[1;33m,\u001b[0m \u001b[0mb\u001b[0m\u001b[1;33m.\u001b[0m\u001b[0mndim\u001b[0m\u001b[1;33m)\u001b[0m\u001b[1;33m\u001b[0m\u001b[0m\n\u001b[0;32m      2\u001b[0m \u001b[0mprint\u001b[0m\u001b[1;33m(\u001b[0m\u001b[1;34m\"tensor type of b ranks: \"\u001b[0m\u001b[1;33m,\u001b[0m \u001b[0mtf\u001b[0m\u001b[1;33m.\u001b[0m\u001b[0mrank\u001b[0m\u001b[1;33m(\u001b[0m\u001b[0mb\u001b[0m\u001b[1;33m)\u001b[0m\u001b[1;33m)\u001b[0m\u001b[1;33m\u001b[0m\u001b[0m\n\u001b[1;32m----\u003e 3\u001b[1;33m \u001b[0mprint\u001b[0m\u001b[1;33m(\u001b[0m\u001b[1;34m\"name of b: \"\u001b[0m\u001b[1;33m,\u001b[0m \u001b[0mb\u001b[0m\u001b[1;33m.\u001b[0m\u001b[0mname\u001b[0m\u001b[1;33m)\u001b[0m\u001b[1;33m\u001b[0m\u001b[0m\n\u001b[0m\u001b[0;32m      4\u001b[0m \u001b[1;33m\u001b[0m\u001b[0m\n",
            "\u001b[1;32md:\\programs\\conda\\envs\\gpu-env\\lib\\site-packages\\tensorflow\\python\\framework\\ops.py\u001b[0m in \u001b[0;36mname\u001b[1;34m(self)\u001b[0m\n\u001b[0;32m    995\u001b[0m   \u001b[1;32mdef\u001b[0m \u001b[0mname\u001b[0m\u001b[1;33m(\u001b[0m\u001b[0mself\u001b[0m\u001b[1;33m)\u001b[0m\u001b[1;33m:\u001b[0m\u001b[1;33m\u001b[0m\u001b[0m\n\u001b[0;32m    996\u001b[0m     raise AttributeError(\n\u001b[1;32m--\u003e 997\u001b[1;33m         \"Tensor.name is meaningless when eager execution is enabled.\")\n\u001b[0m\u001b[0;32m    998\u001b[0m \u001b[1;33m\u001b[0m\u001b[0m\n\u001b[0;32m    999\u001b[0m   \u001b[1;33m@\u001b[0m\u001b[0mproperty\u001b[0m\u001b[1;33m\u001b[0m\u001b[0m\n",
            "\u001b[1;31mAttributeError\u001b[0m: Tensor.name is meaningless when eager execution is enabled."
          ],
          "ename": "AttributeError",
          "evalue": "Tensor.name is meaningless when eager execution is enabled.",
          "output_type": "error"
        }
      ],
      "source": "print(\"scalar type of b ndims: \", b.ndim)\nprint(\"tensor type of b ranks: \", tf.rank(b))\nprint(\"name of b: \", b.name)\n",
      "metadata": {
        "pycharm": {
          "metadata": false,
          "name": "#%%\n",
          "is_executing": false
        }
      }
    },
    {
      "cell_type": "code",
      "execution_count": 12,
      "outputs": [
        {
          "name": "stdout",
          "text": [
            "a is a tensor:  True\na is a tensor:  True\n"
          ],
          "output_type": "stream"
        }
      ],
      "source": "# check is_tensor\nprint(\"a is a tensor: \", isinstance(a, tf.Tensor))\nprint(\"a is a tensor: \", tf.is_tensor(a))\n",
      "metadata": {
        "pycharm": {
          "metadata": false,
          "name": "#%%\n",
          "is_executing": false
        }
      }
    },
    {
      "cell_type": "code",
      "execution_count": 13,
      "outputs": [
        {
          "name": "stdout",
          "text": [
            "e: [0 1 2 3 4]\ndtype of e: int32\nee: [0 1 2 3 4]\n"
          ],
          "output_type": "stream"
        }
      ],
      "source": "# Data convert \nimport numpy as np\n\ne \u003d np.arange(5)\nprint(\"e:\", e)\nprint(\"dtype of e:\", e.dtype)\n\nee \u003d tf.convert_to_tensor(e)\nprint(\"ee:\", e)\n",
      "metadata": {
        "pycharm": {
          "metadata": false,
          "name": "#%%\n",
          "is_executing": false
        }
      }
    },
    {
      "cell_type": "code",
      "execution_count": 14,
      "outputs": [
        {
          "data": {
            "text/plain": "\u003ctf.Tensor: id\u003d429, shape\u003d(5,), dtype\u003dfloat32, numpy\u003darray([0., 1., 2., 3., 4.], dtype\u003dfloat32)\u003e"
          },
          "metadata": {},
          "output_type": "execute_result",
          "execution_count": 14
        }
      ],
      "source": "tf.cast(ee, dtype\u003dtf.float32)\n",
      "metadata": {
        "pycharm": {
          "metadata": false,
          "name": "#%%\n",
          "is_executing": false
        }
      }
    },
    {
      "cell_type": "code",
      "execution_count": 15,
      "outputs": [
        {
          "data": {
            "text/plain": "\u003ctf.Tensor: id\u003d481, shape\u003d(5,), dtype\u003dfloat64, numpy\u003darray([0., 1., 2., 3., 4.])\u003e"
          },
          "metadata": {},
          "output_type": "execute_result",
          "execution_count": 15
        }
      ],
      "source": "tf.cast(ee, dtype\u003dtf.double)\n",
      "metadata": {
        "pycharm": {
          "metadata": false,
          "name": "#%%\n",
          "is_executing": false
        }
      }
    },
    {
      "cell_type": "markdown",
      "source": "### bool \u003c\u003d\u003e int\n",
      "metadata": {
        "pycharm": {
          "metadata": false,
          "name": "#%% md\n"
        }
      }
    },
    {
      "cell_type": "code",
      "execution_count": 16,
      "outputs": [
        {
          "data": {
            "text/plain": "\u003ctf.Tensor: id\u003d540, shape\u003d(2,), dtype\u003dbool, numpy\u003darray([False,  True])\u003e"
          },
          "metadata": {},
          "output_type": "execute_result",
          "execution_count": 16
        }
      ],
      "source": "t \u003d tf.constant([0 ,1])\ntf.cast(t, dtype\u003dtf.bool)\n",
      "metadata": {
        "pycharm": {
          "metadata": false,
          "name": "#%%\n",
          "is_executing": false
        }
      }
    },
    {
      "cell_type": "code",
      "execution_count": 17,
      "outputs": [
        {
          "data": {
            "text/plain": "\u003ctf.Tensor: id\u003d609, shape\u003d(2,), dtype\u003dint32, numpy\u003darray([0, 1])\u003e"
          },
          "metadata": {},
          "output_type": "execute_result",
          "execution_count": 17
        }
      ],
      "source": "tt \u003d tf.cast(t, dtype\u003dtf.bool)\ntf.cast(tt, dtype\u003dtf.int32)\n",
      "metadata": {
        "pycharm": {
          "metadata": false,
          "name": "#%%\n",
          "is_executing": false
        }
      }
    },
    {
      "cell_type": "markdown",
      "source": "### `tf.Variable`：在`tensor`基础上可求导\n",
      "metadata": {
        "pycharm": {
          "metadata": false,
          "name": "#%% md\n"
        }
      }
    },
    {
      "cell_type": "code",
      "execution_count": 19,
      "outputs": [
        {
          "name": "stdout",
          "text": [
            "dtype of dv:  \u003cdtype: \u0027int32\u0027\u003e\nname of dv:  Variable:0\nis_trainable of dv:  True\n"
          ],
          "output_type": "stream"
        }
      ],
      "source": "d \u003d tf.range(5)\ndv \u003d tf.Variable(d)\n\nprint(\"dtype of dv: \", dv.dtype)\nprint(\"name of dv: \", dv.name)\nprint(\"is_trainable of dv: \", dv.trainable)\n",
      "metadata": {
        "pycharm": {
          "metadata": false,
          "name": "#%%\n",
          "is_executing": false
        }
      }
    },
    {
      "cell_type": "code",
      "execution_count": 20,
      "outputs": [
        {
          "name": "stdout",
          "text": [
            "dv is Tensor:  False\ndv is Variable:  True\n"
          ],
          "output_type": "stream"
        },
        {
          "data": {
            "text/plain": "True"
          },
          "metadata": {},
          "output_type": "execute_result",
          "execution_count": 20
        }
      ],
      "source": "print(\"dv is Tensor: \", isinstance(dv, tf.Tensor))\nprint(\"dv is Variable: \", isinstance(dv, tf.Variable))\ntf.is_tensor(dv)\n",
      "metadata": {
        "pycharm": {
          "metadata": false,
          "name": "#%%\n",
          "is_executing": false
        }
      }
    },
    {
      "cell_type": "markdown",
      "source": "## 创建`Tensor`\n\n- from numpy, list\n- tf.zeros, tf.zeros_like, tf.ones, \n- tf.fill\n- tf.random\n- tf.constant\n",
      "metadata": {
        "pycharm": {
          "metadata": false,
          "name": "#%% md\n"
        }
      }
    },
    {
      "cell_type": "code",
      "execution_count": 21,
      "outputs": [],
      "source": "a \u003d tf.convert_to_tensor(np.ones([2, 3]))\nb \u003d tf.convert_to_tensor([2., 3.])\n",
      "metadata": {
        "pycharm": {
          "metadata": false,
          "name": "#%%\n",
          "is_executing": false
        }
      }
    },
    {
      "cell_type": "code",
      "execution_count": 22,
      "outputs": [
        {
          "data": {
            "text/plain": "\u003ctf.Tensor: id\u003d1027, shape\u003d(2, 2), dtype\u003dfloat32, numpy\u003d\narray([[0., 0.],\n       [0., 0.]], dtype\u003dfloat32)\u003e"
          },
          "metadata": {},
          "output_type": "execute_result",
          "execution_count": 22
        }
      ],
      "source": "tf.zeros([])\ntf.zeros([2, 2])\n",
      "metadata": {
        "pycharm": {
          "metadata": false,
          "name": "#%%\n",
          "is_executing": false
        }
      }
    },
    {
      "cell_type": "code",
      "execution_count": 23,
      "outputs": [
        {
          "data": {
            "text/plain": "\u003ctf.Tensor: id\u003d1115, shape\u003d(2, 2), dtype\u003dfloat32, numpy\u003d\narray([[4., 4.],\n       [4., 4.]], dtype\u003dfloat32)\u003e"
          },
          "metadata": {},
          "output_type": "execute_result",
          "execution_count": 23
        }
      ],
      "source": "tf.fill([2, 2], 4.)\n",
      "metadata": {
        "pycharm": {
          "metadata": false,
          "name": "#%%\n",
          "is_executing": false
        }
      }
    },
    {
      "cell_type": "code",
      "execution_count": 24,
      "outputs": [
        {
          "data": {
            "text/plain": "\u003ctf.Tensor: id\u003d1212, shape\u003d(2, 2), dtype\u003dfloat32, numpy\u003d\narray([[ 1.1985031, -0.826035 ],\n       [ 3.1260815,  1.2006266]], dtype\u003dfloat32)\u003e"
          },
          "metadata": {},
          "output_type": "execute_result",
          "execution_count": 24
        }
      ],
      "source": "tf.random.normal([2, 2], mean\u003d1, stddev\u003d1)\n",
      "metadata": {
        "pycharm": {
          "metadata": false,
          "name": "#%%\n",
          "is_executing": false
        }
      }
    },
    {
      "cell_type": "code",
      "execution_count": 25,
      "outputs": [
        {
          "data": {
            "text/plain": "\u003ctf.Tensor: id\u003d1317, shape\u003d(2, 2), dtype\u003dfloat32, numpy\u003d\narray([[ 1.2507284 , -0.09851211],\n       [ 0.6073443 , -1.8210297 ]], dtype\u003dfloat32)\u003e"
          },
          "metadata": {},
          "output_type": "execute_result",
          "execution_count": 25
        }
      ],
      "source": "# 截断分布，防止梯度消失\ntf.random.truncated_normal([2, 2], mean\u003d0, stddev\u003d1)\n",
      "metadata": {
        "pycharm": {
          "metadata": false,
          "name": "#%%\n",
          "is_executing": false
        }
      }
    },
    {
      "cell_type": "code",
      "execution_count": 26,
      "outputs": [
        {
          "data": {
            "text/plain": "\u003ctf.Tensor: id\u003d1429, shape\u003d(2, 2), dtype\u003dfloat32, numpy\u003d\narray([[2.897038 , 4.3528013],\n       [0.9034705, 4.5873365]], dtype\u003dfloat32)\u003e"
          },
          "metadata": {},
          "output_type": "execute_result",
          "execution_count": 26
        }
      ],
      "source": "# 均匀分布\ntf.random.uniform([2, 2], minval\u003d0, maxval\u003d5)\n",
      "metadata": {
        "pycharm": {
          "metadata": false,
          "name": "#%%\n",
          "is_executing": false
        }
      }
    },
    {
      "cell_type": "code",
      "execution_count": 27,
      "outputs": [],
      "source": "# random permutation: 随机打散\nidx \u003d tf.range(10)\nidx \u003d tf.random.shuffle(idx)\n\na \u003d tf.random.normal([10, 784])\nb \u003d tf.random.uniform([10], maxval\u003d10, dtype\u003dtf.int32)\n\na \u003d tf.gather(a, idx)\nb \u003d tf.gather(b, idx)\n\n",
      "metadata": {
        "pycharm": {
          "metadata": false,
          "name": "#%%\n",
          "is_executing": false
        }
      }
    },
    {
      "cell_type": "markdown",
      "source": "### 1. 常量的使用\n",
      "metadata": {
        "pycharm": {
          "metadata": false,
          "name": "#%% md\n"
        }
      }
    },
    {
      "cell_type": "code",
      "execution_count": 28,
      "outputs": [
        {
          "name": "stdout",
          "text": [
            "out:  tf.Tensor(\n[[4.9648392e-01 5.3804338e-01 1.1848235e-01 9.8715699e-01 7.6896358e-01\n  8.1761205e-01 1.9997239e-02 3.5519218e-01 9.7572947e-01 2.3420095e-01]\n [3.8370979e-01 1.1830878e-01 5.5359900e-01 3.5739303e-02 1.3182354e-01\n  1.1041224e-01 5.7361424e-01 4.2505956e-01 1.9017565e-01 7.8445935e-01]\n [3.2520294e-04 2.2230685e-01 3.8391459e-01 7.1896875e-01 9.3840337e-01\n  2.9250014e-01 9.2271006e-01 4.1293383e-01 5.6773770e-01 7.8036439e-01]\n [5.2806425e-01 1.9349170e-01 6.9213891e-01 5.2110004e-01 6.7373466e-01\n  1.9295335e-02 7.7046812e-01 2.4521136e-01 2.5076437e-01 6.9201708e-01]], shape\u003d(4, 10), dtype\u003dfloat32)\n"
          ],
          "output_type": "stream"
        }
      ],
      "source": "out \u003d tf.random.uniform([4, 10])\nprint(\"out: \", out)",
      "metadata": {
        "pycharm": {
          "metadata": false,
          "name": "#%%\n",
          "is_executing": false
        }
      }
    },
    {
      "cell_type": "code",
      "execution_count": 29,
      "outputs": [
        {
          "name": "stdout",
          "text": [
            "pred y:  tf.Tensor(\n[[1. 0. 0. 0. 0. 0. 0. 0. 0. 0.]\n [0. 1. 0. 0. 0. 0. 0. 0. 0. 0.]\n [0. 0. 1. 0. 0. 0. 0. 0. 0. 0.]\n [0. 0. 0. 1. 0. 0. 0. 0. 0. 0.]], shape\u003d(4, 10), dtype\u003dfloat32)\n"
          ],
          "output_type": "stream"
        }
      ],
      "source": "y \u003d tf.range(4)\ny \u003d tf.one_hot(y, depth\u003d10)\nprint(\"pred y: \", y)\n",
      "metadata": {
        "pycharm": {
          "metadata": false,
          "name": "#%%\n",
          "is_executing": false
        }
      }
    },
    {
      "cell_type": "code",
      "execution_count": 30,
      "outputs": [
        {
          "name": "stdout",
          "text": [
            "loss:  tf.Tensor([0.392479   0.24231823 0.3865258  0.26745033], shape\u003d(4,), dtype\u003dfloat32)\n"
          ],
          "output_type": "stream"
        }
      ],
      "source": "loss \u003d tf.keras.losses.mse(y, out)\nprint(\"loss: \", loss)\n",
      "metadata": {
        "pycharm": {
          "metadata": false,
          "name": "#%%\n",
          "is_executing": false
        }
      }
    },
    {
      "cell_type": "code",
      "execution_count": 31,
      "outputs": [
        {
          "data": {
            "text/plain": "\u003ctf.Tensor: id\u003d2042, shape\u003d(), dtype\u003dfloat32, numpy\u003d0.32219332\u003e"
          },
          "metadata": {},
          "output_type": "execute_result",
          "execution_count": 31
        }
      ],
      "source": "tf.reduce_mean(loss)\n",
      "metadata": {
        "pycharm": {
          "metadata": false,
          "name": "#%%\n",
          "is_executing": false
        }
      }
    },
    {
      "cell_type": "markdown",
      "source": "### 2.x \n\n",
      "metadata": {
        "pycharm": {
          "metadata": false,
          "name": "#%% md\n"
        }
      }
    }
  ],
  "metadata": {
    "language_info": {
      "codemirror_mode": {
        "name": "ipython",
        "version": 2
      },
      "file_extension": ".py",
      "mimetype": "text/x-python",
      "name": "python",
      "nbconvert_exporter": "python",
      "pygments_lexer": "ipython2",
      "version": "2.7.6"
    },
    "kernelspec": {
      "name": "python3",
      "language": "python",
      "display_name": "Python 3"
    }
  },
  "nbformat": 4,
  "nbformat_minor": 0
}