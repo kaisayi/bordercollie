{
  "cells": [
    {
      "cell_type": "markdown",
      "metadata": {
        "collapsed": true,
        "pycharm": {
          "name": "#%% md\n"
        }
      },
      "source": "# 卷积神经网络\n"
    },
    {
      "cell_type": "markdown",
      "source": "\n## 基本概念\n",
      "metadata": {
        "pycharm": {
          "metadata": false
        }
      }
    },
    {
      "cell_type": "code",
      "execution_count": 1,
      "outputs": [],
      "source": "import tensorflow as tf\nfrom tensorflow import keras\n",
      "metadata": {
        "pycharm": {
          "metadata": false,
          "name": "#%%\n",
          "is_executing": false
        }
      }
    },
    {
      "cell_type": "code",
      "execution_count": 3,
      "outputs": [
        {
          "name": "stdout",
          "text": [
            "Shape of X:  (1, 32, 32, 3)\n"
          ],
          "output_type": "stream"
        }
      ],
      "source": "x \u003d tf.ones((1, 32, 32, 3))\nprint(\"Shape of X: \", x.shape)\n",
      "metadata": {
        "pycharm": {
          "metadata": false,
          "name": "#%%\n",
          "is_executing": false
        }
      }
    },
    {
      "cell_type": "code",
      "execution_count": 5,
      "outputs": [
        {
          "data": {
            "text/plain": "TensorShape([1, 28, 28, 4])"
          },
          "metadata": {},
          "output_type": "execute_result",
          "execution_count": 5
        }
      ],
      "source": "conv_layer \u003d keras.layers.Conv2D(4, kernel_size\u003d5, strides\u003d1, padding\u003d\u0027valid\u0027)\nconv_layer(x).shape\n",
      "metadata": {
        "pycharm": {
          "metadata": false,
          "name": "#%%\n",
          "is_executing": false
        }
      }
    },
    {
      "cell_type": "code",
      "execution_count": 6,
      "outputs": [
        {
          "data": {
            "text/plain": "TensorShape([1, 32, 32, 4])"
          },
          "metadata": {},
          "output_type": "execute_result",
          "execution_count": 6
        }
      ],
      "source": "conv_layer \u003d keras.layers.Conv2D(4, kernel_size\u003d5, strides\u003d1, padding\u003d\u0027same\u0027)\nconv_layer(x).shape\n\n",
      "metadata": {
        "pycharm": {
          "metadata": false,
          "name": "#%%\n",
          "is_executing": false
        }
      }
    },
    {
      "cell_type": "code",
      "execution_count": 8,
      "outputs": [
        {
          "data": {
            "text/plain": "TensorShape([1, 16, 16, 4])"
          },
          "metadata": {},
          "output_type": "execute_result",
          "execution_count": 8
        }
      ],
      "source": "conv_layer \u003d keras.layers.Conv2D(4, kernel_size\u003d5, strides\u003d2, padding\u003d\u0027same\u0027)\nconv_layer(x).shape\n",
      "metadata": {
        "pycharm": {
          "metadata": false,
          "name": "#%%\n",
          "is_executing": false
        }
      }
    },
    {
      "cell_type": "code",
      "execution_count": 9,
      "outputs": [],
      "source": "# tf.nn.conv2d 更加底层，灵活性更大\nw \u003d tf.random.normal([5, 5, 3, 4])\nb \u003d tf.zeros([4])\n",
      "metadata": {
        "pycharm": {
          "metadata": false,
          "name": "#%%\n",
          "is_executing": false
        }
      }
    },
    {
      "cell_type": "code",
      "execution_count": 10,
      "outputs": [
        {
          "name": "stdout",
          "text": [
            "(1, 28, 28, 4)\n"
          ],
          "output_type": "stream"
        }
      ],
      "source": "out \u003d tf.nn.conv2d(x, w, strides\u003d1, padding\u003d\u0027VALID\u0027)\nprint(out.shape)\n\n",
      "metadata": {
        "pycharm": {
          "metadata": false,
          "name": "#%%\n",
          "is_executing": false
        }
      }
    },
    {
      "cell_type": "code",
      "execution_count": 11,
      "outputs": [
        {
          "name": "stdout",
          "text": [
            "(1, 28, 28, 4)\n"
          ],
          "output_type": "stream"
        }
      ],
      "source": "out \u003d out + b\nprint(out.shape)\n",
      "metadata": {
        "pycharm": {
          "metadata": false,
          "name": "#%%\n",
          "is_executing": false
        }
      }
    },
    {
      "cell_type": "code",
      "execution_count": 12,
      "outputs": [
        {
          "name": "stdout",
          "text": [
            "(1, 7, 7, 4)\n"
          ],
          "output_type": "stream"
        }
      ],
      "source": "# 下采样\nx \u003d tf.ones([1, 14, 14, 4])\n\npool \u003d keras.layers.MaxPool2D(2, strides\u003d2)\nout \u003d pool(x)\nprint(out.shape)\n",
      "metadata": {
        "pycharm": {
          "metadata": false,
          "name": "#%%\n",
          "is_executing": false
        }
      }
    },
    {
      "cell_type": "code",
      "execution_count": 13,
      "outputs": [
        {
          "name": "stdout",
          "text": [
            "(1, 6, 6, 4)\n"
          ],
          "output_type": "stream"
        }
      ],
      "source": "pool \u003d keras.layers.MaxPool2D(3, strides\u003d2)\nout \u003d pool(x)\nprint(out.shape)\n",
      "metadata": {
        "pycharm": {
          "metadata": false,
          "name": "#%%\n",
          "is_executing": false
        }
      }
    },
    {
      "cell_type": "code",
      "execution_count": 14,
      "outputs": [
        {
          "name": "stdout",
          "text": [
            "(1, 21, 21, 4)\n"
          ],
          "output_type": "stream"
        }
      ],
      "source": "# 上采样\nx \u003d tf.ones([1, 7, 7, 4])\n\nup_sample \u003d keras.layers.UpSampling2D(size\u003d3)\nout \u003d up_sample(x)\nprint(out.shape)\n",
      "metadata": {
        "pycharm": {
          "metadata": false,
          "name": "#%%\n",
          "is_executing": false
        }
      }
    },
    {
      "cell_type": "code",
      "execution_count": null,
      "outputs": [],
      "source": "\n",
      "metadata": {
        "pycharm": {
          "metadata": false,
          "name": "#%%\n"
        }
      }
    }
  ],
  "metadata": {
    "language_info": {
      "codemirror_mode": {
        "name": "ipython",
        "version": 2
      },
      "file_extension": ".py",
      "mimetype": "text/x-python",
      "name": "python",
      "nbconvert_exporter": "python",
      "pygments_lexer": "ipython2",
      "version": "2.7.6"
    },
    "kernelspec": {
      "name": "python3",
      "language": "python",
      "display_name": "Python 3"
    }
  },
  "nbformat": 4,
  "nbformat_minor": 0
}