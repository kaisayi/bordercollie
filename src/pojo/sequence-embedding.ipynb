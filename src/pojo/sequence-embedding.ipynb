{
  "cells": [
    {
      "cell_type": "markdown",
      "metadata": {
        "collapsed": true,
        "pycharm": {
          "name": "#%% md\n"
        }
      },
      "source": "# 序列化数据\n\n- 语言 : [batch, seq_len, feature_dims]\n\n"
    },
    {
      "cell_type": "code",
      "execution_count": 1,
      "outputs": [],
      "source": "import tensorflow as tf\nfrom tensorflow import keras\n",
      "metadata": {
        "pycharm": {
          "metadata": false,
          "name": "#%%\n",
          "is_executing": false
        }
      }
    },
    {
      "cell_type": "code",
      "execution_count": 2,
      "outputs": [
        {
          "name": "stdout",
          "text": [
            "tf.Tensor([2 1 3 0 4], shape\u003d(5,), dtype\u003dint32)\n"
          ],
          "output_type": "stream"
        }
      ],
      "source": "x \u003d tf.range(5)\nx \u003d tf.random.shuffle(x)\nprint(x)\n",
      "metadata": {
        "pycharm": {
          "metadata": false,
          "name": "#%%\n",
          "is_executing": false
        }
      }
    },
    {
      "cell_type": "code",
      "execution_count": 3,
      "outputs": [
        {
          "data": {
            "text/plain": "\u003ctf.Tensor: id\u003d22, shape\u003d(5, 4), dtype\u003dfloat32, numpy\u003d\narray([[-0.03609692,  0.04109354,  0.00898855, -0.02845278],\n       [-0.01840137, -0.0363839 ,  0.00360017, -0.04039004],\n       [-0.01330985,  0.0114594 ,  0.00912386, -0.02052574],\n       [ 0.00583205,  0.00259447, -0.0178232 ,  0.01124288],\n       [ 0.00714461, -0.02769746, -0.03048461,  0.00566433]],\n      dtype\u003dfloat32)\u003e"
          },
          "metadata": {},
          "output_type": "execute_result",
          "execution_count": 3
        }
      ],
      "source": "# embedding layer\nnet \u003d keras.layers.Embedding(10, 4) # vocab : 10, dims : 4\nnet(x)\n",
      "metadata": {
        "pycharm": {
          "metadata": false,
          "name": "#%%\n",
          "is_executing": false
        }
      }
    },
    {
      "cell_type": "code",
      "execution_count": 4,
      "outputs": [
        {
          "name": "stdout",
          "text": [
            "True\n[\u003ctf.Variable \u0027embedding/embeddings:0\u0027 shape\u003d(10, 4) dtype\u003dfloat32, numpy\u003d\narray([[ 5.8320537e-03,  2.5944710e-03, -1.7823197e-02,  1.1242878e-02],\n       [-1.8401373e-02, -3.6383905e-02,  3.6001690e-03, -4.0390037e-02],\n       [-3.6096919e-02,  4.1093539e-02,  8.9885481e-03, -2.8452778e-02],\n       [-1.3309848e-02,  1.1459399e-02,  9.1238618e-03, -2.0525742e-02],\n       [ 7.1446076e-03, -2.7697457e-02, -3.0484606e-02,  5.6643263e-03],\n       [-8.9195147e-03, -1.3125740e-02, -3.3897839e-02,  3.5523985e-02],\n       [ 4.4082318e-02, -2.7012695e-02, -8.7805875e-03, -1.0815371e-02],\n       [-6.1817095e-04, -3.1836823e-02,  1.5756939e-02,  3.0123200e-02],\n       [ 6.0044229e-05, -3.9025545e-03, -2.3969365e-02,  1.0941029e-03],\n       [-1.7123438e-02, -2.5464905e-02,  4.7005627e-02, -1.0920882e-02]],\n      dtype\u003dfloat32)\u003e]\n"
          ],
          "output_type": "stream"
        }
      ],
      "source": "print(net.trainable)\nprint(net.trainable_variables)\n",
      "metadata": {
        "pycharm": {
          "metadata": false,
          "name": "#%%\n",
          "is_executing": false
        }
      }
    },
    {
      "cell_type": "markdown",
      "source": "## 循环神经网络\n\n- weight sharing\n- consistent memory\n \n ",
      "metadata": {
        "pycharm": {
          "metadata": false,
          "name": "#%% md\n"
        }
      }
    },
    {
      "cell_type": "code",
      "execution_count": 5,
      "outputs": [],
      "source": "cell \u003d keras.layers.SimpleRNNCell(3)\ncell.build(input_shape\u003d(None, 4))\n",
      "metadata": {
        "pycharm": {
          "metadata": false,
          "name": "#%%\n",
          "is_executing": false
        }
      }
    },
    {
      "cell_type": "code",
      "execution_count": 6,
      "outputs": [
        {
          "data": {
            "text/plain": "[\u003ctf.Variable \u0027kernel:0\u0027 shape\u003d(4, 3) dtype\u003dfloat32, numpy\u003d\n array([[ 0.2742194 , -0.678669  ,  0.68380105],\n        [-0.3843025 ,  0.0419659 ,  0.1113162 ],\n        [-0.7594901 ,  0.01632738, -0.02263504],\n        [-0.6028076 , -0.45310733, -0.88365376]], dtype\u003dfloat32)\u003e,\n \u003ctf.Variable \u0027recurrent_kernel:0\u0027 shape\u003d(3, 3) dtype\u003dfloat32, numpy\u003d\n array([[ 0.85576653, -0.09808186, -0.50797975],\n        [ 0.26543722,  0.92602444,  0.26836917],\n        [ 0.44407952, -0.3644981 ,  0.8184953 ]], dtype\u003dfloat32)\u003e,\n \u003ctf.Variable \u0027bias:0\u0027 shape\u003d(3,) dtype\u003dfloat32, numpy\u003darray([0., 0., 0.], dtype\u003dfloat32)\u003e]"
          },
          "metadata": {},
          "output_type": "execute_result",
          "execution_count": 6
        }
      ],
      "source": "cell.trainable_variables\n",
      "metadata": {
        "pycharm": {
          "metadata": false,
          "name": "#%%\n",
          "is_executing": false
        }
      }
    },
    {
      "cell_type": "code",
      "execution_count": null,
      "outputs": [],
      "source": "\n",
      "metadata": {
        "pycharm": {
          "metadata": false,
          "name": "#%%\n"
        }
      }
    }
  ],
  "metadata": {
    "language_info": {
      "codemirror_mode": {
        "name": "ipython",
        "version": 2
      },
      "file_extension": ".py",
      "mimetype": "text/x-python",
      "name": "python",
      "nbconvert_exporter": "python",
      "pygments_lexer": "ipython2",
      "version": "2.7.6"
    },
    "kernelspec": {
      "name": "python3",
      "language": "python",
      "display_name": "Python 3"
    }
  },
  "nbformat": 4,
  "nbformat_minor": 0
}