{
  "cells": [
    {
      "cell_type": "markdown",
      "metadata": {
        "collapsed": true,
        "pycharm": {
          "name": "#%% md\n"
        }
      },
      "source": "# 加载`MNIST`数据集\n"
    },
    {
      "cell_type": "code",
      "execution_count": 1,
      "outputs": [
        {
          "name": "stderr",
          "text": [
            "Using TensorFlow backend.\n"
          ],
          "output_type": "stream"
        },
        {
          "name": "stdout",
          "text": [
            "(60000, 28, 28) (60000,)\n(10000, 28, 28) (10000,)\n"
          ],
          "output_type": "stream"
        }
      ],
      "source": "from keras.datasets import mnist\n(x_train, y_train), (x_test, y_test) \u003d mnist.load_data(path\u003d\u0027D:\\\\code\\workspace-self\\\\tensorflow-pg\\\\data\\\\mnist\\\\mnist.npz\u0027)\nprint(x_train.shape, y_train.shape)\nprint(x_test.shape, y_test.shape)\n",
      "metadata": {
        "pycharm": {
          "metadata": false,
          "name": "#%%\n",
          "is_executing": false
        }
      }
    },
    {
      "cell_type": "markdown",
      "source": "## 引入第三方库\n",
      "metadata": {
        "pycharm": {
          "metadata": false,
          "name": "#%% md\n"
        }
      }
    },
    {
      "cell_type": "code",
      "execution_count": 6,
      "outputs": [],
      "source": "from keras.models import Sequential\nfrom keras.layers import LSTM, Dense, Dropout\nimport numpy as np\n",
      "metadata": {
        "pycharm": {
          "metadata": false,
          "name": "#%%\n",
          "is_executing": false
        }
      }
    },
    {
      "cell_type": "code",
      "execution_count": 11,
      "outputs": [],
      "source": "# define global variables\nTIME_STEPS \u003d 28 # timesteps to unroll\nN_UNITS \u003d 128 # hidden LSTM units\nn_inputs \u003d 28 \nn_classes \u003d 10\nbatch_size \u003d 128\nepochs \u003d 10\n",
      "metadata": {
        "pycharm": {
          "metadata": false,
          "name": "#%%\n",
          "is_executing": false
        }
      }
    },
    {
      "cell_type": "markdown",
      "source": "# 数据规范化\n",
      "metadata": {
        "pycharm": {
          "metadata": false,
          "name": "#%% md\n"
        }
      }
    },
    {
      "cell_type": "code",
      "execution_count": 3,
      "outputs": [],
      "source": "# 将数据类型转换为`float32`\n# 将数据类型转化为float32\nX_train \u003d x_train.astype(\u0027float32\u0027)\nX_test \u003d x_test.astype(\u0027float32\u0027)\n\n# 归一化\nX_train /\u003d 255\nX_test /\u003d 255\n",
      "metadata": {
        "pycharm": {
          "metadata": false,
          "name": "#%%\n",
          "is_executing": false
        }
      }
    },
    {
      "cell_type": "markdown",
      "source": "## 预测值进行编码\n",
      "metadata": {
        "pycharm": {
          "metadata": false,
          "name": "#%% md\n"
        }
      }
    },
    {
      "cell_type": "code",
      "execution_count": 4,
      "outputs": [
        {
          "name": "stdout",
          "text": [
            "Shape before one-hot encoding:  (60000,)\nShape after one-hot encoding:  (60000, 10)\n"
          ],
          "output_type": "stream"
        }
      ],
      "source": "from keras.utils import np_utils\n\nn_classes \u003d 10\nprint(\"Shape before one-hot encoding: \", y_train.shape)\nY_train \u003d np_utils.to_categorical(y_train, n_classes)\nprint(\"Shape after one-hot encoding: \", Y_train.shape)\nY_test \u003d np_utils.to_categorical(y_test, n_classes)\n",
      "metadata": {
        "pycharm": {
          "metadata": false,
          "name": "#%%\n",
          "is_executing": false
        }
      }
    },
    {
      "cell_type": "markdown",
      "source": "# 构建模型\n",
      "metadata": {
        "pycharm": {
          "metadata": false,
          "name": "#%% md\n"
        }
      }
    },
    {
      "cell_type": "code",
      "execution_count": 8,
      "outputs": [],
      "source": "model \u003d Sequential()\n# 第一层LSTM层，128个神经元\nmodel.add(LSTM(N_UNITS, input_shape\u003d(TIME_STEPS, n_inputs)))\n\n# 全连接层\nmodel.add(Dense(N_UNITS, activation\u003d\u0027relu\u0027))\n# Dropout\nmodel.add(Dropout(0.5))\nmodel.add(Dense(n_classes, activation\u003d\u0027softmax\u0027))\n\n",
      "metadata": {
        "pycharm": {
          "metadata": false,
          "name": "#%%\n",
          "is_executing": false
        }
      }
    },
    {
      "cell_type": "markdown",
      "source": "# 查看`MNIST LSTM`模型网络结构\n",
      "metadata": {
        "pycharm": {
          "metadata": false,
          "name": "#%% md\n"
        }
      }
    },
    {
      "cell_type": "code",
      "execution_count": 9,
      "outputs": [
        {
          "name": "stdout",
          "text": [
            "_________________________________________________________________\nLayer (type)                 Output Shape              Param #   \n\u003d\u003d\u003d\u003d\u003d\u003d\u003d\u003d\u003d\u003d\u003d\u003d\u003d\u003d\u003d\u003d\u003d\u003d\u003d\u003d\u003d\u003d\u003d\u003d\u003d\u003d\u003d\u003d\u003d\u003d\u003d\u003d\u003d\u003d\u003d\u003d\u003d\u003d\u003d\u003d\u003d\u003d\u003d\u003d\u003d\u003d\u003d\u003d\u003d\u003d\u003d\u003d\u003d\u003d\u003d\u003d\u003d\u003d\u003d\u003d\u003d\u003d\u003d\u003d\u003d\nlstm_2 (LSTM)                (None, 128)               80384     \n_________________________________________________________________\ndense_3 (Dense)              (None, 128)               16512     \n_________________________________________________________________\ndropout_2 (Dropout)          (None, 128)               0         \n_________________________________________________________________\ndense_4 (Dense)              (None, 10)                1290      \n\u003d\u003d\u003d\u003d\u003d\u003d\u003d\u003d\u003d\u003d\u003d\u003d\u003d\u003d\u003d\u003d\u003d\u003d\u003d\u003d\u003d\u003d\u003d\u003d\u003d\u003d\u003d\u003d\u003d\u003d\u003d\u003d\u003d\u003d\u003d\u003d\u003d\u003d\u003d\u003d\u003d\u003d\u003d\u003d\u003d\u003d\u003d\u003d\u003d\u003d\u003d\u003d\u003d\u003d\u003d\u003d\u003d\u003d\u003d\u003d\u003d\u003d\u003d\u003d\u003d\nTotal params: 98,186\nTrainable params: 98,186\nNon-trainable params: 0\n_________________________________________________________________\n"
          ],
          "output_type": "stream"
        }
      ],
      "source": "model.summary()\n",
      "metadata": {
        "pycharm": {
          "metadata": false,
          "name": "#%%\n",
          "is_executing": false
        }
      }
    },
    {
      "cell_type": "markdown",
      "source": "# 编译模型\n",
      "metadata": {
        "pycharm": {
          "metadata": false,
          "name": "#%% md\n"
        }
      }
    },
    {
      "cell_type": "code",
      "execution_count": 10,
      "outputs": [],
      "source": "model.compile(loss\u003d\u0027categorical_crossentropy\u0027,\n              optimizer\u003d\u0027adam\u0027,\n              metrics\u003d[\u0027accuracy\u0027])\n",
      "metadata": {
        "pycharm": {
          "metadata": false,
          "name": "#%%\n",
          "is_executing": false
        }
      }
    },
    {
      "cell_type": "markdown",
      "source": "# 训练模型，将指标保存到`history`\n",
      "metadata": {
        "pycharm": {
          "metadata": false,
          "name": "#%% md\n"
        }
      }
    },
    {
      "cell_type": "code",
      "execution_count": 12,
      "outputs": [
        {
          "name": "stdout",
          "text": [
            "WARNING:tensorflow:From D:\\programs\\conda\\lib\\site-packages\\tensorflow\\python\\ops\\math_ops.py:3066: to_int32 (from tensorflow.python.ops.math_ops) is deprecated and will be removed in a future version.\nInstructions for updating:\nUse tf.cast instead.\n",
            "Train on 60000 samples, validate on 10000 samples\nEpoch 1/10\n",
            " - 18s - loss: 0.6359 - acc: 0.7939 - val_loss: 0.2067 - val_acc: 0.9377\n",
            "Epoch 2/10\n",
            " - 18s - loss: 0.1968 - acc: 0.9440 - val_loss: 0.1323 - val_acc: 0.9613\n",
            "Epoch 3/10\n",
            " - 17s - loss: 0.1328 - acc: 0.9632 - val_loss: 0.1000 - val_acc: 0.9697\n",
            "Epoch 4/10\n",
            " - 16s - loss: 0.1005 - acc: 0.9716 - val_loss: 0.0914 - val_acc: 0.9709\n",
            "Epoch 5/10\n",
            " - 16s - loss: 0.0816 - acc: 0.9776 - val_loss: 0.0645 - val_acc: 0.9795\n",
            "Epoch 6/10\n",
            " - 16s - loss: 0.0699 - acc: 0.9798 - val_loss: 0.0622 - val_acc: 0.9806\n",
            "Epoch 7/10\n",
            " - 16s - loss: 0.0589 - acc: 0.9831 - val_loss: 0.0520 - val_acc: 0.9856\n",
            "Epoch 8/10\n",
            " - 16s - loss: 0.0535 - acc: 0.9846 - val_loss: 0.0508 - val_acc: 0.9834\n",
            "Epoch 9/10\n",
            " - 16s - loss: 0.0443 - acc: 0.9873 - val_loss: 0.0595 - val_acc: 0.9824\n",
            "Epoch 10/10\n",
            " - 16s - loss: 0.0427 - acc: 0.9876 - val_loss: 0.0489 - val_acc: 0.9847\n"
          ],
          "output_type": "stream"
        }
      ],
      "source": "history \u003d model.fit(X_train,\n                    Y_train,\n                    batch_size\u003dbatch_size,\n                    epochs\u003depochs,\n                    verbose\u003d2,\n                    validation_data\u003d(X_test, Y_test))\n",
      "metadata": {
        "pycharm": {
          "metadata": false,
          "name": "#%%\n",
          "is_executing": false
        }
      }
    },
    {
      "cell_type": "code",
      "execution_count": null,
      "outputs": [],
      "source": "\n",
      "metadata": {
        "pycharm": {
          "metadata": false,
          "name": "#%%\n"
        }
      }
    }
  ],
  "metadata": {
    "language_info": {
      "codemirror_mode": {
        "name": "ipython",
        "version": 2
      },
      "file_extension": ".py",
      "mimetype": "text/x-python",
      "name": "python",
      "nbconvert_exporter": "python",
      "pygments_lexer": "ipython2",
      "version": "2.7.6"
    },
    "kernelspec": {
      "name": "python3",
      "language": "python",
      "display_name": "Python 3"
    }
  },
  "nbformat": 4,
  "nbformat_minor": 0
}