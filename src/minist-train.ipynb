{
  "cells": [
    {
      "cell_type": "markdown",
      "source": "# `MNIST`数据加载\n",
      "metadata": {
        "pycharm": {
          "metadata": false
        }
      }
    },
    {
      "cell_type": "code",
      "execution_count": 1,
      "metadata": {
        "collapsed": true,
        "pycharm": {
          "is_executing": false
        }
      },
      "outputs": [
        {
          "name": "stderr",
          "text": [
            "D:\\programs\\conda\\lib\\site-packages\\ipykernel\\parentpoller.py:116: UserWarning: Parent poll failed.  If the frontend dies,\n                the kernel may be left running.  Please let us know\n                about your system (bitness, Python, etc.) at\n                ipython-dev@scipy.org\n  ipython-dev@scipy.org\"\"\")\n",
            "Using TensorFlow backend.\n"
          ],
          "output_type": "stream"
        }
      ],
      "source": "from keras.datasets import mnist\n(x_train, y_train), (x_test, y_test) \u003d mnist.load_data(path\u003d\u0027D:\\\\code\\workspace-self\\\\tensorflow-pg\\\\data\\\\mnist\\\\mnist.npz\u0027)"
    },
    {
      "cell_type": "code",
      "execution_count": 2,
      "outputs": [
        {
          "name": "stdout",
          "text": [
            "(60000, 28, 28) (60000,)\n(10000, 28, 28) (10000,)\n"
          ],
          "output_type": "stream"
        }
      ],
      "source": "print(x_train.shape, y_train.shape)\nprint(x_test.shape, y_test.shape)\n",
      "metadata": {
        "pycharm": {
          "metadata": false,
          "name": "#%%\n",
          "is_executing": false
        }
      }
    },
    {
      "cell_type": "markdown",
      "source": "# 数据规范化\n",
      "metadata": {
        "pycharm": {
          "metadata": false
        }
      }
    },
    {
      "cell_type": "code",
      "execution_count": 4,
      "outputs": [
        {
          "name": "stdout",
          "text": [
            "(60000, 784) \u003cclass \u0027numpy.ndarray\u0027\u003e\n(10000, 784) \u003cclass \u0027numpy.ndarray\u0027\u003e\n"
          ],
          "output_type": "stream"
        }
      ],
      "source": "# 将图像本身从[28,28]装换为[784,]\nX_train \u003d x_train.reshape(60000, 784)\nX_test \u003d x_test.reshape(10000, 784)\nprint(X_train.shape, type(X_train))\nprint(X_test.shape, type(X_test))\n",
      "metadata": {
        "pycharm": {
          "metadata": false,
          "name": "#%%\n",
          "is_executing": false
        }
      }
    },
    {
      "cell_type": "code",
      "execution_count": 5,
      "outputs": [],
      "source": "# 将数据类型转化为float32\nX_train \u003d X_train.astype(\u0027float32\u0027)\nX_test \u003d X_test.astype(\u0027float32\u0027)\n\n# 归一化\nX_train /\u003d 255\nX_test /\u003d 255\n",
      "metadata": {
        "pycharm": {
          "metadata": false,
          "name": "#%%\n",
          "is_executing": false
        }
      }
    },
    {
      "cell_type": "markdown",
      "source": "# 统计训练数据中各标签的数量\n",
      "metadata": {
        "pycharm": {
          "metadata": false,
          "name": "#%% md\n"
        }
      }
    },
    {
      "cell_type": "code",
      "execution_count": 8,
      "outputs": [
        {
          "data": {
            "text/plain": "\u003cFigure size 432x288 with 1 Axes\u003e",
            "image/png": "[encoded data removed]"
          },
          "metadata": {
            "needs_background": "light"
          },
          "output_type": "display_data"
        }
      ],
      "source": "import numpy as np\nimport matplotlib.pyplot as plt\n\nlabel, count \u003d np.unique(y_train, return_counts\u003dTrue)\n\nfig \u003d plt.figure()\nplt.bar(label, count, width\u003d0.7, align\u003d\u0027center\u0027)\nplt.title(\u0027Label Distribution\u0027)\nplt.xlabel(\u0027Label\u0027)\nplt.ylabel(\u0027Count\u0027)\nplt.xticks(label)\nplt.ylim(0, 7500)\n\nfor a, b in zip(label, count):\n    plt.text(a, b, \"%d\"%b, ha\u003d\u0027center\u0027, fontsize\u003d10)\nplt.show(fig)\n",
      "metadata": {
        "pycharm": {
          "metadata": false,
          "name": "#%%\n",
          "is_executing": false
        }
      }
    },
    {
      "cell_type": "markdown",
      "source": "# 数据处理： one-hot\n\n几种编码方式对比\n\n| Binary | Gray code | one hot  |\n| ------ | --------- | -------- |\n| 000    | 000       | 00000001 |\n| 001    | 001       | 00000010 |\n| 010    | 011       | 00000100 |\n| 011    | 010       | 00001000 |\n| 100    | 110       | 00010000 |\n| 101    | 111       | 00100000 |\n| 110    | 101       | 01000000 |\n| 111    | 100       | 10000000 |\n",
      "metadata": {
        "pycharm": {
          "metadata": false,
          "name": "#%% md\n"
        }
      }
    },
    {
      "cell_type": "code",
      "execution_count": 9,
      "outputs": [
        {
          "name": "stdout",
          "text": [
            "Shape before one-hot encoding:  (60000,)\nShape after one-hot encoding:  (60000, 10)\n"
          ],
          "output_type": "stream"
        }
      ],
      "source": "from keras.utils import np_utils\n\nn_classes \u003d 10\nprint(\"Shape before one-hot encoding: \", y_train.shape)\nY_train \u003d np_utils.to_categorical(y_train, n_classes)\nprint(\"Shape after one-hot encoding: \", Y_train.shape)\nY_test \u003d np_utils.to_categorical(y_test, n_classes)\n",
      "metadata": {
        "pycharm": {
          "metadata": false,
          "name": "#%%\n",
          "is_executing": false
        }
      }
    },
    {
      "cell_type": "markdown",
      "source": "# 使用`Keras sequential model`定义`softmax`网络层\n",
      "metadata": {
        "pycharm": {
          "metadata": false,
          "name": "#%% md\n"
        }
      }
    },
    {
      "cell_type": "code",
      "execution_count": 10,
      "outputs": [
        {
          "name": "stdout",
          "text": [
            "WARNING:tensorflow:From D:\\programs\\conda\\lib\\site-packages\\tensorflow\\python\\framework\\op_def_library.py:263: colocate_with (from tensorflow.python.framework.ops) is deprecated and will be removed in a future version.\nInstructions for updating:\nColocations handled automatically by placer.\n"
          ],
          "output_type": "stream"
        }
      ],
      "source": "from keras.models import Sequential\nfrom keras.layers.core import Dense, Activation\n\nmodel \u003d Sequential()\nmodel.add(Dense(512, input_shape\u003d(784,)))\nmodel.add(Activation(\u0027relu\u0027))\n\nmodel.add(Dense(512))\nmodel.add(Activation(\u0027relu\u0027))\n\nmodel.add(Dense(10))\nmodel.add(Activation(\u0027softmax\u0027))\n",
      "metadata": {
        "pycharm": {
          "metadata": false,
          "name": "#%%\n",
          "is_executing": false
        }
      }
    },
    {
      "cell_type": "markdown",
      "source": "# 编译模型\n",
      "metadata": {
        "pycharm": {
          "metadata": false,
          "name": "#%% md\n"
        }
      }
    },
    {
      "cell_type": "code",
      "source": "model.compile(loss\u003d\u0027categorical_crossentropy\u0027, metrics\u003d[\u0027accuracy\u0027], optimizer\u003d\u0027adam\u0027)\n",
      "metadata": {
        "pycharm": {
          "metadata": false,
          "name": "#%%\n",
          "is_executing": false
        }
      },
      "execution_count": 11,
      "outputs": []
    },
    {
      "cell_type": "markdown",
      "source": "# 训练模型，将指标保存到history\n\n",
      "metadata": {
        "pycharm": {
          "metadata": false,
          "name": "#%% md\n"
        }
      }
    },
    {
      "cell_type": "code",
      "execution_count": 12,
      "outputs": [
        {
          "name": "stdout",
          "text": [
            "WARNING:tensorflow:From D:\\programs\\conda\\lib\\site-packages\\tensorflow\\python\\ops\\math_ops.py:3066: to_int32 (from tensorflow.python.ops.math_ops) is deprecated and will be removed in a future version.\nInstructions for updating:\nUse tf.cast instead.\n",
            "Train on 60000 samples, validate on 10000 samples\nEpoch 1/5\n",
            " - 7s - loss: 0.2154 - acc: 0.9352 - val_loss: 0.0999 - val_acc: 0.9683\n",
            "Epoch 2/5\n",
            " - 7s - loss: 0.0795 - acc: 0.9757 - val_loss: 0.0751 - val_acc: 0.9778\n",
            "Epoch 3/5\n",
            " - 7s - loss: 0.0523 - acc: 0.9836 - val_loss: 0.0720 - val_acc: 0.9781\n",
            "Epoch 4/5\n",
            " - 8s - loss: 0.0361 - acc: 0.9880 - val_loss: 0.0840 - val_acc: 0.9748\n",
            "Epoch 5/5\n",
            " - 8s - loss: 0.0268 - acc: 0.9915 - val_loss: 0.0705 - val_acc: 0.9788\n"
          ],
          "output_type": "stream"
        }
      ],
      "source": "history \u003d model.fit(X_train,\n                    Y_train,\n                    batch_size\u003d128,\n                    epochs\u003d5,\n                    verbose\u003d2,\n                    validation_data\u003d(X_test, Y_test))\n",
      "metadata": {
        "pycharm": {
          "metadata": false,
          "name": "#%%\n",
          "is_executing": false
        }
      }
    },
    {
      "cell_type": "markdown",
      "source": "# 可视化训练过程\n",
      "metadata": {
        "pycharm": {
          "metadata": false,
          "name": "#%% md\n"
        }
      }
    },
    {
      "cell_type": "code",
      "execution_count": 13,
      "outputs": [
        {
          "data": {
            "text/plain": "\u003cFigure size 432x288 with 2 Axes\u003e",
            "image/png": "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\u003d\n"
          },
          "metadata": {
            "needs_background": "light"
          },
          "output_type": "display_data"
        }
      ],
      "source": "fig2 \u003d plt.figure()\nplt.subplot(2, 1, 1)\nplt.plot(history.history[\u0027acc\u0027])\nplt.plot(history.history[\u0027val_acc\u0027])\nplt.title(\u0027Model Accuracy\u0027)\nplt.ylabel(\u0027accuracy\u0027)\nplt.xlabel(\u0027epoch\u0027)\nplt.legend([\u0027train\u0027, \u0027test\u0027], loc\u003d\u0027lower right\u0027)\n\nplt.subplot(2, 1, 2)\nplt.plot(history.history[\u0027loss\u0027])\nplt.plot(history.history[\u0027val_loss\u0027])\nplt.title(\u0027Model Loss\u0027)\nplt.ylabel(\u0027loss\u0027)\nplt.xlabel(\u0027epoch\u0027)\nplt.legend([\u0027train\u0027, \u0027test\u0027], loc\u003d\u0027upper right\u0027)\nplt.tight_layout()\n\nplt.show()\n",
      "metadata": {
        "pycharm": {
          "metadata": false,
          "name": "#%%\n",
          "is_executing": false
        }
      }
    },
    {
      "cell_type": "markdown",
      "source": "# 保存模型\n\n`model.save()`: save model to single **HDF5**, can use load_model to reinstantiate model\n",
      "metadata": {
        "pycharm": {
          "metadata": false,
          "name": "#%% md\n"
        }
      }
    },
    {
      "cell_type": "code",
      "execution_count": 14,
      "outputs": [
        {
          "name": "stdout",
          "text": [
            "Saved trained model as D:\\code\\workspace-self\\tensorflow-pg\\out\\minist\\keras_mnist.h5\n"
          ],
          "output_type": "stream"
        }
      ],
      "source": "import os \nfrom tensorflow import gfile\n\nsave_dir \u003d \"D:\\\\code\\\\workspace-self\\\\tensorflow-pg\\\\out\\\\minist\"\n\nif gfile.Exists(save_dir):\n    gfile.DeleteRecursively(save_dir)\ngfile.MakeDirs(save_dir)\n\nmodel_name \u003d \u0027keras_mnist.h5\u0027\nmodel_path \u003d os.path.join(save_dir, model_name)\nmodel.save(model_path)\n\nprint(\"Saved trained model as %s\" % model_path)\n\n",
      "metadata": {
        "pycharm": {
          "metadata": false,
          "name": "#%%\n",
          "is_executing": false
        }
      }
    },
    {
      "cell_type": "markdown",
      "source": "# 加载模型\n",
      "metadata": {
        "pycharm": {
          "metadata": false,
          "name": "#%% md\n"
        }
      }
    },
    {
      "cell_type": "code",
      "execution_count": 15,
      "outputs": [
        {
          "name": "stdout",
          "text": [
            "Test Loss: 0.07051058908833074\nTest Accuracy: 97.88\n",
            "classified correctly count : 9788\nclassified incorrectly count : 212\n"
          ],
          "output_type": "stream"
        }
      ],
      "source": "from keras.models import load_model\nmnist_model \u003d load_model(model_path)\n\nloss_and_metrics \u003d mnist_model.evaluate(X_test, Y_test, verbose\u003d2)\n\nprint(\"Test Loss: {}\".format(loss_and_metrics[0]))\nprint(\"Test Accuracy: {}\".format(loss_and_metrics[1] * 100))\n\npredicted_classes \u003d mnist_model.predict_classes(X_test)\n\ncorrect_indices \u003d np.count_nonzero(predicted_classes \u003d\u003d y_test)\nincorrect_indices \u003d np.count_nonzero(predicted_classes !\u003d y_test)\nprint(\"classified correctly count : {}\".format(correct_indices))\nprint(\"classified incorrectly count : {}\".format(incorrect_indices))",
      "metadata": {
        "pycharm": {
          "metadata": false,
          "name": "#%%\n",
          "is_executing": false
        }
      }
    },
    {
      "cell_type": "code",
      "execution_count": null,
      "outputs": [],
      "source": "\n",
      "metadata": {
        "pycharm": {
          "metadata": false,
          "name": "#%%\n"
        }
      }
    }
  ],
  "metadata": {
    "language_info": {
      "codemirror_mode": {
        "name": "ipython",
        "version": 2
      },
      "file_extension": ".py",
      "mimetype": "text/x-python",
      "name": "python",
      "nbconvert_exporter": "python",
      "pygments_lexer": "ipython2",
      "version": "2.7.6"
    },
    "kernelspec": {
      "name": "python3",
      "language": "python",
      "display_name": "Python 3"
    },
    "stem_cell": {
      "cell_type": "raw",
      "source": "",
      "metadata": {
        "pycharm": {
          "metadata": false
        }
      }
    }
  },
  "nbformat": 4,
  "nbformat_minor": 0
}